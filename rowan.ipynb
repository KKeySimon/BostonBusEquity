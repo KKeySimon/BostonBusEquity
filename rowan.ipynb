{
 "cells": [
  {
   "cell_type": "code",
   "execution_count": 4,
   "id": "d82f35e6-a1b9-4df2-8a07-a92c491042d5",
   "metadata": {},
   "outputs": [],
   "source": [
    "import pandas as pd"
   ]
  },
  {
   "cell_type": "code",
   "execution_count": 5,
   "id": "647efe22-998c-4edd-bdf2-2c88d47eb2e5",
   "metadata": {},
   "outputs": [
    {
     "name": "stdout",
     "output_type": "stream",
     "text": [
      "Original Columns: ['FILEID', 'STUSAB', 'SUMLEV', 'GEOID', 'GEOCODE', 'REGION', 'DIVISION', 'STATE', 'COUNTY', 'COUSUB', 'TRACT', 'P0020001', 'P0020005', 'P0020006', 'P0020002', 'P0020008', 'P0020007', 'P0020009', 'P0020010', 'P0020011', 'P0040001', 'P0040005', 'P0040006', 'P0040002', 'P0040008', 'P0040007', 'P0040009', 'P0040010', 'P0040011', 'P0050001', 'P0050002', 'P0050003', 'P0050004', 'P0050005', 'P0050006', 'P0050007', 'P0050008', 'P0050009', 'P0050010', 'H0010001', 'H0010002', 'H0010003']\n",
      "Renamed Columns: ['fileid', 'stusab', 'sumlev', 'Census_Tract_ID', 'Tract_Code', 'region', 'division', 'state', 'county', 'cousub', 'Tract_Number', 'Total_Population', 'Black_Population', 'Native_Population', 'White_Population', 'Pacific_Population', 'Asian_Population', 'Other_Race_Population', 'Two_or_More_Races', 'p0020011', 'p0040001', 'p0040005', 'p0040006', 'Hispanic_Population', 'p0040008', 'p0040007', 'p0040009', 'p0040010', 'p0040011', 'p0050001', 'p0050002', 'p0050003', 'p0050004', 'p0050005', 'p0050006', 'p0050007', 'p0050008', 'p0050009', 'p0050010', 'Total_Housing_Units', 'Occupied_Housing_Units', 'Vacant_Housing_Units']\n",
      "Cleaned census data saved as 'cleaned_2020_census_data.csv'.\n"
     ]
    }
   ],
   "source": [
    "# census raw data\n",
    "file_path = \"data/census-tract-data.csv\"  # Update this if needed\n",
    "df = pd.read_csv(file_path)\n",
    "\n",
    "print(\"Original Columns:\", df.columns.tolist())\n",
    "df.columns = df.columns.str.lower()\n",
    "\n",
    "\n",
    "# rename columns\n",
    "column_mapping = {\n",
    "    \"geoid\": \"Census_Tract_ID\",\n",
    "    \"geocode\": \"Tract_Code\",\n",
    "    \"tract\": \"Tract_Number\",\n",
    "    \"p0020001\": \"Total_Population\",\n",
    "    \"p0020002\": \"White_Population\",\n",
    "    \"p0020005\": \"Black_Population\",\n",
    "    \"p0020006\": \"Native_Population\",\n",
    "    \"p0020007\": \"Asian_Population\",\n",
    "    \"p0020008\": \"Pacific_Population\",\n",
    "    \"p0020009\": \"Other_Race_Population\",\n",
    "    \"p0020010\": \"Two_or_More_Races\",\n",
    "    \"p0040002\": \"Hispanic_Population\",\n",
    "    \"h0010001\": \"Total_Housing_Units\",\n",
    "    \"h0010002\": \"Occupied_Housing_Units\",\n",
    "    \"h0010003\": \"Vacant_Housing_Units\"\n",
    "}\n",
    "\n",
    "# check for actual existing columns\n",
    "existing_columns = {col: new_col for col, new_col in column_mapping.items() if col in df.columns}\n",
    "df = df.rename(columns=existing_columns)\n",
    "\n",
    "print(\"Renamed Columns:\", df.columns.tolist())\n",
    "\n",
    "# drop unecessary columns\n",
    "drop_columns = [\"fileid\", \"stusab\", \"sumlev\", \"region\", \"division\", \"state\", \"county\", \"cousub\"]\n",
    "df = df.drop(columns=[col for col in drop_columns if col in df.columns], errors=\"ignore\")\n",
    "\n",
    "# convert numeric columns to useful names\n",
    "numeric_cols = list(existing_columns.values())\n",
    "df[numeric_cols] = df[numeric_cols].apply(pd.to_numeric, errors=\"coerce\")\n",
    "\n",
    "# handle missing data columns\n",
    "if \"Total_Population\" in df.columns:\n",
    "    df = df.dropna(subset=[\"Total_Population\"])\n",
    "else:\n",
    "    print(\"'Total_Population' column not found.\")\n",
    "\n",
    "# calculate demographic percentages\n",
    "race_columns = []\n",
    "if \"White_Population\" in df.columns:\n",
    "    df[\"Percent_White\"] = (df[\"White_Population\"] / df[\"Total_Population\"]) * 100\n",
    "    race_columns.append(\"Percent_White\")\n",
    "if \"Black_Population\" in df.columns:\n",
    "    df[\"Percent_Black\"] = (df[\"Black_Population\"] / df[\"Total_Population\"]) * 100\n",
    "    race_columns.append(\"Percent_Black\")\n",
    "if \"Hispanic_Population\" in df.columns:\n",
    "    df[\"Percent_Hispanic\"] = (df[\"Hispanic_Population\"] / df[\"Total_Population\"]) * 100\n",
    "    race_columns.append(\"Percent_Hispanic\")\n",
    "if \"Asian_Population\" in df.columns:\n",
    "    df[\"Percent_Asian\"] = (df[\"Asian_Population\"] / df[\"Total_Population\"]) * 100\n",
    "    race_columns.append(\"Percent_Asian\")\n",
    "if all(x in df.columns for x in [\"Native_Population\", \"Pacific_Population\", \"Other_Race_Population\", \"Two_or_More_Races\"]):\n",
    "    df[\"Percent_Other\"] = ((df[\"Native_Population\"] + df[\"Pacific_Population\"] +\n",
    "                            df[\"Other_Race_Population\"] + df[\"Two_or_More_Races\"]) / df[\"Total_Population\"]) * 100\n",
    "    race_columns.append(\"Percent_Other\")\n",
    "\n",
    "df.fillna(0, inplace=True)\n",
    "\n",
    "# normalize percentages and remove extremely low populations\n",
    "if len(race_columns) > 0:\n",
    "    df[\"Total_Percent\"] = df[race_columns].sum(axis=1)\n",
    "    df.loc[df[\"Total_Percent\"] > 100, race_columns] = df.loc[df[\"Total_Percent\"] > 100, race_columns].div(df[\"Total_Percent\"], axis=0) * 100\n",
    "    df = df.drop(columns=[\"Total_Percent\"])\n",
    "\n",
    "# \n",
    "df = df[df[\"Total_Population\"] >= 10]\n",
    "\n",
    "df[race_columns] = df[race_columns].round(2)\n",
    "\n",
    "# save cleaned data\n",
    "output_file = \"cleaned_2020_census_data.csv\"\n",
    "df.to_csv(output_file, index=False)\n",
    "\n",
    "print(f\"Cleaned census data saved as '{output_file}'.\")"
   ]
  },
  {
   "cell_type": "code",
   "execution_count": null,
   "id": "4113d12b-88bf-4500-9e82-6f3b384fea78",
   "metadata": {},
   "outputs": [],
   "source": []
  }
 ],
 "metadata": {
  "kernelspec": {
   "display_name": "Python 3",
   "language": "python",
   "name": "python3"
  },
  "language_info": {
   "codemirror_mode": {
    "name": "ipython",
    "version": 3
   },
   "file_extension": ".py",
   "mimetype": "text/x-python",
   "name": "python",
   "nbconvert_exporter": "python",
   "pygments_lexer": "ipython3",
   "version": "3.13.0"
  }
 },
 "nbformat": 4,
 "nbformat_minor": 5
}
