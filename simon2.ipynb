{
 "cells": [
  {
   "cell_type": "markdown",
   "id": "b0c523b2",
   "metadata": {},
   "source": [
    "Every year was computed (took about 5 hours to compute on personal computer)."
   ]
  },
  {
   "cell_type": "code",
   "execution_count": 7,
   "id": "8eff1b89",
   "metadata": {},
   "outputs": [
    {
     "data": {
      "text/html": [
       "<div>\n",
       "<style scoped>\n",
       "    .dataframe tbody tr th:only-of-type {\n",
       "        vertical-align: middle;\n",
       "    }\n",
       "\n",
       "    .dataframe tbody tr th {\n",
       "        vertical-align: top;\n",
       "    }\n",
       "\n",
       "    .dataframe thead th {\n",
       "        text-align: right;\n",
       "    }\n",
       "</style>\n",
       "<table border=\"1\" class=\"dataframe\">\n",
       "  <thead>\n",
       "    <tr style=\"text-align: right;\">\n",
       "      <th></th>\n",
       "      <th>route_id</th>\n",
       "      <th>month</th>\n",
       "      <th>lateness</th>\n",
       "      <th>size</th>\n",
       "      <th>average_lateness</th>\n",
       "    </tr>\n",
       "  </thead>\n",
       "  <tbody>\n",
       "    <tr>\n",
       "      <th>0</th>\n",
       "      <td>01</td>\n",
       "      <td>2018-08</td>\n",
       "      <td>17535886.0</td>\n",
       "      <td>53615</td>\n",
       "      <td>327.070521</td>\n",
       "    </tr>\n",
       "    <tr>\n",
       "      <th>1</th>\n",
       "      <td>01</td>\n",
       "      <td>2018-09</td>\n",
       "      <td>18634849.0</td>\n",
       "      <td>50318</td>\n",
       "      <td>370.341607</td>\n",
       "    </tr>\n",
       "    <tr>\n",
       "      <th>2</th>\n",
       "      <td>01</td>\n",
       "      <td>2018-10</td>\n",
       "      <td>17362675.0</td>\n",
       "      <td>53733</td>\n",
       "      <td>323.128710</td>\n",
       "    </tr>\n",
       "    <tr>\n",
       "      <th>3</th>\n",
       "      <td>01</td>\n",
       "      <td>2018-11</td>\n",
       "      <td>15374531.0</td>\n",
       "      <td>50827</td>\n",
       "      <td>302.487477</td>\n",
       "    </tr>\n",
       "    <tr>\n",
       "      <th>4</th>\n",
       "      <td>01</td>\n",
       "      <td>2018-12</td>\n",
       "      <td>11708026.0</td>\n",
       "      <td>53173</td>\n",
       "      <td>220.187426</td>\n",
       "    </tr>\n",
       "  </tbody>\n",
       "</table>\n",
       "</div>"
      ],
      "text/plain": [
       "  route_id    month    lateness   size  average_lateness\n",
       "0       01  2018-08  17535886.0  53615        327.070521\n",
       "1       01  2018-09  18634849.0  50318        370.341607\n",
       "2       01  2018-10  17362675.0  53733        323.128710\n",
       "3       01  2018-11  15374531.0  50827        302.487477\n",
       "4       01  2018-12  11708026.0  53173        220.187426"
      ]
     },
     "execution_count": 7,
     "metadata": {},
     "output_type": "execute_result"
    }
   ],
   "source": [
    "import pandas as pd\n",
    "import os\n",
    "\n",
    "base_dir = './all_years'\n",
    "\n",
    "years = range(2018, 2025)\n",
    "\n",
    "dfs = []\n",
    "for year in years:\n",
    "    csv_path = os.path.join(base_dir, str(year), 'final_summary.csv')\n",
    "    if os.path.exists(csv_path):\n",
    "        df = pd.read_csv(csv_path)\n",
    "        dfs.append(df)\n",
    "    else:\n",
    "        print(f\"Missing file: {csv_path}\")\n",
    "\n",
    "combined_df = pd.concat(dfs, ignore_index=True)\n",
    "\n",
    "combined_df.head()\n"
   ]
  },
  {
   "cell_type": "code",
   "execution_count": null,
   "id": "efe7bd68",
   "metadata": {},
   "outputs": [],
   "source": []
  },
  {
   "cell_type": "code",
   "execution_count": null,
   "id": "dd870f06",
   "metadata": {},
   "outputs": [
    {
     "data": {
      "text/plain": [
       "route_id            0\n",
       "month               0\n",
       "lateness            0\n",
       "size                0\n",
       "average_lateness    0\n",
       "dtype: int64"
      ]
     },
     "execution_count": 8,
     "metadata": {},
     "output_type": "execute_result"
    }
   ],
   "source": [
    "combined_df = combined_df.dropna()\n",
    "combined_df.isna().sum()"
   ]
  },
  {
   "cell_type": "code",
   "execution_count": 9,
   "id": "2d698734",
   "metadata": {},
   "outputs": [],
   "source": [
    "combined_df.to_csv(\"final_route_summary.csv\", index=False)"
   ]
  },
  {
   "cell_type": "code",
   "execution_count": null,
   "id": "e036e4c1",
   "metadata": {},
   "outputs": [],
   "source": [
    "citywide_avg_lateness = final_summary[\"lateness\"].sum() / final_summary[\"size\"].sum()\n",
    "\n",
    "target_routes = [\"22\", \"29\", \"15\", \"45\", \"28\", \"44\", \"42\", \"17\", \"23\", \"31\", \"26\", \"111\", \"24\", \"33\", \"14\"]\n",
    "\n",
    "target_routes_summary = final_summary[final_summary[\"route_id\"].isin(target_routes)]\n",
    "\n",
    "target_routes_avg_lateness = (target_routes_summary[\"average_lateness\"] * target_routes_summary[\"size\"]).sum() / target_routes_summary[\"size\"].sum()\n",
    "\n",
    "print(citywide_avg_lateness)\n",
    "\n",
    "route_avg_wait_time = final_summary.groupby(\"route_id\", as_index=False)[\"average_lateness\"].mean()\n",
    "target_routes_avg_wait_time = route_avg_wait_time[route_avg_wait_time[\"route_id\"].isin(target_routes)]\n",
    "\n",
    "target_routes_avg_wait_time"
   ]
  }
 ],
 "metadata": {
  "kernelspec": {
   "display_name": "env",
   "language": "python",
   "name": "python3"
  },
  "language_info": {
   "codemirror_mode": {
    "name": "ipython",
    "version": 3
   },
   "file_extension": ".py",
   "mimetype": "text/x-python",
   "name": "python",
   "nbconvert_exporter": "python",
   "pygments_lexer": "ipython3",
   "version": "3.13.2"
  }
 },
 "nbformat": 4,
 "nbformat_minor": 5
}
