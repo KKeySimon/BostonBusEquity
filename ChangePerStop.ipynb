{
 "cells": [
  {
   "cell_type": "code",
   "execution_count": 1,
   "metadata": {},
   "outputs": [
    {
     "name": "stderr",
     "output_type": "stream",
     "text": [
      "C:\\Users\\junhy\\AppData\\Local\\Temp\\ipykernel_41060\\2006811703.py:7: DtypeWarning: Columns (1) have mixed types. Specify dtype option on import or set low_memory=False.\n",
      "  df = pd.read_csv(file_path)\n"
     ]
    },
    {
     "name": "stdout",
     "output_type": "stream",
     "text": [
      "      season route_id route_variant  direction_id trip_start_time  \\\n",
      "0  Fall 2016        1         1-0-0             0        04:37:00   \n",
      "1  Fall 2016        1         1-0-0             0        04:37:00   \n",
      "2  Fall 2016        1         1-0-0             0        04:37:00   \n",
      "3  Fall 2016        1         1-0-0             0        04:37:00   \n",
      "4  Fall 2016        1         1-0-0             0        04:37:00   \n",
      "\n",
      "   day_type_id day_type_name                      stop_name  stop_id  \\\n",
      "0  day_type_01       weekday   WASHINGTON ST OPP RUGGLES ST        1   \n",
      "1  day_type_01       weekday       ALBANY ST OPP RANDALL ST    10003   \n",
      "2  day_type_01       weekday  MASSACHUSETTS AVE @ SIDNEY ST      101   \n",
      "3  day_type_01       weekday   MASSACHUSETTS AVE @ PROSPECT      102   \n",
      "4  day_type_01       weekday  MASSACHUSETTS AVE @ BIGELOW S      104   \n",
      "\n",
      "   stop_sequence  boardings  alightings  load_  sample_size  ObjectId  \n",
      "0              2        0.4         0.3    7.8           13         1  \n",
      "1              5        0.1         0.0    9.4           13         2  \n",
      "2             19        0.0         0.4   10.4           13         3  \n",
      "3             20        0.6         2.5    8.5           13         4  \n",
      "4             21        0.1         0.2    8.4           13         5  \n"
     ]
    }
   ],
   "source": [
    "import pandas as pd\n",
    "\n",
    "# Replace with the actual path to your CSV file (uploaded to Colab)\n",
    "# Make sure the file is in the correct directory and the name matches exactly\n",
    "file_path = \"MBTA_Bus_Ridership_by_Trip%2C_Season%2C_Route_Line%2C_and_Stop (1).csv\"\n",
    "# Read the CSV file into a DataFrame\n",
    "df = pd.read_csv(file_path)\n",
    "print(df.head())"
   ]
  },
  {
   "cell_type": "code",
   "execution_count": 22,
   "metadata": {},
   "outputs": [
    {
     "name": "stdout",
     "output_type": "stream",
     "text": [
      "             season route_id  direction_id  stop_sequence  \\\n",
      "0         Fall 2016        1             0              1   \n",
      "1         Fall 2016        1             0              2   \n",
      "2         Fall 2016        1             0              3   \n",
      "3         Fall 2016        1             0              4   \n",
      "4         Fall 2016        1             0              5   \n",
      "...             ...      ...           ...            ...   \n",
      "127162  Spring 2024       47             0             30   \n",
      "127163  Spring 2024       47             0             31   \n",
      "127164  Spring 2024       47             0             32   \n",
      "127165  Spring 2024       47             0             33   \n",
      "127166  Spring 2024       47             0             34   \n",
      "\n",
      "                            stop_name  avg_boardings  avg_alightings  \n",
      "0                      DUDLEY STATION         2629.7             0.0  \n",
      "1        WASHINGTON ST OPP RUGGLES ST           68.5             6.7  \n",
      "2       WASHINGTON ST @ MELNEA CASS B          107.7            44.8  \n",
      "3       MELNEA CASS BLVD @ HARRISON A           44.9            22.4  \n",
      "4            ALBANY ST OPP RANDALL ST          135.7            52.4  \n",
      "...                               ...            ...             ...  \n",
      "127162         BROOKLINE ST @ ERIE ST           24.4            46.9  \n",
      "127163      BROOKLINE ST @ PACIFIC ST            2.1            44.3  \n",
      "127164        BROOKLINE ST @ GREEN ST            3.1           151.6  \n",
      "127165            GREEN ST @ PEARL ST           17.9           361.7  \n",
      "127166         GREEN ST @ MAGAZINE ST            0.0           267.6  \n",
      "\n",
      "[127167 rows x 7 columns]\n"
     ]
    }
   ],
   "source": [
    "# Group by 'season' first to process each chunk\n",
    "season_chunks = df.groupby('season')\n",
    "\n",
    "# List to hold all aggregated DataFrames for each season\n",
    "aggregated_df_list = []\n",
    "\n",
    "for season, season_data in season_chunks:\n",
    "    # Sort by route_id, direction_id, and stop_sequence to ensure they are in the right order\n",
    "    season_data = season_data.sort_values(by=['route_id', 'direction_id', 'stop_sequence'])\n",
    "    \n",
    "    # Perform aggregation (sum of boardings and alightings)\n",
    "    aggregated_season_df = season_data.groupby(['season', 'route_id', 'direction_id', 'stop_sequence', 'stop_name']).agg(\n",
    "        avg_boardings=('boardings', 'sum'),\n",
    "        avg_alightings=('alightings', 'sum')\n",
    "    ).reset_index()\n",
    "    \n",
    "    # Sort by route_id, direction_id, and stop_sequence to maintain order\n",
    "    aggregated_season_df = aggregated_season_df.sort_values(by=['route_id', 'direction_id', 'stop_sequence'])\n",
    "\n",
    "    # Add to the list of DataFrames\n",
    "    aggregated_df_list.append(aggregated_season_df)\n",
    "\n",
    "# Combine all chunks into one DataFrame\n",
    "final_aggregated_df = pd.concat(aggregated_df_list, ignore_index=True)\n",
    "\n",
    "# Print the final aggregated DataFrame\n",
    "print(final_aggregated_df)\n"
   ]
  },
  {
   "cell_type": "code",
   "execution_count": 23,
   "metadata": {},
   "outputs": [
    {
     "name": "stdout",
     "output_type": "stream",
     "text": [
      "             season route_id  direction_id  stop_sequence  \\\n",
      "0         Fall 2016        1             0              1   \n",
      "1         Fall 2016        1             0              2   \n",
      "2         Fall 2016        1             0              3   \n",
      "3         Fall 2016        1             0              4   \n",
      "4         Fall 2016        1             0              5   \n",
      "...             ...      ...           ...            ...   \n",
      "127162  Spring 2024       47             0             30   \n",
      "127163  Spring 2024       47             0             31   \n",
      "127164  Spring 2024       47             0             32   \n",
      "127165  Spring 2024       47             0             33   \n",
      "127166  Spring 2024       47             0             34   \n",
      "\n",
      "                            stop_name  avg_boardings  avg_alightings  traffic  \n",
      "0                      DUDLEY STATION         2629.7             0.0   2629.7  \n",
      "1        WASHINGTON ST OPP RUGGLES ST           68.5             6.7     75.2  \n",
      "2       WASHINGTON ST @ MELNEA CASS B          107.7            44.8    152.5  \n",
      "3       MELNEA CASS BLVD @ HARRISON A           44.9            22.4     67.3  \n",
      "4            ALBANY ST OPP RANDALL ST          135.7            52.4    188.1  \n",
      "...                               ...            ...             ...      ...  \n",
      "127162         BROOKLINE ST @ ERIE ST           24.4            46.9     71.3  \n",
      "127163      BROOKLINE ST @ PACIFIC ST            2.1            44.3     46.4  \n",
      "127164        BROOKLINE ST @ GREEN ST            3.1           151.6    154.7  \n",
      "127165            GREEN ST @ PEARL ST           17.9           361.7    379.6  \n",
      "127166         GREEN ST @ MAGAZINE ST            0.0           267.6    267.6  \n",
      "\n",
      "[127167 rows x 8 columns]\n"
     ]
    }
   ],
   "source": [
    "\n",
    "# Group by 'season' first to process each chunk\n",
    "season_chunks = df.groupby('season')\n",
    "\n",
    "# List to hold all aggregated DataFrames for each season\n",
    "aggregated_df_list = []\n",
    "\n",
    "for season, season_data in season_chunks:\n",
    "    # Sort by route_id, direction_id, and stop_sequence to ensure they are in the right order\n",
    "    season_data = season_data.sort_values(by=['route_id', 'direction_id', 'stop_sequence'])\n",
    "    \n",
    "    # Perform aggregation (sum of boardings and alightings)\n",
    "    aggregated_season_df = season_data.groupby(['season', 'route_id', 'direction_id', 'stop_sequence', 'stop_name']).agg(\n",
    "        avg_boardings=('boardings', 'sum'),\n",
    "        avg_alightings=('alightings', 'sum')\n",
    "    ).reset_index()\n",
    "    \n",
    "    # Create a new 'traffic' column as the sum of 'avg_boardings' and 'avg_alightings'\n",
    "    aggregated_season_df['traffic'] = aggregated_season_df['avg_boardings'] + aggregated_season_df['avg_alightings']\n",
    "    \n",
    "    # Sort by route_id, direction_id, and stop_sequence to maintain order\n",
    "    aggregated_season_df = aggregated_season_df.sort_values(by=['route_id', 'direction_id', 'stop_sequence'])\n",
    "\n",
    "    # Add to the list of DataFrames\n",
    "    aggregated_df_list.append(aggregated_season_df)\n",
    "\n",
    "# Combine all chunks into one DataFrame\n",
    "final_aggregated_df = pd.concat(aggregated_df_list, ignore_index=True)\n",
    "\n",
    "# Print the final aggregated DataFrame\n",
    "print(final_aggregated_df)\n"
   ]
  }
 ],
 "metadata": {
  "kernelspec": {
   "display_name": ".venv",
   "language": "python",
   "name": "python3"
  },
  "language_info": {
   "codemirror_mode": {
    "name": "ipython",
    "version": 3
   },
   "file_extension": ".py",
   "mimetype": "text/x-python",
   "name": "python",
   "nbconvert_exporter": "python",
   "pygments_lexer": "ipython3",
   "version": "3.11.9"
  }
 },
 "nbformat": 4,
 "nbformat_minor": 2
}
