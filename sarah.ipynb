{
 "cells": [
  {
   "cell_type": "code",
   "execution_count": 24,
   "metadata": {},
   "outputs": [],
   "source": [
    "import pandas as pd\n",
    "import matplotlib.pyplot as plt\n",
    "import numpy as np\n",
    "import seaborn as sns\n",
    "from IPython.display import display\n",
    "import glob\n",
    "from tqdm import tqdm\n",
    "import os"
   ]
  },
  {
   "cell_type": "code",
   "execution_count": 25,
   "metadata": {},
   "outputs": [],
   "source": [
    "precovid_folder = \"/Users/sarahyuhan/BostonBusEquity/2015-2017-tables\"\n",
    "#all the export files in 2015-2017\n",
    "file_paths = glob.glob(os.path.join(precovid_folder, '*export.xlsx'))\n",
    "\n",
    "df_list = [pd.read_excel(file) for file in file_paths]\n",
    "df_pre = pd.concat(df_list, ignore_index=True)\n",
    "\n",
    "df_pre.head()\n",
    "\n",
    "postcovid = \"/Users/sarahyuhan/BostonBusEquity/2023.csv\"\n",
    "df_post = pd.read_csv(postcovid)\n",
    "df_post = df_post[df_post['service_mode'] == 'Bus']"
   ]
  },
  {
   "cell_type": "code",
   "execution_count": null,
   "metadata": {},
   "outputs": [],
   "source": [
    "df_pre.head(),df_post.head()"
   ]
  },
  {
   "cell_type": "code",
   "execution_count": 26,
   "metadata": {},
   "outputs": [
    {
     "data": {
      "text/plain": [
       "(Index(['Route', 'Trip Purpose: Home-based work',\n",
       "        'Trip Purpose: Home-based school',\n",
       "        'Trip Purpose: Home-based social activity',\n",
       "        'Trip Purpose: Home-based other', 'Trip Purpose: Non-home-based',\n",
       "        'Trip Frequency: 6-7 days a week', 'Trip Frequency: 5 days a week',\n",
       "        'Trip Frequency: 3-4 days a week', 'Trip Frequency: 1-2 days a week',\n",
       "        'Trip Frequency: 1-3 days a month',\n",
       "        'Trip Frequency: Less than once a month', 'Income: Less than $14,500',\n",
       "        'Income: $14,500 to $28,999', 'Income: $29,000 to $43,499',\n",
       "        'Income: $43,500 to $57,999', 'Income: $58,000 to $75,999',\n",
       "        'Income: $76,000 to $108,499', 'Income: $108,500 to $151,999',\n",
       "        'Income: $152,000 or more', 'Income: Prefer not to say',\n",
       "        'Low-income: Yes', 'Low-income: No', 'Age: Under 18', 'Age: 18 to 21',\n",
       "        'Age: 22 to 34', 'Age: 35 to 44', 'Age: 45 to 64', 'Age: 65 or over',\n",
       "        'Gender: Man', 'Gender: Woman', 'Gender: Other',\n",
       "        'Gender: Prefer not to say', 'English Ability: Always',\n",
       "        'English Ability: Often', 'English Ability: Sometimes',\n",
       "        'English Ability: Never', 'English Ability: Prefer not to say',\n",
       "        'Vehicles: 0', 'Vehicles: 1', 'Vehicles: 2', 'Vehicles: 3 or more',\n",
       "        'Vehicles/Capita: None', 'Vehicles/Capita: 0.01–0.49',\n",
       "        'Vehicles/Capita: 0.50–0.99', 'Vehicles/Capita: 1.00–1.49',\n",
       "        'Vehicles/Capita: 1.50–1.99', 'Vehicles/Capita: 2 or more',\n",
       "        'License: Yes', 'License: No', 'Access: Walked or bicycled',\n",
       "        'Access: Drove alone', 'Access: Carpooled',\n",
       "        'Access: Dropped off by personal vehicle',\n",
       "        'Access: Dropped off by other vehicle',\n",
       "        'Previous Mode: Bus or Silver Line',\n",
       "        'Previous Mode: Rail rapid transit',\n",
       "        'Previous Mode: Commuter rail or ferry', 'Use Alt Mode: Yes',\n",
       "        'Use Alt Mode: No', 'Alt Mode: Walk', 'Alt Mode: Bicycle',\n",
       "        'Alt Mode: Drive alone', 'Alt Mode: Drive or ride in a carpool',\n",
       "        'Alt Mode: Take a taxi or use a rideshare company',\n",
       "        'Alt Mode: Take a private shuttle or other transit',\n",
       "        'Alt Mode: Take a different MBTA service', 'Alt Mode: Other',\n",
       "        'Race: American Indian or Alaska Native', 'Race: Asian',\n",
       "        'Race: Black or African American',\n",
       "        'Race: Native Hawaiian or other Pacific Islander', 'Race: White',\n",
       "        'Race: Other', 'Race: Prefer not to say', 'Hispanic: Yes',\n",
       "        'Hispanic: No', 'Hispanic: Prefer not to say', 'Minority: Yes',\n",
       "        'Minority: No', 'Fare: Monthly pass', 'Fare: Pay-per-ride',\n",
       "        'Fare: 1-day or 7-day LinkPass', 'Fare: Other',\n",
       "        'Monthly Pass Type: Reduced-fare pass', 'Monthly Pass Type: Local Bus',\n",
       "        'Monthly Pass Type: LinkPass or Express Bus',\n",
       "        'Monthly Pass Type: Commuter rail or ferry',\n",
       "        'Pay-Per-Ride Type: Full cash fare on board',\n",
       "        'Pay-Per-Ride Type: Reduced fare',\n",
       "        'Pay-Per-Ride Type: mTicket (single/multi-ride)',\n",
       "        'Pay-Per-Ride Type: Charlie Card (plastic)',\n",
       "        'Pay-Per-Ride Type: Charlie Ticket (paper)'],\n",
       "       dtype='object'),\n",
       " Index(['aggregation_level', 'service_mode', 'reporting_group', 'measure_group',\n",
       "        'measure', 'category', 'percentage', 'objectid', 'full_category'],\n",
       "       dtype='object'))"
      ]
     },
     "execution_count": 26,
     "metadata": {},
     "output_type": "execute_result"
    }
   ],
   "source": [
    "df_pre_numeric = df_pre.drop(columns=[\"Mode\"], errors=\"ignore\").apply(pd.to_numeric, errors=\"coerce\")\n",
    "\n",
    "# mapping of categories from df_post\n",
    "df_post.columns = df_post.columns.str.strip().str.lower()\n",
    "df_post['full_category'] = df_post['measure_group'] + \": \" + df_post['category']\n",
    "\n",
    "category_mapping = df_post[['category', 'full_category']].drop_duplicates().set_index('category').to_dict()['full_category']\n",
    "\n",
    "# Rename df_pre columns using this mapping\n",
    "df_post.rename(columns=lambda x: x.strip(), inplace=True)\n",
    "df_post.rename(columns={\n",
    "    'weighted_percent': 'percentage'\n",
    "}, inplace=True)\n",
    "\n",
    "\n",
    "df_pre.columns, df_post.columns\n"
   ]
  },
  {
   "cell_type": "code",
   "execution_count": 27,
   "metadata": {},
   "outputs": [
    {
     "name": "stdout",
     "output_type": "stream",
     "text": [
      "['Route', 'Trip Purpose: Home-based work', 'Trip Purpose: Home-based school', 'Trip Purpose: Home-based social activity', 'Trip Purpose: Home-based other', 'Trip Purpose: Non-home-based', 'Trip Frequency: 6-7 days a week', 'Trip Frequency: 5 days a week', 'Trip Frequency: 3-4 days a week', 'Trip Frequency: 1-2 days a week', 'Trip Frequency: 1-3 days a month', 'Trip Frequency: Less than once a month', 'Income: Less than $14,500', 'Income: $14,500 to $28,999', 'Income: $29,000 to $43,499', 'Income: $43,500 to $57,999', 'Income: $58,000 to $75,999', 'Income: $76,000 to $108,499', 'Income: $108,500 to $151,999', 'Income: $152,000 or more', 'Income: Prefer not to say', 'Low-income: Yes', 'Low-income: No', 'Age: Under 18', 'Age: 18 to 21', 'Age: 22 to 34', 'Age: 35 to 44', 'Age: 45 to 64', 'Age: 65 or over', 'Gender: Man', 'Gender: Woman', 'Gender: Other', 'Gender: Prefer not to say', 'English Ability: Always', 'English Ability: Often', 'English Ability: Sometimes', 'English Ability: Never', 'English Ability: Prefer not to say', 'Vehicles: 0', 'Vehicles: 1', 'Vehicles: 2', 'Vehicles: 3 or more', 'Vehicles/Capita: None', 'Vehicles/Capita: 0.01–0.49', 'Vehicles/Capita: 0.50–0.99', 'Vehicles/Capita: 1.00–1.49', 'Vehicles/Capita: 1.50–1.99', 'Vehicles/Capita: 2 or more', 'License: Yes', 'License: No', 'Access: Walked or bicycled', 'Access: Drove alone', 'Access: Carpooled', 'Access: Dropped off by personal vehicle', 'Access: Dropped off by other vehicle', 'Previous Mode: Bus or Silver Line', 'Previous Mode: Rail rapid transit', 'Previous Mode: Commuter rail or ferry', 'Use Alt Mode: Yes', 'Use Alt Mode: No', 'Alt Mode: Walk', 'Alt Mode: Bicycle', 'Alt Mode: Drive alone', 'Alt Mode: Drive or ride in a carpool', 'Alt Mode: Take a taxi or use a rideshare company', 'Alt Mode: Take a private shuttle or other transit', 'Alt Mode: Take a different MBTA service', 'Alt Mode: Other', 'Race: American Indian or Alaska Native', 'Race: Asian', 'Race: Black or African American', 'Race: Native Hawaiian or other Pacific Islander', 'Race: White', 'Race: Other', 'Race: Prefer not to say', 'Hispanic: Yes', 'Hispanic: No', 'Hispanic: Prefer not to say', 'Minority: Yes', 'Minority: No', 'Fare: Monthly pass', 'Fare: Pay-per-ride', 'Fare: 1-day or 7-day LinkPass', 'Fare: Other', 'Monthly Pass Type: Reduced-fare pass', 'Monthly Pass Type: Local Bus', 'Monthly Pass Type: LinkPass or Express Bus', 'Monthly Pass Type: Commuter rail or ferry', 'Pay-Per-Ride Type: Full cash fare on board', 'Pay-Per-Ride Type: Reduced fare', 'Pay-Per-Ride Type: mTicket (single/multi-ride)', 'Pay-Per-Ride Type: Charlie Card (plastic)', 'Pay-Per-Ride Type: Charlie Ticket (paper)']\n"
     ]
    }
   ],
   "source": [
    "print(df_pre_numeric.columns.tolist())\n"
   ]
  },
  {
   "cell_type": "code",
   "execution_count": 28,
   "metadata": {},
   "outputs": [
    {
     "name": "stdout",
     "output_type": "stream",
     "text": [
      "aggregation_level    0\n",
      "service_mode         0\n",
      "reporting_group      0\n",
      "measure_group        0\n",
      "measure              0\n",
      "category             1\n",
      "percentage           0\n",
      "objectid             0\n",
      "full_category        1\n",
      "dtype: int64\n"
     ]
    }
   ],
   "source": [
    "print(df_post.isnull().sum())\n",
    "df_post = df_post.dropna()\n",
    "df_pre = df_pre.dropna()"
   ]
  },
  {
   "cell_type": "code",
   "execution_count": null,
   "metadata": {},
   "outputs": [],
   "source": [
    "print(\"Columns in df_post:\", df_post.columns)\n"
   ]
  },
  {
   "cell_type": "code",
   "execution_count": null,
   "metadata": {},
   "outputs": [
    {
     "name": "stderr",
     "output_type": "stream",
     "text": [
      "/var/folders/gh/8gsn76px7tn2s_cff89q_8ww0000gn/T/ipykernel_10494/1613269758.py:14: FutureWarning: DataFrame.groupby with axis=1 is deprecated. Do `frame.T.groupby(...)` without axis instead.\n",
      "  category_totals = df_pre_numeric.groupby(lambda x: x.split(\":\")[0], axis=1).sum()\n"
     ]
    },
    {
     "ename": "IndexError",
     "evalue": "index 1 is out of bounds for axis 0 with size 1",
     "output_type": "error",
     "traceback": [
      "\u001b[0;31m---------------------------------------------------------------------------\u001b[0m",
      "\u001b[0;31mIndexError\u001b[0m                                Traceback (most recent call last)",
      "Cell \u001b[0;32mIn[35], line 21\u001b[0m\n\u001b[1;32m     19\u001b[0m pre_percentages \u001b[38;5;241m=\u001b[39m pre_percentages\u001b[38;5;241m.\u001b[39mT\n\u001b[1;32m     20\u001b[0m pre_percentages \u001b[38;5;241m=\u001b[39m pre_percentages\u001b[38;5;241m.\u001b[39mreset_index()\n\u001b[0;32m---> 21\u001b[0m pre_percentages \u001b[38;5;241m=\u001b[39m pre_percentages\u001b[38;5;241m.\u001b[39mrename(columns\u001b[38;5;241m=\u001b[39m{pre_percentages\u001b[38;5;241m.\u001b[39mcolumns[\u001b[38;5;241m0\u001b[39m]: \u001b[38;5;124m'\u001b[39m\u001b[38;5;124mfull_category\u001b[39m\u001b[38;5;124m'\u001b[39m, pre_percentages\u001b[38;5;241m.\u001b[39mcolumns[\u001b[38;5;241m1\u001b[39m]: \u001b[38;5;124m'\u001b[39m\u001b[38;5;124mpre_covid_percent\u001b[39m\u001b[38;5;124m'\u001b[39m})\n\u001b[1;32m     23\u001b[0m \u001b[38;5;66;03m# Ensure both merge columns are strings\u001b[39;00m\n\u001b[1;32m     24\u001b[0m pre_percentages[\u001b[38;5;124m\"\u001b[39m\u001b[38;5;124mfull_category\u001b[39m\u001b[38;5;124m\"\u001b[39m] \u001b[38;5;241m=\u001b[39m pre_percentages[\u001b[38;5;124m\"\u001b[39m\u001b[38;5;124mfull_category\u001b[39m\u001b[38;5;124m\"\u001b[39m]\u001b[38;5;241m.\u001b[39mastype(\u001b[38;5;28mstr\u001b[39m)\n",
      "File \u001b[0;32m~/anaconda3/lib/python3.11/site-packages/pandas/core/indexes/base.py:5389\u001b[0m, in \u001b[0;36mIndex.__getitem__\u001b[0;34m(self, key)\u001b[0m\n\u001b[1;32m   5386\u001b[0m \u001b[38;5;28;01mif\u001b[39;00m is_integer(key) \u001b[38;5;129;01mor\u001b[39;00m is_float(key):\n\u001b[1;32m   5387\u001b[0m     \u001b[38;5;66;03m# GH#44051 exclude bool, which would return a 2d ndarray\u001b[39;00m\n\u001b[1;32m   5388\u001b[0m     key \u001b[38;5;241m=\u001b[39m com\u001b[38;5;241m.\u001b[39mcast_scalar_indexer(key)\n\u001b[0;32m-> 5389\u001b[0m     \u001b[38;5;28;01mreturn\u001b[39;00m getitem(key)\n\u001b[1;32m   5391\u001b[0m \u001b[38;5;28;01mif\u001b[39;00m \u001b[38;5;28misinstance\u001b[39m(key, \u001b[38;5;28mslice\u001b[39m):\n\u001b[1;32m   5392\u001b[0m     \u001b[38;5;66;03m# This case is separated from the conditional above to avoid\u001b[39;00m\n\u001b[1;32m   5393\u001b[0m     \u001b[38;5;66;03m# pessimization com.is_bool_indexer and ndim checks.\u001b[39;00m\n\u001b[1;32m   5394\u001b[0m     \u001b[38;5;28;01mreturn\u001b[39;00m \u001b[38;5;28mself\u001b[39m\u001b[38;5;241m.\u001b[39m_getitem_slice(key)\n",
      "\u001b[0;31mIndexError\u001b[0m: index 1 is out of bounds for axis 0 with size 1"
     ]
    }
   ],
   "source": [
    "#BEING FIXED\n",
    "#COMPARING PERCENTAGES in number of people from each category taking the bus pre covid and post covid\n",
    "# Ensure column names in df_post are standardized\n",
    "df_post.columns = df_post.columns.str.strip().str.lower()\n",
    "df_post[\"percentage\"] = df_post[\"percentage\"] * 100\n",
    "\n",
    "df_post['full_category'] = df_post['measure'] + \": \" + df_post['category']\n",
    "\n",
    "# Extract unique category names from df_post for renaming df_pre\n",
    "category_mapping = df_post[['category', 'full_category']].drop_duplicates().set_index('category').to_dict()['full_category']\n",
    "\n",
    "# Drop non-numeric columns from df_pre and convert all to numeric\n",
    "df_pre_numeric = df_pre.drop(columns=[\"Mode\"], errors=\"ignore\").apply(pd.to_numeric, errors=\"coerce\")\n",
    "\n",
    "category_totals = df_pre_numeric.groupby(lambda x: x.split(\":\")[0], axis=1).sum()\n",
    "pre_percentages = df_pre_numeric.apply(lambda x: (x / category_totals[x.name.split(\":\")[0]]) * 100 if x.name.split(\":\")[0] in category_totals else x, axis=0)\n",
    "pre_percentages = pre_percentages.rename(columns=category_mapping)\n",
    "\n",
    "# convert to DataFrame for merging\n",
    "pre_percentages = pre_percentages.T\n",
    "pre_percentages = pre_percentages.reset_index()\n",
    "pre_percentages = pre_percentages.rename(columns={pre_percentages.columns[0]: 'pre_covid_percent'})\n",
    "pre_percentages['full_category'] = pre_percentages.index\n",
    "pre_percentages = pre_percentages.reset_index(drop=True)\n",
    "\n",
    "\n",
    "# Ensure both merge columns are strings\n",
    "pre_percentages[\"full_category\"] = pre_percentages[\"full_category\"].astype(str)\n",
    "df_post[\"full_category\"] = df_post[\"full_category\"].astype(str)\n",
    "\n",
    "# Merge with df_post based on full_category\n",
    "df_comparison = pd.merge(\n",
    "    pre_percentages,\n",
    "    df_post[['measure_group', 'full_category', 'percentage']],\n",
    "    on=\"full_category\",\n",
    "    how=\"inner\"\n",
    ")\n",
    "\n",
    "# create Separate Tables for Each Measure**\n",
    "grouped_tables = {measure: data for measure, data in df_comparison.groupby(\"measure_group\")}\n",
    "\n",
    "# display\n",
    "for measure, table in grouped_tables.items():\n",
    "    print(f\"\\nComparison Table for {measure}:\")\n",
    "    display(table)"
   ]
  },
  {
   "cell_type": "code",
   "execution_count": 33,
   "metadata": {},
   "outputs": [
    {
     "name": "stderr",
     "output_type": "stream",
     "text": [
      "/var/folders/gh/8gsn76px7tn2s_cff89q_8ww0000gn/T/ipykernel_10494/3682109928.py:6: FutureWarning: DataFrame.groupby with axis=1 is deprecated. Do `frame.T.groupby(...)` without axis instead.\n",
      "  category_totals = df_pre_numeric.groupby(lambda x: x.split(\":\")[0], axis=1).sum()\n"
     ]
    }
   ],
   "source": [
    "# Apply category_mapping to rename pre-covid columns BEFORE calculating percentages\n",
    "df_pre_renamed = df_pre.rename(columns=category_mapping)\n",
    "\n",
    "# Drop non-numeric and compute percentages by category\n",
    "df_pre_numeric = df_pre_renamed.drop(columns=[\"Route\"], errors=\"ignore\").apply(pd.to_numeric, errors=\"coerce\")\n",
    "category_totals = df_pre_numeric.groupby(lambda x: x.split(\":\")[0], axis=1).sum()\n",
    "pre_percentages = df_pre_numeric.apply(lambda x: (x / category_totals[x.name.split(\":\")[0]]) * 100 if x.name.split(\":\")[0] in category_totals else x, axis=0)\n",
    "\n",
    "# Turn into long-form DataFrame\n",
    "pre_percentages[\"Route\"] = df_pre[\"Route\"]\n",
    "pre_melted = pre_percentages.melt(id_vars=\"Route\", var_name=\"full_category\", value_name=\"pre_covid_percent\")\n"
   ]
  },
  {
   "cell_type": "code",
   "execution_count": 36,
   "metadata": {},
   "outputs": [
    {
     "ename": "ValueError",
     "evalue": "zero-size array to reduction operation fmin which has no identity",
     "output_type": "error",
     "traceback": [
      "\u001b[0;31m---------------------------------------------------------------------------\u001b[0m",
      "\u001b[0;31mValueError\u001b[0m                                Traceback (most recent call last)",
      "Cell \u001b[0;32mIn[36], line 9\u001b[0m\n\u001b[1;32m      7\u001b[0m \u001b[38;5;66;03m# Plot\u001b[39;00m\n\u001b[1;32m      8\u001b[0m plt\u001b[38;5;241m.\u001b[39mfigure(figsize\u001b[38;5;241m=\u001b[39m(\u001b[38;5;241m18\u001b[39m, \u001b[38;5;241m10\u001b[39m))\n\u001b[0;32m----> 9\u001b[0m sns\u001b[38;5;241m.\u001b[39mheatmap(heatmap_data, cmap\u001b[38;5;241m=\u001b[39m\u001b[38;5;124m\"\u001b[39m\u001b[38;5;124mYlGnBu\u001b[39m\u001b[38;5;124m\"\u001b[39m, annot\u001b[38;5;241m=\u001b[39m\u001b[38;5;28;01mFalse\u001b[39;00m)\n\u001b[1;32m     10\u001b[0m plt\u001b[38;5;241m.\u001b[39mtitle(\u001b[38;5;124m\"\u001b[39m\u001b[38;5;124mPre-COVID Category Distribution by Route\u001b[39m\u001b[38;5;124m\"\u001b[39m)\n\u001b[1;32m     11\u001b[0m plt\u001b[38;5;241m.\u001b[39mxlabel(\u001b[38;5;124m\"\u001b[39m\u001b[38;5;124mCategory\u001b[39m\u001b[38;5;124m\"\u001b[39m)\n",
      "File \u001b[0;32m~/anaconda3/lib/python3.11/site-packages/seaborn/matrix.py:446\u001b[0m, in \u001b[0;36mheatmap\u001b[0;34m(data, vmin, vmax, cmap, center, robust, annot, fmt, annot_kws, linewidths, linecolor, cbar, cbar_kws, cbar_ax, square, xticklabels, yticklabels, mask, ax, **kwargs)\u001b[0m\n\u001b[1;32m    365\u001b[0m \u001b[38;5;250m\u001b[39m\u001b[38;5;124;03m\"\"\"Plot rectangular data as a color-encoded matrix.\u001b[39;00m\n\u001b[1;32m    366\u001b[0m \n\u001b[1;32m    367\u001b[0m \u001b[38;5;124;03mThis is an Axes-level function and will draw the heatmap into the\u001b[39;00m\n\u001b[0;32m   (...)\u001b[0m\n\u001b[1;32m    443\u001b[0m \n\u001b[1;32m    444\u001b[0m \u001b[38;5;124;03m\"\"\"\u001b[39;00m\n\u001b[1;32m    445\u001b[0m \u001b[38;5;66;03m# Initialize the plotter object\u001b[39;00m\n\u001b[0;32m--> 446\u001b[0m plotter \u001b[38;5;241m=\u001b[39m _HeatMapper(data, vmin, vmax, cmap, center, robust, annot, fmt,\n\u001b[1;32m    447\u001b[0m                       annot_kws, cbar, cbar_kws, xticklabels,\n\u001b[1;32m    448\u001b[0m                       yticklabels, mask)\n\u001b[1;32m    450\u001b[0m \u001b[38;5;66;03m# Add the pcolormesh kwargs here\u001b[39;00m\n\u001b[1;32m    451\u001b[0m kwargs[\u001b[38;5;124m\"\u001b[39m\u001b[38;5;124mlinewidths\u001b[39m\u001b[38;5;124m\"\u001b[39m] \u001b[38;5;241m=\u001b[39m linewidths\n",
      "File \u001b[0;32m~/anaconda3/lib/python3.11/site-packages/seaborn/matrix.py:163\u001b[0m, in \u001b[0;36m_HeatMapper.__init__\u001b[0;34m(self, data, vmin, vmax, cmap, center, robust, annot, fmt, annot_kws, cbar, cbar_kws, xticklabels, yticklabels, mask)\u001b[0m\n\u001b[1;32m    160\u001b[0m \u001b[38;5;28mself\u001b[39m\u001b[38;5;241m.\u001b[39mylabel \u001b[38;5;241m=\u001b[39m ylabel \u001b[38;5;28;01mif\u001b[39;00m ylabel \u001b[38;5;129;01mis\u001b[39;00m \u001b[38;5;129;01mnot\u001b[39;00m \u001b[38;5;28;01mNone\u001b[39;00m \u001b[38;5;28;01melse\u001b[39;00m \u001b[38;5;124m\"\u001b[39m\u001b[38;5;124m\"\u001b[39m\n\u001b[1;32m    162\u001b[0m \u001b[38;5;66;03m# Determine good default values for the colormapping\u001b[39;00m\n\u001b[0;32m--> 163\u001b[0m \u001b[38;5;28mself\u001b[39m\u001b[38;5;241m.\u001b[39m_determine_cmap_params(plot_data, vmin, vmax,\n\u001b[1;32m    164\u001b[0m                             cmap, center, robust)\n\u001b[1;32m    166\u001b[0m \u001b[38;5;66;03m# Sort out the annotations\u001b[39;00m\n\u001b[1;32m    167\u001b[0m \u001b[38;5;28;01mif\u001b[39;00m annot \u001b[38;5;129;01mis\u001b[39;00m \u001b[38;5;28;01mNone\u001b[39;00m \u001b[38;5;129;01mor\u001b[39;00m annot \u001b[38;5;129;01mis\u001b[39;00m \u001b[38;5;28;01mFalse\u001b[39;00m:\n",
      "File \u001b[0;32m~/anaconda3/lib/python3.11/site-packages/seaborn/matrix.py:202\u001b[0m, in \u001b[0;36m_HeatMapper._determine_cmap_params\u001b[0;34m(self, plot_data, vmin, vmax, cmap, center, robust)\u001b[0m\n\u001b[1;32m    200\u001b[0m         vmin \u001b[38;5;241m=\u001b[39m np\u001b[38;5;241m.\u001b[39mnanpercentile(calc_data, \u001b[38;5;241m2\u001b[39m)\n\u001b[1;32m    201\u001b[0m     \u001b[38;5;28;01melse\u001b[39;00m:\n\u001b[0;32m--> 202\u001b[0m         vmin \u001b[38;5;241m=\u001b[39m np\u001b[38;5;241m.\u001b[39mnanmin(calc_data)\n\u001b[1;32m    203\u001b[0m \u001b[38;5;28;01mif\u001b[39;00m vmax \u001b[38;5;129;01mis\u001b[39;00m \u001b[38;5;28;01mNone\u001b[39;00m:\n\u001b[1;32m    204\u001b[0m     \u001b[38;5;28;01mif\u001b[39;00m robust:\n",
      "File \u001b[0;32m~/anaconda3/lib/python3.11/site-packages/numpy/lib/_nanfunctions_impl.py:357\u001b[0m, in \u001b[0;36mnanmin\u001b[0;34m(a, axis, out, keepdims, initial, where)\u001b[0m\n\u001b[1;32m    352\u001b[0m     kwargs[\u001b[38;5;124m'\u001b[39m\u001b[38;5;124mwhere\u001b[39m\u001b[38;5;124m'\u001b[39m] \u001b[38;5;241m=\u001b[39m where\n\u001b[1;32m    354\u001b[0m \u001b[38;5;28;01mif\u001b[39;00m \u001b[38;5;28mtype\u001b[39m(a) \u001b[38;5;129;01mis\u001b[39;00m np\u001b[38;5;241m.\u001b[39mndarray \u001b[38;5;129;01mand\u001b[39;00m a\u001b[38;5;241m.\u001b[39mdtype \u001b[38;5;241m!=\u001b[39m np\u001b[38;5;241m.\u001b[39mobject_:\n\u001b[1;32m    355\u001b[0m     \u001b[38;5;66;03m# Fast, but not safe for subclasses of ndarray, or object arrays,\u001b[39;00m\n\u001b[1;32m    356\u001b[0m     \u001b[38;5;66;03m# which do not implement isnan (gh-9009), or fmin correctly (gh-8975)\u001b[39;00m\n\u001b[0;32m--> 357\u001b[0m     res \u001b[38;5;241m=\u001b[39m np\u001b[38;5;241m.\u001b[39mfmin\u001b[38;5;241m.\u001b[39mreduce(a, axis\u001b[38;5;241m=\u001b[39maxis, out\u001b[38;5;241m=\u001b[39mout, \u001b[38;5;241m*\u001b[39m\u001b[38;5;241m*\u001b[39mkwargs)\n\u001b[1;32m    358\u001b[0m     \u001b[38;5;28;01mif\u001b[39;00m np\u001b[38;5;241m.\u001b[39misnan(res)\u001b[38;5;241m.\u001b[39many():\n\u001b[1;32m    359\u001b[0m         warnings\u001b[38;5;241m.\u001b[39mwarn(\u001b[38;5;124m\"\u001b[39m\u001b[38;5;124mAll-NaN slice encountered\u001b[39m\u001b[38;5;124m\"\u001b[39m, \u001b[38;5;167;01mRuntimeWarning\u001b[39;00m,\n\u001b[1;32m    360\u001b[0m                       stacklevel\u001b[38;5;241m=\u001b[39m\u001b[38;5;241m2\u001b[39m)\n",
      "\u001b[0;31mValueError\u001b[0m: zero-size array to reduction operation fmin which has no identity"
     ]
    },
    {
     "data": {
      "text/plain": [
       "<Figure size 1800x1000 with 0 Axes>"
      ]
     },
     "metadata": {},
     "output_type": "display_data"
    }
   ],
   "source": [
    "import seaborn as sns\n",
    "import matplotlib.pyplot as plt\n",
    "\n",
    "# Pivot to prepare for heatmap\n",
    "heatmap_data = pre_melted.pivot(index=\"Route\", columns=\"full_category\", values=\"pre_covid_percent\")\n",
    "\n",
    "# Plot\n",
    "plt.figure(figsize=(18, 10))\n",
    "sns.heatmap(heatmap_data, cmap=\"YlGnBu\", annot=False)\n",
    "plt.title(\"Pre-COVID Category Distribution by Route\")\n",
    "plt.xlabel(\"Category\")\n",
    "plt.ylabel(\"Route\")\n",
    "plt.tight_layout()\n",
    "plt.show()"
   ]
  },
  {
   "cell_type": "code",
   "execution_count": 37,
   "metadata": {},
   "outputs": [
    {
     "ename": "ValueError",
     "evalue": "zero-size array to reduction operation fmin which has no identity",
     "output_type": "error",
     "traceback": [
      "\u001b[0;31m---------------------------------------------------------------------------\u001b[0m",
      "\u001b[0;31mValueError\u001b[0m                                Traceback (most recent call last)",
      "Cell \u001b[0;32mIn[37], line 9\u001b[0m\n\u001b[1;32m      7\u001b[0m \u001b[38;5;66;03m# Plot\u001b[39;00m\n\u001b[1;32m      8\u001b[0m plt\u001b[38;5;241m.\u001b[39mfigure(figsize\u001b[38;5;241m=\u001b[39m(\u001b[38;5;241m18\u001b[39m, \u001b[38;5;241m10\u001b[39m))\n\u001b[0;32m----> 9\u001b[0m sns\u001b[38;5;241m.\u001b[39mheatmap(heatmap_data, cmap\u001b[38;5;241m=\u001b[39m\u001b[38;5;124m\"\u001b[39m\u001b[38;5;124mYlGnBu\u001b[39m\u001b[38;5;124m\"\u001b[39m, annot\u001b[38;5;241m=\u001b[39m\u001b[38;5;28;01mFalse\u001b[39;00m)\n\u001b[1;32m     10\u001b[0m plt\u001b[38;5;241m.\u001b[39mtitle(\u001b[38;5;124m\"\u001b[39m\u001b[38;5;124mPre-COVID Category Distribution by Route\u001b[39m\u001b[38;5;124m\"\u001b[39m)\n\u001b[1;32m     11\u001b[0m plt\u001b[38;5;241m.\u001b[39mxlabel(\u001b[38;5;124m\"\u001b[39m\u001b[38;5;124mCategory\u001b[39m\u001b[38;5;124m\"\u001b[39m)\n",
      "File \u001b[0;32m~/anaconda3/lib/python3.11/site-packages/seaborn/matrix.py:446\u001b[0m, in \u001b[0;36mheatmap\u001b[0;34m(data, vmin, vmax, cmap, center, robust, annot, fmt, annot_kws, linewidths, linecolor, cbar, cbar_kws, cbar_ax, square, xticklabels, yticklabels, mask, ax, **kwargs)\u001b[0m\n\u001b[1;32m    365\u001b[0m \u001b[38;5;250m\u001b[39m\u001b[38;5;124;03m\"\"\"Plot rectangular data as a color-encoded matrix.\u001b[39;00m\n\u001b[1;32m    366\u001b[0m \n\u001b[1;32m    367\u001b[0m \u001b[38;5;124;03mThis is an Axes-level function and will draw the heatmap into the\u001b[39;00m\n\u001b[0;32m   (...)\u001b[0m\n\u001b[1;32m    443\u001b[0m \n\u001b[1;32m    444\u001b[0m \u001b[38;5;124;03m\"\"\"\u001b[39;00m\n\u001b[1;32m    445\u001b[0m \u001b[38;5;66;03m# Initialize the plotter object\u001b[39;00m\n\u001b[0;32m--> 446\u001b[0m plotter \u001b[38;5;241m=\u001b[39m _HeatMapper(data, vmin, vmax, cmap, center, robust, annot, fmt,\n\u001b[1;32m    447\u001b[0m                       annot_kws, cbar, cbar_kws, xticklabels,\n\u001b[1;32m    448\u001b[0m                       yticklabels, mask)\n\u001b[1;32m    450\u001b[0m \u001b[38;5;66;03m# Add the pcolormesh kwargs here\u001b[39;00m\n\u001b[1;32m    451\u001b[0m kwargs[\u001b[38;5;124m\"\u001b[39m\u001b[38;5;124mlinewidths\u001b[39m\u001b[38;5;124m\"\u001b[39m] \u001b[38;5;241m=\u001b[39m linewidths\n",
      "File \u001b[0;32m~/anaconda3/lib/python3.11/site-packages/seaborn/matrix.py:163\u001b[0m, in \u001b[0;36m_HeatMapper.__init__\u001b[0;34m(self, data, vmin, vmax, cmap, center, robust, annot, fmt, annot_kws, cbar, cbar_kws, xticklabels, yticklabels, mask)\u001b[0m\n\u001b[1;32m    160\u001b[0m \u001b[38;5;28mself\u001b[39m\u001b[38;5;241m.\u001b[39mylabel \u001b[38;5;241m=\u001b[39m ylabel \u001b[38;5;28;01mif\u001b[39;00m ylabel \u001b[38;5;129;01mis\u001b[39;00m \u001b[38;5;129;01mnot\u001b[39;00m \u001b[38;5;28;01mNone\u001b[39;00m \u001b[38;5;28;01melse\u001b[39;00m \u001b[38;5;124m\"\u001b[39m\u001b[38;5;124m\"\u001b[39m\n\u001b[1;32m    162\u001b[0m \u001b[38;5;66;03m# Determine good default values for the colormapping\u001b[39;00m\n\u001b[0;32m--> 163\u001b[0m \u001b[38;5;28mself\u001b[39m\u001b[38;5;241m.\u001b[39m_determine_cmap_params(plot_data, vmin, vmax,\n\u001b[1;32m    164\u001b[0m                             cmap, center, robust)\n\u001b[1;32m    166\u001b[0m \u001b[38;5;66;03m# Sort out the annotations\u001b[39;00m\n\u001b[1;32m    167\u001b[0m \u001b[38;5;28;01mif\u001b[39;00m annot \u001b[38;5;129;01mis\u001b[39;00m \u001b[38;5;28;01mNone\u001b[39;00m \u001b[38;5;129;01mor\u001b[39;00m annot \u001b[38;5;129;01mis\u001b[39;00m \u001b[38;5;28;01mFalse\u001b[39;00m:\n",
      "File \u001b[0;32m~/anaconda3/lib/python3.11/site-packages/seaborn/matrix.py:202\u001b[0m, in \u001b[0;36m_HeatMapper._determine_cmap_params\u001b[0;34m(self, plot_data, vmin, vmax, cmap, center, robust)\u001b[0m\n\u001b[1;32m    200\u001b[0m         vmin \u001b[38;5;241m=\u001b[39m np\u001b[38;5;241m.\u001b[39mnanpercentile(calc_data, \u001b[38;5;241m2\u001b[39m)\n\u001b[1;32m    201\u001b[0m     \u001b[38;5;28;01melse\u001b[39;00m:\n\u001b[0;32m--> 202\u001b[0m         vmin \u001b[38;5;241m=\u001b[39m np\u001b[38;5;241m.\u001b[39mnanmin(calc_data)\n\u001b[1;32m    203\u001b[0m \u001b[38;5;28;01mif\u001b[39;00m vmax \u001b[38;5;129;01mis\u001b[39;00m \u001b[38;5;28;01mNone\u001b[39;00m:\n\u001b[1;32m    204\u001b[0m     \u001b[38;5;28;01mif\u001b[39;00m robust:\n",
      "File \u001b[0;32m~/anaconda3/lib/python3.11/site-packages/numpy/lib/_nanfunctions_impl.py:357\u001b[0m, in \u001b[0;36mnanmin\u001b[0;34m(a, axis, out, keepdims, initial, where)\u001b[0m\n\u001b[1;32m    352\u001b[0m     kwargs[\u001b[38;5;124m'\u001b[39m\u001b[38;5;124mwhere\u001b[39m\u001b[38;5;124m'\u001b[39m] \u001b[38;5;241m=\u001b[39m where\n\u001b[1;32m    354\u001b[0m \u001b[38;5;28;01mif\u001b[39;00m \u001b[38;5;28mtype\u001b[39m(a) \u001b[38;5;129;01mis\u001b[39;00m np\u001b[38;5;241m.\u001b[39mndarray \u001b[38;5;129;01mand\u001b[39;00m a\u001b[38;5;241m.\u001b[39mdtype \u001b[38;5;241m!=\u001b[39m np\u001b[38;5;241m.\u001b[39mobject_:\n\u001b[1;32m    355\u001b[0m     \u001b[38;5;66;03m# Fast, but not safe for subclasses of ndarray, or object arrays,\u001b[39;00m\n\u001b[1;32m    356\u001b[0m     \u001b[38;5;66;03m# which do not implement isnan (gh-9009), or fmin correctly (gh-8975)\u001b[39;00m\n\u001b[0;32m--> 357\u001b[0m     res \u001b[38;5;241m=\u001b[39m np\u001b[38;5;241m.\u001b[39mfmin\u001b[38;5;241m.\u001b[39mreduce(a, axis\u001b[38;5;241m=\u001b[39maxis, out\u001b[38;5;241m=\u001b[39mout, \u001b[38;5;241m*\u001b[39m\u001b[38;5;241m*\u001b[39mkwargs)\n\u001b[1;32m    358\u001b[0m     \u001b[38;5;28;01mif\u001b[39;00m np\u001b[38;5;241m.\u001b[39misnan(res)\u001b[38;5;241m.\u001b[39many():\n\u001b[1;32m    359\u001b[0m         warnings\u001b[38;5;241m.\u001b[39mwarn(\u001b[38;5;124m\"\u001b[39m\u001b[38;5;124mAll-NaN slice encountered\u001b[39m\u001b[38;5;124m\"\u001b[39m, \u001b[38;5;167;01mRuntimeWarning\u001b[39;00m,\n\u001b[1;32m    360\u001b[0m                       stacklevel\u001b[38;5;241m=\u001b[39m\u001b[38;5;241m2\u001b[39m)\n",
      "\u001b[0;31mValueError\u001b[0m: zero-size array to reduction operation fmin which has no identity"
     ]
    },
    {
     "data": {
      "text/plain": [
       "<Figure size 1800x1000 with 0 Axes>"
      ]
     },
     "metadata": {},
     "output_type": "display_data"
    }
   ],
   "source": [
    "import seaborn as sns\n",
    "import matplotlib.pyplot as plt\n",
    "\n",
    "# Pivot to prepare for heatmap\n",
    "heatmap_data = pre_melted.pivot(index=\"Route\", columns=\"full_category\", values=\"pre_covid_percent\")\n",
    "\n",
    "# Plot\n",
    "plt.figure(figsize=(18, 10))\n",
    "sns.heatmap(heatmap_data, cmap=\"YlGnBu\", annot=False)\n",
    "plt.title(\"Pre-COVID Category Distribution by Route\")\n",
    "plt.xlabel(\"Category\")\n",
    "plt.ylabel(\"Route\")\n",
    "plt.tight_layout()\n",
    "plt.show()\n"
   ]
  },
  {
   "cell_type": "code",
   "execution_count": 14,
   "metadata": {},
   "outputs": [
    {
     "name": "stdout",
     "output_type": "stream",
     "text": [
      "Processing: /Users/sarahyuhan/BostonBusEquity/MBTA-Bus-Arrival-Departure-Times_2023-01.csv\n"
     ]
    },
    {
     "name": "stderr",
     "output_type": "stream",
     "text": [
      "Processing /Users/sarahyuhan/BostonBusEquity/MBTA-Bus-Arrival-Departure-Times_2023-01.csv: 5it [00:10,  2.01s/it]"
     ]
    },
    {
     "name": "stdout",
     "output_type": "stream",
     "text": [
      "Processing: /Users/sarahyuhan/BostonBusEquity/MBTA-Bus-Arrival-Departure-Times_2023-02.csv\n"
     ]
    },
    {
     "name": "stderr",
     "output_type": "stream",
     "text": [
      "\n",
      "Processing /Users/sarahyuhan/BostonBusEquity/MBTA-Bus-Arrival-Departure-Times_2023-02.csv: 5it [00:08,  1.64s/it]"
     ]
    },
    {
     "name": "stdout",
     "output_type": "stream",
     "text": [
      "Processing: /Users/sarahyuhan/BostonBusEquity/MBTA-Bus-Arrival-Departure-Times_2023-03.csv\n"
     ]
    },
    {
     "name": "stderr",
     "output_type": "stream",
     "text": [
      "\n",
      "Processing /Users/sarahyuhan/BostonBusEquity/MBTA-Bus-Arrival-Departure-Times_2023-03.csv: 5it [00:08,  1.76s/it]"
     ]
    },
    {
     "name": "stdout",
     "output_type": "stream",
     "text": [
      "Processing: /Users/sarahyuhan/BostonBusEquity/MBTA-Bus-Arrival-Departure-Times_2023-04.csv\n"
     ]
    },
    {
     "name": "stderr",
     "output_type": "stream",
     "text": [
      "\n",
      "Processing /Users/sarahyuhan/BostonBusEquity/MBTA-Bus-Arrival-Departure-Times_2023-04.csv: 5it [00:08,  1.63s/it]"
     ]
    },
    {
     "name": "stdout",
     "output_type": "stream",
     "text": [
      "Processing: /Users/sarahyuhan/BostonBusEquity/MBTA-Bus-Arrival-Departure-Times_2023-05.csv\n"
     ]
    },
    {
     "name": "stderr",
     "output_type": "stream",
     "text": [
      "\n",
      "Processing /Users/sarahyuhan/BostonBusEquity/MBTA-Bus-Arrival-Departure-Times_2023-05.csv: 5it [00:08,  1.77s/it]"
     ]
    },
    {
     "name": "stdout",
     "output_type": "stream",
     "text": [
      "Processing: /Users/sarahyuhan/BostonBusEquity/MBTA-Bus-Arrival-Departure-Times_2023-06.csv\n"
     ]
    },
    {
     "name": "stderr",
     "output_type": "stream",
     "text": [
      "\n",
      "Processing /Users/sarahyuhan/BostonBusEquity/MBTA-Bus-Arrival-Departure-Times_2023-06.csv: 5it [00:08,  1.65s/it]"
     ]
    },
    {
     "name": "stdout",
     "output_type": "stream",
     "text": [
      "Processing: /Users/sarahyuhan/BostonBusEquity/MBTA-Bus-Arrival-Departure-Times_2023-07.csv\n"
     ]
    },
    {
     "name": "stderr",
     "output_type": "stream",
     "text": [
      "\n",
      "Processing /Users/sarahyuhan/BostonBusEquity/MBTA-Bus-Arrival-Departure-Times_2023-07.csv: 5it [00:07,  1.56s/it]"
     ]
    },
    {
     "name": "stdout",
     "output_type": "stream",
     "text": [
      "Processing: /Users/sarahyuhan/BostonBusEquity/MBTA-Bus-Arrival-Departure-Times_2023-08.csv\n"
     ]
    },
    {
     "name": "stderr",
     "output_type": "stream",
     "text": [
      "\n",
      "Processing /Users/sarahyuhan/BostonBusEquity/MBTA-Bus-Arrival-Departure-Times_2023-08.csv: 5it [00:08,  1.80s/it]"
     ]
    },
    {
     "name": "stdout",
     "output_type": "stream",
     "text": [
      "Processing: /Users/sarahyuhan/BostonBusEquity/MBTA-Bus-Arrival-Departure-Times_2023-09.csv\n"
     ]
    },
    {
     "name": "stderr",
     "output_type": "stream",
     "text": [
      "\n",
      "Processing /Users/sarahyuhan/BostonBusEquity/MBTA-Bus-Arrival-Departure-Times_2023-09.csv: 5it [00:08,  1.64s/it]"
     ]
    },
    {
     "name": "stdout",
     "output_type": "stream",
     "text": [
      "Processing: /Users/sarahyuhan/BostonBusEquity/MBTA-Bus-Arrival-Departure-Times_2023-10.csv\n"
     ]
    },
    {
     "name": "stderr",
     "output_type": "stream",
     "text": [
      "\n",
      "Processing /Users/sarahyuhan/BostonBusEquity/MBTA-Bus-Arrival-Departure-Times_2023-10.csv: 5it [00:07,  1.58s/it]"
     ]
    },
    {
     "name": "stdout",
     "output_type": "stream",
     "text": [
      "Processing: /Users/sarahyuhan/BostonBusEquity/MBTA-Bus-Arrival-Departure-Times_2023-11.csv\n"
     ]
    },
    {
     "name": "stderr",
     "output_type": "stream",
     "text": [
      "\n",
      "Processing /Users/sarahyuhan/BostonBusEquity/MBTA-Bus-Arrival-Departure-Times_2023-11.csv: 5it [00:07,  1.47s/it]"
     ]
    },
    {
     "name": "stdout",
     "output_type": "stream",
     "text": [
      "Processing: /Users/sarahyuhan/BostonBusEquity/MBTA-Bus-Arrival-Departure-Times_2023-12.csv\n"
     ]
    },
    {
     "name": "stderr",
     "output_type": "stream",
     "text": [
      "\n",
      "Processing /Users/sarahyuhan/BostonBusEquity/MBTA-Bus-Arrival-Departure-Times_2023-12.csv: 5it [00:07,  1.47s/it]"
     ]
    },
    {
     "name": "stdout",
     "output_type": "stream",
     "text": [
      "Route lateness collected: 60\n",
      "Route counts collected: 60\n",
      "Route IDs collected: 60\n",
      "Citywide Average Lateness: 243.43 seconds\n",
      "\n",
      "Routes with above-average lateness:\n",
      "     route_id  total_lateness  trip_count  average_lateness\n",
      "4          09       1438019.0        5894        243.980149\n",
      "13         11       1284310.0        4230        303.619385\n",
      "21        120        663215.0        2411        275.078805\n",
      "22        121        105137.0         344        305.630814\n",
      "32         18         97609.0         376        259.598404\n",
      "...       ...             ...         ...               ...\n",
      "8969       29        170201.0         479        355.325678\n",
      "8970       30        189830.0         724        262.196133\n",
      "8975      34E        754550.0        2776        271.811960\n",
      "8994      435        141351.0         577        244.975737\n",
      "9052       97        155402.0         490        317.146939\n",
      "\n",
      "[3583 rows x 4 columns]\n"
     ]
    },
    {
     "name": "stderr",
     "output_type": "stream",
     "text": [
      "\n"
     ]
    }
   ],
   "source": [
    "#now for identifying characteristics associated with lateness\n",
    "# identify the routes that are later than usual and see which categories have higher percentages associated with those routes\n",
    "\n",
    "# using simon's code computing lateness\n",
    "\n",
    "# Step 1: Load CSV Files\n",
    "file_pattern = \"/Users/sarahyuhan/BostonBusEquity/MBTA-Bus-Arrival-Departure-Times_2023-*.csv\"\n",
    "file_paths = sorted(glob.glob(file_pattern))\n",
    "\n",
    "# Step 2: Define Variables\n",
    "chunksize = 500000\n",
    "route_lateness = []\n",
    "route_counts = []\n",
    "route_ids = []\n",
    "\n",
    "outlier_threshold = 3600  # Outlier threshold: 1 hour (3600 seconds)\n",
    "\n",
    "# Ensure we have files\n",
    "if not file_paths:\n",
    "    print(\"No CSV files found. Check the file path!\")\n",
    "\n",
    "# Step 3: Process Each File in Chunks\n",
    "for file_path in file_paths:\n",
    "    print(f\"Processing: {file_path}\", flush=True)\n",
    "    \n",
    "    for chunk in tqdm(pd.read_csv(file_path, chunksize=chunksize), desc=f\"Processing {file_path}\"):\n",
    "        # Convert time columns and remove invalid entries\n",
    "        chunk[\"service_date\"] = pd.to_datetime(chunk[\"service_date\"], errors=\"coerce\")\n",
    "        chunk[\"scheduled\"] = pd.to_datetime(chunk[\"scheduled\"], errors=\"coerce\")\n",
    "        chunk[\"actual\"] = pd.to_datetime(chunk[\"actual\"], errors=\"coerce\")\n",
    "        chunk.dropna(subset=[\"service_date\", \"scheduled\", \"actual\"], inplace=True)\n",
    "\n",
    "        # Ensure proper timezone handling (remove timezone info if necessary)\n",
    "        chunk[\"service_date\"] = chunk[\"service_date\"].dt.tz_localize(None)\n",
    "        chunk[\"scheduled\"] = chunk[\"scheduled\"].dt.tz_localize(None)\n",
    "        chunk[\"actual\"] = chunk[\"actual\"].dt.tz_localize(None)\n",
    "\n",
    "        # Use reference time for accurate lateness calculation\n",
    "        reference_time = pd.Timestamp(\"1900-01-01 00:00:00\").tz_localize(None)\n",
    "        chunk[\"scheduled_seconds\"] = (chunk[\"scheduled\"] - reference_time).dt.total_seconds()\n",
    "        chunk[\"actual_seconds\"] = (chunk[\"actual\"] - reference_time).dt.total_seconds()\n",
    "\n",
    "        # Adjust timestamps using service_date\n",
    "        chunk[\"scheduled\"] = chunk[\"service_date\"] + pd.to_timedelta(chunk[\"scheduled_seconds\"], unit=\"s\")\n",
    "        chunk[\"actual\"] = chunk[\"service_date\"] + pd.to_timedelta(chunk[\"actual_seconds\"], unit=\"s\")\n",
    "\n",
    "        # Compute lateness\n",
    "        chunk[\"lateness\"] = (chunk[\"actual\"] - chunk[\"scheduled\"]).dt.total_seconds()\n",
    "\n",
    "        # **Filter Outliers (Keep values within -1 hour to +1 hour)**\n",
    "        chunk = chunk[chunk[\"lateness\"].abs() <= outlier_threshold]\n",
    "\n",
    "        # Group by route_id (sum of lateness, count of trips)\n",
    "        grouped = chunk.groupby([\"route_id\"])[\"lateness\"].agg([\"sum\", \"count\"]).reset_index()\n",
    "\n",
    "        # Store results\n",
    "        if not grouped.empty:\n",
    "            route_lateness.append(grouped[\"sum\"].values)\n",
    "            route_counts.append(grouped[\"count\"].values)\n",
    "            route_ids.append(grouped[\"route_id\"].values)\n",
    "\n",
    "# Debugging print to check data collected\n",
    "print(f\"Route lateness collected: {len(route_lateness)}\")\n",
    "print(f\"Route counts collected: {len(route_counts)}\")\n",
    "print(f\"Route IDs collected: {len(route_ids)}\")\n",
    "\n",
    "# Step 4: Aggregate Total Lateness and Compute Average\n",
    "total_lateness = sum(map(sum, route_lateness)) if route_lateness else 0\n",
    "total_counts = sum(map(sum, route_counts)) if route_counts else 0\n",
    "average_lateness = total_lateness / total_counts if total_counts > 0 else 0  # Avoid division by zero\n",
    "\n",
    "# Step 5: Create DataFrame of Lateness per Route\n",
    "lateness_df = pd.DataFrame({\n",
    "    \"route_id\": np.concatenate(route_ids) if route_ids else [],\n",
    "    \"total_lateness\": np.concatenate(route_lateness) if route_lateness else [],\n",
    "    \"trip_count\": np.concatenate(route_counts) if route_counts else []\n",
    "})\n",
    "\n",
    "# Compute average lateness per route\n",
    "if not lateness_df.empty:\n",
    "    lateness_df[\"average_lateness\"] = lateness_df[\"total_lateness\"] / lateness_df[\"trip_count\"]\n",
    "\n",
    "# we want to use the routes with lateness that is above average in order answer the question of what demographic of people are affected most by lateness\n",
    "above_avg_routes = lateness_df[lateness_df[\"average_lateness\"] > average_lateness] if not lateness_df.empty else pd.DataFrame()\n",
    "\n",
    "# Display results\n",
    "print(f\"Citywide Average Lateness: {average_lateness:.2f} seconds\")\n",
    "print(\"\\nRoutes with above-average lateness:\")\n",
    "print(above_avg_routes)\n"
   ]
  },
  {
   "cell_type": "code",
   "execution_count": 3,
   "metadata": {},
   "outputs": [
    {
     "name": "stdout",
     "output_type": "stream",
     "text": [
      "Processing: /Users/sarahyuhan/BostonBusEquity/MBTA-Bus-Arrival-Departure-Aug-Sept-2018.csv\n"
     ]
    },
    {
     "name": "stderr",
     "output_type": "stream",
     "text": [
      "Processing /Users/sarahyuhan/BostonBusEquity/MBTA-Bus-Arrival-Departure-Aug-Sept-2018.csv: 11it [00:18,  1.68s/it]"
     ]
    },
    {
     "name": "stdout",
     "output_type": "stream",
     "text": [
      "Processing: /Users/sarahyuhan/BostonBusEquity/MBTA-Bus-Arrival-Departure-Oct-Dec-2018.csv\n"
     ]
    },
    {
     "name": "stderr",
     "output_type": "stream",
     "text": [
      "\n",
      "Processing /Users/sarahyuhan/BostonBusEquity/MBTA-Bus-Arrival-Departure-Oct-Dec-2018.csv: 16it [00:27,  1.71s/it]"
     ]
    },
    {
     "name": "stdout",
     "output_type": "stream",
     "text": [
      "Route lateness collected: 27\n",
      "Route counts collected: 27\n",
      "Route IDs collected: 27\n",
      "Citywide Average Lateness: 249.47 seconds\n",
      "\n",
      "Routes with above-average lateness:\n",
      "     route_id  total_lateness  trip_count  average_lateness\n",
      "0          01       5233144.0       11810        443.111262\n",
      "4          08       1137104.0        4410        257.846712\n",
      "8         101       1296259.0        4063        319.039872\n",
      "9         104        989244.0        2687        368.159285\n",
      "10        105        267470.0         834        320.707434\n",
      "...       ...             ...         ...               ...\n",
      "4523      114         38620.0         132        292.575758\n",
      "4527      120        433151.0        1290        335.775969\n",
      "4543      192         19402.0          48        404.208333\n",
      "4544      193         19791.0          46        430.239130\n",
      "4564      236        210803.0         759        277.737813\n",
      "\n",
      "[2425 rows x 4 columns]\n"
     ]
    },
    {
     "name": "stderr",
     "output_type": "stream",
     "text": [
      "\n"
     ]
    }
   ],
   "source": [
    "#pre covid\n",
    "#since there is no arrival-departure data for the years 2015-2017 we use 2018 data instead\n",
    "# using simon's code computing lateness now for 2018 arrivals and departures\n",
    "file_pattern2 = \"/Users/sarahyuhan/BostonBusEquity/MBTA-Bus-Arrival-Departure-*-2018.csv\"\n",
    "file_paths2 = sorted(glob.glob(file_pattern2))\n",
    "\n",
    "chunksize = 500000\n",
    "route_lateness2 = []\n",
    "route_counts2 = []\n",
    "route_ids2 = []\n",
    "\n",
    "outlier_threshold = 3600  # Outlier threshold: 1 hour (3600 seconds)\n",
    "\n",
    "# Ensure we have files\n",
    "if not file_paths2:\n",
    "    print(\"No CSV files found. Check the file path!\")\n",
    "\n",
    "for file_path in file_paths2:\n",
    "    print(f\"Processing: {file_path}\", flush=True)\n",
    "    \n",
    "    for chunk in tqdm(pd.read_csv(file_path, chunksize=chunksize), desc=f\"Processing {file_path}\"):\n",
    "        # Convert time columns and remove invalid entries\n",
    "        chunk[\"service_date\"] = pd.to_datetime(chunk[\"service_date\"], errors=\"coerce\")\n",
    "        chunk[\"scheduled\"] = pd.to_datetime(chunk[\"scheduled\"], errors=\"coerce\")\n",
    "        chunk[\"actual\"] = pd.to_datetime(chunk[\"actual\"], errors=\"coerce\")\n",
    "        chunk.dropna(subset=[\"service_date\", \"scheduled\", \"actual\"], inplace=True)\n",
    "\n",
    "        # Ensure proper timezone handling (remove timezone info if necessary)\n",
    "        chunk[\"service_date\"] = chunk[\"service_date\"].dt.tz_localize(None)\n",
    "        chunk[\"scheduled\"] = chunk[\"scheduled\"].dt.tz_localize(None)\n",
    "        chunk[\"actual\"] = chunk[\"actual\"].dt.tz_localize(None)\n",
    "\n",
    "        # Use reference time for accurate lateness calculation\n",
    "        reference_time = pd.Timestamp(\"1900-01-01 00:00:00\").tz_localize(None)\n",
    "        chunk[\"scheduled_seconds\"] = (chunk[\"scheduled\"] - reference_time).dt.total_seconds()\n",
    "        chunk[\"actual_seconds\"] = (chunk[\"actual\"] - reference_time).dt.total_seconds()\n",
    "\n",
    "        # Adjust timestamps using service_date\n",
    "        chunk[\"scheduled\"] = chunk[\"service_date\"] + pd.to_timedelta(chunk[\"scheduled_seconds\"], unit=\"s\")\n",
    "        chunk[\"actual\"] = chunk[\"service_date\"] + pd.to_timedelta(chunk[\"actual_seconds\"], unit=\"s\")\n",
    "\n",
    "        # Compute lateness\n",
    "        chunk[\"lateness\"] = (chunk[\"actual\"] - chunk[\"scheduled\"]).dt.total_seconds()\n",
    "\n",
    "        # **Filter Outliers (Keep values within -1 hour to +1 hour)**\n",
    "        chunk = chunk[chunk[\"lateness\"].abs() <= outlier_threshold]\n",
    "\n",
    "        # Group by route_id (sum of lateness, count of trips)\n",
    "        grouped = chunk.groupby([\"route_id\"])[\"lateness\"].agg([\"sum\", \"count\"]).reset_index()\n",
    "\n",
    "        # Store results\n",
    "        if not grouped.empty:\n",
    "            route_lateness2.append(grouped[\"sum\"].values)\n",
    "            route_counts2.append(grouped[\"count\"].values)\n",
    "            route_ids2.append(grouped[\"route_id\"].values)\n",
    "\n",
    "# Debugging print to check data collected\n",
    "print(f\"Route lateness collected: {len(route_lateness2)}\")\n",
    "print(f\"Route counts collected: {len(route_counts2)}\")\n",
    "print(f\"Route IDs collected: {len(route_ids2)}\")\n",
    "\n",
    "# Step 4: Aggregate Total Lateness and Compute Average\n",
    "total_lateness2 = sum(map(sum, route_lateness2)) if route_lateness2 else 0\n",
    "total_counts2 = sum(map(sum, route_counts2)) if route_counts2 else 0\n",
    "average_lateness2 = total_lateness2 / total_counts2 if total_counts2 > 0 else 0  # Avoid division by zero\n",
    "\n",
    "# Step 5: Create DataFrame of Lateness per Route\n",
    "lateness_df2 = pd.DataFrame({\n",
    "    \"route_id\": np.concatenate(route_ids2) if route_ids2 else [],\n",
    "    \"total_lateness\": np.concatenate(route_lateness2) if route_lateness2 else [],\n",
    "    \"trip_count\": np.concatenate(route_counts2) if route_counts2 else []\n",
    "})\n",
    "\n",
    "# Compute average lateness per route\n",
    "if not lateness_df2.empty:\n",
    "    lateness_df2[\"average_lateness\"] = lateness_df2[\"total_lateness\"] / lateness_df2[\"trip_count\"]\n",
    "\n",
    "# we want to use the routes with lateness that is above average in order answer the question of what demographic of people are affected most by lateness\n",
    "above_avg_routes_2018 = lateness_df2[lateness_df2[\"average_lateness\"] > average_lateness2] if not lateness_df2.empty else pd.DataFrame()\n",
    "\n",
    "# Display results\n",
    "print(f\"Citywide Average Lateness: {average_lateness2:.2f} seconds\")\n",
    "print(\"\\nRoutes with above-average lateness:\")\n",
    "print(above_avg_routes_2018)\n"
   ]
  },
  {
   "cell_type": "code",
   "execution_count": 15,
   "metadata": {},
   "outputs": [],
   "source": [
    "postcovid = \"/Users/sarahyuhan/BostonBusEquity/2023.csv\"\n",
    "df_post = pd.read_csv(postcovid)\n",
    "\n",
    "# Filter only bus routes\n",
    "df_post = df_post[df_post['service_mode'] == 'Bus']\n",
    "\n",
    "# Convert route_id to match post-COVID dataset format\n",
    "above_avg_routes = above_avg_routes.copy()  # Ensure it's a copy\n",
    "above_avg_routes[\"route_id\"] = above_avg_routes[\"route_id\"].astype(str)\n",
    "\n",
    "df_post[\"reporting_group\"] = df_post[\"reporting_group\"].astype(str)\n",
    "\n",
    "# Merge post-COVID data with routes that had above-average lateness\n",
    "df_analysis = df_post[df_post[\"reporting_group\"].isin(above_avg_routes[\"route_id\"])]"
   ]
  },
  {
   "cell_type": "code",
   "execution_count": 16,
   "metadata": {},
   "outputs": [
    {
     "name": "stdout",
     "output_type": "stream",
     "text": [
      "\n",
      "Routes with Higher Than Average Lateness:\n"
     ]
    },
    {
     "data": {
      "text/html": [
       "<div>\n",
       "<style scoped>\n",
       "    .dataframe tbody tr th:only-of-type {\n",
       "        vertical-align: middle;\n",
       "    }\n",
       "\n",
       "    .dataframe tbody tr th {\n",
       "        vertical-align: top;\n",
       "    }\n",
       "\n",
       "    .dataframe thead th {\n",
       "        text-align: right;\n",
       "    }\n",
       "</style>\n",
       "<table border=\"1\" class=\"dataframe\">\n",
       "  <thead>\n",
       "    <tr style=\"text-align: right;\">\n",
       "      <th></th>\n",
       "      <th>route_id</th>\n",
       "      <th>total_lateness</th>\n",
       "      <th>trip_count</th>\n",
       "      <th>average_lateness</th>\n",
       "    </tr>\n",
       "  </thead>\n",
       "  <tbody>\n",
       "    <tr>\n",
       "      <th>4</th>\n",
       "      <td>09</td>\n",
       "      <td>1438019.0</td>\n",
       "      <td>5894</td>\n",
       "      <td>243.980149</td>\n",
       "    </tr>\n",
       "    <tr>\n",
       "      <th>13</th>\n",
       "      <td>11</td>\n",
       "      <td>1284310.0</td>\n",
       "      <td>4230</td>\n",
       "      <td>303.619385</td>\n",
       "    </tr>\n",
       "    <tr>\n",
       "      <th>21</th>\n",
       "      <td>120</td>\n",
       "      <td>663215.0</td>\n",
       "      <td>2411</td>\n",
       "      <td>275.078805</td>\n",
       "    </tr>\n",
       "    <tr>\n",
       "      <th>22</th>\n",
       "      <td>121</td>\n",
       "      <td>105137.0</td>\n",
       "      <td>344</td>\n",
       "      <td>305.630814</td>\n",
       "    </tr>\n",
       "    <tr>\n",
       "      <th>32</th>\n",
       "      <td>18</td>\n",
       "      <td>97609.0</td>\n",
       "      <td>376</td>\n",
       "      <td>259.598404</td>\n",
       "    </tr>\n",
       "    <tr>\n",
       "      <th>...</th>\n",
       "      <td>...</td>\n",
       "      <td>...</td>\n",
       "      <td>...</td>\n",
       "      <td>...</td>\n",
       "    </tr>\n",
       "    <tr>\n",
       "      <th>8969</th>\n",
       "      <td>29</td>\n",
       "      <td>170201.0</td>\n",
       "      <td>479</td>\n",
       "      <td>355.325678</td>\n",
       "    </tr>\n",
       "    <tr>\n",
       "      <th>8970</th>\n",
       "      <td>30</td>\n",
       "      <td>189830.0</td>\n",
       "      <td>724</td>\n",
       "      <td>262.196133</td>\n",
       "    </tr>\n",
       "    <tr>\n",
       "      <th>8975</th>\n",
       "      <td>34E</td>\n",
       "      <td>754550.0</td>\n",
       "      <td>2776</td>\n",
       "      <td>271.811960</td>\n",
       "    </tr>\n",
       "    <tr>\n",
       "      <th>8994</th>\n",
       "      <td>435</td>\n",
       "      <td>141351.0</td>\n",
       "      <td>577</td>\n",
       "      <td>244.975737</td>\n",
       "    </tr>\n",
       "    <tr>\n",
       "      <th>9052</th>\n",
       "      <td>97</td>\n",
       "      <td>155402.0</td>\n",
       "      <td>490</td>\n",
       "      <td>317.146939</td>\n",
       "    </tr>\n",
       "  </tbody>\n",
       "</table>\n",
       "<p>3583 rows × 4 columns</p>\n",
       "</div>"
      ],
      "text/plain": [
       "     route_id  total_lateness  trip_count  average_lateness\n",
       "4          09       1438019.0        5894        243.980149\n",
       "13         11       1284310.0        4230        303.619385\n",
       "21        120        663215.0        2411        275.078805\n",
       "22        121        105137.0         344        305.630814\n",
       "32         18         97609.0         376        259.598404\n",
       "...       ...             ...         ...               ...\n",
       "8969       29        170201.0         479        355.325678\n",
       "8970       30        189830.0         724        262.196133\n",
       "8975      34E        754550.0        2776        271.811960\n",
       "8994      435        141351.0         577        244.975737\n",
       "9052       97        155402.0         490        317.146939\n",
       "\n",
       "[3583 rows x 4 columns]"
      ]
     },
     "metadata": {},
     "output_type": "display_data"
    }
   ],
   "source": [
    "print(\"\\nRoutes with Higher Than Average Lateness:\")\n",
    "display(above_avg_routes) "
   ]
  },
  {
   "cell_type": "code",
   "execution_count": 17,
   "metadata": {},
   "outputs": [],
   "source": [
    "# Aggregate percentage data for routes with high lateness\n",
    "#for post covid\n",
    "category_analysis = df_analysis.groupby([\"measure_group\", \"category\"])[\"weighted_percent\"].mean().reset_index()\n",
    "\n",
    "# sort\n",
    "#category_analysis = category_analysis.sort_values(by=\"weighted_percent\", ascending=False)\n",
    "top_categories = (\n",
    "    category_analysis\n",
    "    .sort_values(['measure_group', 'weighted_percent'], ascending=[True, False])\n",
    "    .groupby(\"measure_group\")\n",
    "    .head(2)\n",
    ")"
   ]
  },
  {
   "cell_type": "code",
   "execution_count": null,
   "metadata": {},
   "outputs": [],
   "source": [
    "# top 10 characteristics\n",
    "#df_plot = category_analysis.head(10)\n",
    "\n",
    "# Plot the categories\n",
    "\"\"\"\n",
    "plt.figure(figsize=(12, 6))\n",
    "plt.barh(df_plot[\"category\"], df_plot[\"weighted_percent\"], color=\"blue\")\n",
    "\n",
    "plt.xlabel(\"Average Percentage in High-Lateness Routes\")\n",
    "plt.ylabel(\"Category\")\n",
    "plt.title(\"Top Characteristics in High-Lateness Routes (Post-COVID)\")\n",
    "plt.gca().invert_yaxis()  # Highest values at the top\n",
    "plt.grid(axis=\"x\", linestyle=\"--\", alpha=0.7)\n",
    "\n",
    "# Show plot\n",
    "plt.show()\"\n",
    "\"\"\"\"\""
   ]
  },
  {
   "cell_type": "code",
   "execution_count": null,
   "metadata": {},
   "outputs": [],
   "source": [
    "plt.figure(figsize=(12, 6))\n",
    "sns.barplot(data=top_categories, y=\"category\", x=\"weighted_percent\", hue=\"measure_group\", dodge=False)\n",
    "\n",
    "# Formatting\n",
    "plt.xlabel(\"Average Percentage in High-Lateness Routes\")\n",
    "plt.ylabel(\"Category\")\n",
    "plt.title(\"Top 2 Characteristics per Measure Group (Post-COVID High-Lateness Routes)\")\n",
    "plt.legend(title=\"Measure Group\", bbox_to_anchor=(1.05, 1), loc=\"upper left\")\n",
    "plt.grid(axis=\"x\", linestyle=\"--\", alpha=0.7)\n",
    "plt.tight_layout()\n",
    "plt.show()"
   ]
  },
  {
   "cell_type": "code",
   "execution_count": null,
   "metadata": {},
   "outputs": [
    {
     "name": "stdout",
     "output_type": "stream",
     "text": [
      "Top 10 Categories with Highest Average Percentages in High-Lateness Routes (Post-COVID):\n",
      "\n",
      "                                       Label  weighted_percent\n",
      "                        Access Mode : Walked          0.941235\n",
      "                 Other Demographics : Always          0.870246\n",
      "                      Alternative Modes : No          0.865716\n",
      "                                Income : Yes          0.826909\n",
      "                           Fares : Full Fare          0.772700\n",
      "                  Other Demographics : Woman          0.578687\n",
      "Trip Purpose and Frequency : Home-based Work          0.559124\n",
      "                     Race and Ethnicity : No          0.519627\n",
      "                    Race and Ethnicity : Yes          0.476507\n",
      "Trip Purpose and Frequency : 5 days per week          0.457552\n"
     ]
    }
   ],
   "source": [
    "# display the top categories\n",
    "top_10 = category_analysis.head(10)\n",
    "print(\"Top 10 Categories with Highest Average Percentages in High-Lateness Routes (Post-COVID):\\n\")\n",
    "print(top_10.to_string(index=False))"
   ]
  },
  {
   "cell_type": "code",
   "execution_count": 36,
   "metadata": {},
   "outputs": [],
   "source": [
    "df_post[\"full_category\"] = df_post[\"measure\"] + \": \" + df_post[\"category\"]\n",
    "df_post[\"percentage\"] = df_post[\"percentage\"] * 100\n",
    "\n",
    "# NOW filter using the updated df_post\n",
    "df_analysis = df_post[df_post[\"reporting_group\"].isin(above_avg_routes[\"route_id\"])]\n"
   ]
  },
  {
   "cell_type": "code",
   "execution_count": 38,
   "metadata": {},
   "outputs": [],
   "source": [
    "# Pivot to get categories as features\n",
    "pivot_df = df_analysis.pivot_table(index='reporting_group', \n",
    "                                    columns='full_category', \n",
    "                                    values='percentage', \n",
    "                                    aggfunc='mean').fillna(0)\n",
    "\n",
    "# merge in lateness\n",
    "pivot_df = pivot_df.merge(lateness_df[[\"route_id\", \"average_lateness\"]], \n",
    "                          left_index=True, right_on=\"route_id\", how=\"left\")\n",
    "pivot_df = pivot_df.drop(columns=\"route_id\")"
   ]
  },
  {
   "cell_type": "code",
   "execution_count": 39,
   "metadata": {},
   "outputs": [],
   "source": [
    "from sklearn.preprocessing import StandardScaler\n",
    "scaler = StandardScaler()\n",
    "scaled_features = scaler.fit_transform(pivot_df)\n",
    "\n",
    "#normalizing the features\n",
    "from sklearn.cluster import KMeans\n",
    "\n",
    "#kmeans\n",
    "kmeans = KMeans(n_clusters=3, random_state=42)\n",
    "clusters = kmeans.fit_predict(scaled_features)\n",
    "\n",
    "pivot_df[\"cluster\"] = clusters"
   ]
  },
  {
   "cell_type": "code",
   "execution_count": null,
   "metadata": {},
   "outputs": [],
   "source": [
    "# Show average feature values per cluster\n",
    "cluster_summary = pivot_df.groupby(\"cluster\").mean()\n",
    "display(cluster_summary)\n",
    "\n",
    "# Visualize\n",
    "import seaborn as sns\n",
    "import matplotlib.pyplot as plt\n",
    "\n",
    "sns.boxplot(data=pivot_df, x=\"cluster\", y=\"average_lateness\")\n",
    "plt.title(\"Average Lateness by Cluster\")\n",
    "plt.show()"
   ]
  },
  {
   "cell_type": "code",
   "execution_count": null,
   "metadata": {},
   "outputs": [],
   "source": [
    "from sklearn.decomposition import PCA\n",
    "import matplotlib.pyplot as plt\n",
    "import seaborn as sns\n",
    "\n",
    "# Reduce to 2D using PCA\n",
    "pca = PCA(n_components=2)\n",
    "reduced_features = pca.fit_transform(scaled_features)\n",
    "\n",
    "# Create a DataFrame with 2D coordinates and cluster labels\n",
    "visual_df = pd.DataFrame(reduced_features, columns=[\"PCA1\", \"PCA2\"])\n",
    "visual_df[\"Cluster\"] = clusters\n",
    "\n",
    "# Plot the clusters in 2D space\n",
    "plt.figure(figsize=(10, 6))\n",
    "sns.scatterplot(data=visual_df, x=\"PCA1\", y=\"PCA2\", hue=\"Cluster\", palette=\"Set2\", s=70)\n",
    "plt.title(\"K-Means Clustering of Bus Routes (Demographics) - PCA Projection\")\n",
    "plt.xlabel(\"Principal Component 1\")\n",
    "plt.ylabel(\"Principal Component 2\")\n",
    "plt.legend(title=\"Cluster\")\n",
    "plt.grid(True)\n",
    "plt.show()\n"
   ]
  },
  {
   "cell_type": "code",
   "execution_count": null,
   "metadata": {},
   "outputs": [],
   "source": [
    "cluster_summary = pivot_df.groupby(\"cluster\").mean()\n",
    "display(cluster_summary)"
   ]
  },
  {
   "cell_type": "code",
   "execution_count": 5,
   "metadata": {},
   "outputs": [
    {
     "name": "stdout",
     "output_type": "stream",
     "text": [
      "\n",
      "Routes with Higher Than Average Lateness 2018:\n"
     ]
    },
    {
     "data": {
      "text/html": [
       "<div>\n",
       "<style scoped>\n",
       "    .dataframe tbody tr th:only-of-type {\n",
       "        vertical-align: middle;\n",
       "    }\n",
       "\n",
       "    .dataframe tbody tr th {\n",
       "        vertical-align: top;\n",
       "    }\n",
       "\n",
       "    .dataframe thead th {\n",
       "        text-align: right;\n",
       "    }\n",
       "</style>\n",
       "<table border=\"1\" class=\"dataframe\">\n",
       "  <thead>\n",
       "    <tr style=\"text-align: right;\">\n",
       "      <th></th>\n",
       "      <th>route_id</th>\n",
       "      <th>total_lateness</th>\n",
       "      <th>trip_count</th>\n",
       "      <th>average_lateness</th>\n",
       "    </tr>\n",
       "  </thead>\n",
       "  <tbody>\n",
       "    <tr>\n",
       "      <th>0</th>\n",
       "      <td>01</td>\n",
       "      <td>5233144.0</td>\n",
       "      <td>11810</td>\n",
       "      <td>443.111262</td>\n",
       "    </tr>\n",
       "    <tr>\n",
       "      <th>4</th>\n",
       "      <td>08</td>\n",
       "      <td>1137104.0</td>\n",
       "      <td>4410</td>\n",
       "      <td>257.846712</td>\n",
       "    </tr>\n",
       "    <tr>\n",
       "      <th>8</th>\n",
       "      <td>101</td>\n",
       "      <td>1296259.0</td>\n",
       "      <td>4063</td>\n",
       "      <td>319.039872</td>\n",
       "    </tr>\n",
       "    <tr>\n",
       "      <th>9</th>\n",
       "      <td>104</td>\n",
       "      <td>989244.0</td>\n",
       "      <td>2687</td>\n",
       "      <td>368.159285</td>\n",
       "    </tr>\n",
       "    <tr>\n",
       "      <th>10</th>\n",
       "      <td>105</td>\n",
       "      <td>267470.0</td>\n",
       "      <td>834</td>\n",
       "      <td>320.707434</td>\n",
       "    </tr>\n",
       "    <tr>\n",
       "      <th>...</th>\n",
       "      <td>...</td>\n",
       "      <td>...</td>\n",
       "      <td>...</td>\n",
       "      <td>...</td>\n",
       "    </tr>\n",
       "    <tr>\n",
       "      <th>4523</th>\n",
       "      <td>114</td>\n",
       "      <td>38620.0</td>\n",
       "      <td>132</td>\n",
       "      <td>292.575758</td>\n",
       "    </tr>\n",
       "    <tr>\n",
       "      <th>4527</th>\n",
       "      <td>120</td>\n",
       "      <td>433151.0</td>\n",
       "      <td>1290</td>\n",
       "      <td>335.775969</td>\n",
       "    </tr>\n",
       "    <tr>\n",
       "      <th>4543</th>\n",
       "      <td>192</td>\n",
       "      <td>19402.0</td>\n",
       "      <td>48</td>\n",
       "      <td>404.208333</td>\n",
       "    </tr>\n",
       "    <tr>\n",
       "      <th>4544</th>\n",
       "      <td>193</td>\n",
       "      <td>19791.0</td>\n",
       "      <td>46</td>\n",
       "      <td>430.239130</td>\n",
       "    </tr>\n",
       "    <tr>\n",
       "      <th>4564</th>\n",
       "      <td>236</td>\n",
       "      <td>210803.0</td>\n",
       "      <td>759</td>\n",
       "      <td>277.737813</td>\n",
       "    </tr>\n",
       "  </tbody>\n",
       "</table>\n",
       "<p>2425 rows × 4 columns</p>\n",
       "</div>"
      ],
      "text/plain": [
       "     route_id  total_lateness  trip_count  average_lateness\n",
       "0          01       5233144.0       11810        443.111262\n",
       "4          08       1137104.0        4410        257.846712\n",
       "8         101       1296259.0        4063        319.039872\n",
       "9         104        989244.0        2687        368.159285\n",
       "10        105        267470.0         834        320.707434\n",
       "...       ...             ...         ...               ...\n",
       "4523      114         38620.0         132        292.575758\n",
       "4527      120        433151.0        1290        335.775969\n",
       "4543      192         19402.0          48        404.208333\n",
       "4544      193         19791.0          46        430.239130\n",
       "4564      236        210803.0         759        277.737813\n",
       "\n",
       "[2425 rows x 4 columns]"
      ]
     },
     "metadata": {},
     "output_type": "display_data"
    }
   ],
   "source": [
    "#pre covid lateness using the survey dataset 2015-2017 and the departure arrivals from 2018 (closest dataset)\n",
    "precovid_folder = \"/Users/sarahyuhan/BostonBusEquity/2015-2017-tables\"\n",
    "file_paths = glob.glob(os.path.join(precovid_folder, '*export.xlsx'))\n",
    "\n",
    "df_list = [pd.read_excel(file) for file in file_paths]\n",
    "df_pre = pd.concat(df_list, ignore_index=True)\n",
    "\n",
    "# Convert route_id to match post-COVID dataset format\n",
    "above_avg_routes_2018 = above_avg_routes_2018.copy()\n",
    "above_avg_routes_2018[\"route_id\"] = above_avg_routes_2018[\"route_id\"].astype(str)\n",
    "\n",
    "df_pre[\"Route\"] = df_pre[\"Route\"].astype(str)\n",
    "\n",
    "# Merge post-COVID data with routes that had above-average lateness\n",
    "df_analysis2 = df_pre[df_pre[\"Route\"].isin(above_avg_routes_2018[\"route_id\"])]\n",
    "\n",
    "print(\"\\nRoutes with Higher Than Average Lateness 2018:\")\n",
    "display(above_avg_routes_2018) "
   ]
  },
  {
   "cell_type": "code",
   "execution_count": 39,
   "metadata": {},
   "outputs": [
    {
     "name": "stdout",
     "output_type": "stream",
     "text": [
      "\n",
      "Top categories for route:\n"
     ]
    },
    {
     "data": {
      "text/plain": [
       "Trip Purpose: Home-based work    37.186970\n",
       "Trip Frequency: 5 days a week    28.654947\n",
       "dtype: float64"
      ]
     },
     "metadata": {},
     "output_type": "display_data"
    },
    {
     "name": "stdout",
     "output_type": "stream",
     "text": [
      "\n",
      "Top categories for income:\n"
     ]
    },
    {
     "data": {
      "text/plain": [
       "Low-income: No     32.819609\n",
       "Low-income: Yes    17.197155\n",
       "dtype: float64"
      ]
     },
     "metadata": {},
     "output_type": "display_data"
    },
    {
     "name": "stdout",
     "output_type": "stream",
     "text": [
      "\n",
      "Top categories for other_demographics:\n"
     ]
    },
    {
     "data": {
      "text/plain": [
       "English Ability: Always    31.717533\n",
       "Gender: Woman              19.855640\n",
       "dtype: float64"
      ]
     },
     "metadata": {},
     "output_type": "display_data"
    },
    {
     "name": "stdout",
     "output_type": "stream",
     "text": [
      "\n",
      "Top categories for auto_availability:\n"
     ]
    },
    {
     "data": {
      "text/plain": [
       "License: Yes    24.894646\n",
       "Vehicles: 1     13.943647\n",
       "dtype: float64"
      ]
     },
     "metadata": {},
     "output_type": "display_data"
    },
    {
     "name": "stdout",
     "output_type": "stream",
     "text": [
      "\n",
      "Top categories for access_mode:\n"
     ]
    },
    {
     "data": {
      "text/plain": [
       "Access: Walked or bicycled           47.297170\n",
       "Previous Mode: Rail rapid transit    34.143996\n",
       "dtype: float64"
      ]
     },
     "metadata": {},
     "output_type": "display_data"
    },
    {
     "name": "stdout",
     "output_type": "stream",
     "text": [
      "\n",
      "Top categories for alt_mode:\n"
     ]
    },
    {
     "data": {
      "text/plain": [
       "Use Alt Mode: Yes                          26.004475\n",
       "Alt Mode: Take a different MBTA service    20.815509\n",
       "dtype: float64"
      ]
     },
     "metadata": {},
     "output_type": "display_data"
    },
    {
     "name": "stdout",
     "output_type": "stream",
     "text": [
      "\n",
      "Top categories for race_and_ethnicity:\n"
     ]
    },
    {
     "data": {
      "text/plain": [
       "Hispanic: No    27.763540\n",
       "Race: White     20.316887\n",
       "dtype: float64"
      ]
     },
     "metadata": {},
     "output_type": "display_data"
    },
    {
     "name": "stdout",
     "output_type": "stream",
     "text": [
      "\n",
      "Top categories for fares:\n"
     ]
    },
    {
     "data": {
      "text/plain": [
       "Pay-Per-Ride Type: Charlie Card (plastic)     27.005650\n",
       "Monthly Pass Type: LinkPass or Express Bus    25.019041\n",
       "dtype: float64"
      ]
     },
     "metadata": {},
     "output_type": "display_data"
    }
   ],
   "source": [
    "precovid_folder = \"/Users/sarahyuhan/BostonBusEquity/2015-2017-tables\"\n",
    "file_paths = glob.glob(os.path.join(precovid_folder, '*export.xlsx'))\n",
    "\n",
    "# Store top categories per table\n",
    "top_categories_per_table = {}\n",
    "\n",
    "# Make sure route IDs are string for comparison\n",
    "above_avg_routes_2018[\"route_id\"] = above_avg_routes_2018[\"route_id\"].astype(str)\n",
    "\n",
    "for file_path in file_paths:\n",
    "    df = pd.read_excel(file_path)\n",
    "\n",
    "    # Ensure column names are stripped of whitespace\n",
    "    df.columns = df.columns.str.strip()\n",
    "    \n",
    "    # Ensure Route column exists and is string\n",
    "    if \"Route\" not in df.columns:\n",
    "        continue\n",
    "    df[\"Route\"] = df[\"Route\"].astype(str)\n",
    "\n",
    "    # Filter to routes with high lateness\n",
    "    df_filtered = df[df[\"Route\"].isin(above_avg_routes_2018[\"route_id\"])].copy()\n",
    "\n",
    "    # Drop non-numeric columns except Route\n",
    "    numeric_cols = df_filtered.drop(columns=[\"Route\"]).select_dtypes(include='number').columns\n",
    "    if len(numeric_cols) == 0:\n",
    "        continue  # Skip if no numeric columns\n",
    "\n",
    "    # Calculate percentages per row (per route)\n",
    "    df_percentages = df_filtered.copy()\n",
    "    row_sums = df_filtered[numeric_cols].sum(axis=1)\n",
    "    df_percentages[numeric_cols] = df_filtered[numeric_cols].div(row_sums, axis=0) * 100\n",
    "\n",
    "    # Aggregate: average percentage across all high-lateness routes for each category\n",
    "    category_averages = df_percentages[numeric_cols].mean().sort_values(ascending=False)\n",
    "\n",
    "    # Store the result\n",
    "    table_name = os.path.basename(file_path).replace(\"_data_export.xlsx\", \"\")\n",
    "    top_categories_per_table[table_name] = category_averages\n",
    "\n",
    "# Display top categories for each survey type\n",
    "for table, series in top_categories_per_table.items():\n",
    "    print(f\"\\nTop categories for {table}:\")\n",
    "    display(series.head(2))\n"
   ]
  },
  {
   "cell_type": "code",
   "execution_count": 54,
   "metadata": {},
   "outputs": [
    {
     "data": {
      "image/png": "[encoded data removed]",
      "text/plain": [
       "<Figure size 1500x600 with 1 Axes>"
      ]
     },
     "metadata": {},
     "output_type": "display_data"
    }
   ],
   "source": [
    "import matplotlib.pyplot as plt\n",
    "import numpy as np\n",
    "import pandas as pd\n",
    "import seaborn as sns\n",
    "\n",
    "# Use seaborn for better color palette\n",
    "palette = sns.color_palette(\"tab20\", n_colors=50)\n",
    "\n",
    "# Prepare flat data: one row per category per table\n",
    "data_for_plot = []\n",
    "\n",
    "for table, series in top_categories_per_table.items():\n",
    "    top3 = series.head(3)\n",
    "    for category, percent in top3.items():\n",
    "        data_for_plot.append({\n",
    "            \"Survey Table\": table,\n",
    "            \"Category\": category,\n",
    "            \"Percentage\": percent\n",
    "        })\n",
    "\n",
    "plot_df = pd.DataFrame(data_for_plot)\n",
    "\n",
    "# Assign unique colors per category\n",
    "unique_categories = plot_df[\"Category\"].unique()\n",
    "category_to_color = {cat: palette[i % len(palette)] for i, cat in enumerate(unique_categories)}\n",
    "\n",
    "# Pivot to control bar positions\n",
    "plot_df[\"Position\"] = plot_df.groupby(\"Survey Table\").cumcount()\n",
    "\n",
    "# Set plot\n",
    "fig, ax = plt.subplots(figsize=(15, 6))\n",
    "\n",
    "x = np.arange(plot_df[\"Survey Table\"].nunique())\n",
    "width = 0.25\n",
    "\n",
    "# Draw bars\n",
    "for i in range(3):\n",
    "    subset = plot_df[plot_df[\"Position\"] == i]\n",
    "    bars = ax.bar(\n",
    "        x + (i - 1) * width,\n",
    "        subset[\"Percentage\"],\n",
    "        width=width,\n",
    "        color=[category_to_color[cat] for cat in subset[\"Category\"]],\n",
    "        label=None  # skip label here, we'll build legend manually\n",
    "    )\n",
    "\n",
    "# X-axis setup\n",
    "ax.set_xticks(x)\n",
    "ax.set_xticklabels(plot_df[\"Survey Table\"].unique(), rotation=45, ha=\"right\")\n",
    "ax.set_ylabel(\"Average Percentage (%)\")\n",
    "ax.set_title(\"Top 3 Categories by Survey Table (Avg % of Riders)\")\n",
    "\n",
    "# Build custom legend\n",
    "handles = [plt.Line2D([0], [0], marker='o', color='w', label=cat,\n",
    "                      markerfacecolor=color, markersize=10)\n",
    "           for cat, color in category_to_color.items()]\n",
    "ax.legend(handles=handles, title=\"Category\", bbox_to_anchor=(1.05, 1), loc='upper left')\n",
    "\n",
    "plt.tight_layout()\n",
    "plt.show()\n"
   ]
  },
  {
   "cell_type": "code",
   "execution_count": null,
   "metadata": {},
   "outputs": [],
   "source": [
    "#now i want to look at the top categories in pre covid, find the same categories in post covid with the same routes\n",
    "#and see the percent change\n",
    "records = []\n",
    "for table, series in top_categories_per_table.items():\n",
    "    for category, pre_pct in series.head(2).items():\n",
    "        records.append({\"table\": table, \"full_category\": category, \"pre_covid_percent\": pre_pct})\n",
    "\n",
    "df_top_categories = pd.DataFrame(records)\n",
    "post_averages = (\n",
    "    above_avg_routes_2018.groupby(\"full_category\")[\"percentage\"]\n",
    "    .mean()\n",
    "    .reset_index()\n",
    "    .rename(columns={\"percentage\": \"post_covid_percent\"})\n",
    ")"
   ]
  },
  {
   "cell_type": "code",
   "execution_count": null,
   "metadata": {},
   "outputs": [],
   "source": [
    "df_top_categories = df_top_categories.merge(post_averages, on=\"full_category\", how=\"left\")\n",
    "df_top_categories[\"percent_change\"] = df_top_categories[\"post_covid_percent\"] - df_top_categories[\"pre_covid_percent\"]\n",
    "\n",
    "# Optional: Sort if needed\n",
    "df_top_categories = df_top_categories.sort_values(by=\"percent_change\", ascending=False)\n",
    "\n",
    "# Step 6: Plot\n",
    "plt.figure(figsize=(14, 6))\n",
    "sns.barplot(\n",
    "    data=df_top_categories,\n",
    "    x=\"table\",\n",
    "    y=\"percent_change\",\n",
    "    hue=\"full_category\"\n",
    ")\n",
    "\n",
    "# Formatting\n",
    "plt.title(\"Percent Change from Pre-COVID to Post-COVID (Top Categories by Table)\")\n",
    "plt.ylabel(\"Percentage Point Change\")\n",
    "plt.xlabel(\"Survey Table\")\n",
    "plt.axhline(0, color='gray', linestyle='--')\n",
    "plt.legend(title=\"Category\", bbox_to_anchor=(1.05, 1), loc=\"upper left\")\n",
    "plt.tight_layout()\n",
    "plt.grid(axis=\"y\", linestyle=\"--\", alpha=0.6)\n",
    "plt.show()"
   ]
  }
 ],
 "metadata": {
  "kernelspec": {
   "display_name": "base",
   "language": "python",
   "name": "python3"
  },
  "language_info": {
   "codemirror_mode": {
    "name": "ipython",
    "version": 3
   },
   "file_extension": ".py",
   "mimetype": "text/x-python",
   "name": "python",
   "nbconvert_exporter": "python",
   "pygments_lexer": "ipython3",
   "version": "3.11.5"
  }
 },
 "nbformat": 4,
 "nbformat_minor": 2
}
