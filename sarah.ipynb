{
 "cells": [
  {
   "cell_type": "code",
   "execution_count": 1,
   "metadata": {},
   "outputs": [],
   "source": [
    "import pandas as pd\n",
    "import matplotlib.pyplot as plt\n",
    "import numpy as np\n",
    "import seaborn as sns\n",
    "from IPython.display import display\n",
    "import glob\n",
    "from tqdm import tqdm\n",
    "import os"
   ]
  },
  {
   "cell_type": "code",
   "execution_count": 2,
   "metadata": {},
   "outputs": [],
   "source": [
    "precovid_folder = \"/Users/sarahyuhan/BostonBusEquity/2015-2017-tables\"\n",
    "#all the export files in 2015-2017\n",
    "file_paths = glob.glob(os.path.join(precovid_folder, '*export.xlsx'))\n",
    "\n",
    "df_list = [pd.read_excel(file) for file in file_paths]\n",
    "df_pre = pd.concat(df_list, ignore_index=True)\n",
    "\n",
    "df_pre.head()\n",
    "\n",
    "postcovid = \"/Users/sarahyuhan/BostonBusEquity/2023.csv\"\n",
    "df_post = pd.read_csv(postcovid)\n",
    "df_post = df_post[df_post['service_mode'] == 'Bus']"
   ]
  },
  {
   "cell_type": "code",
   "execution_count": 3,
   "metadata": {},
   "outputs": [
    {
     "data": {
      "text/plain": [
       "(          Route  Trip Purpose: Home-based work  \\\n",
       " 0  line-all-bus                           70.0   \n",
       " 1             1                           65.0   \n",
       " 2           100                           62.0   \n",
       " 3           101                           75.0   \n",
       " 4           104                           84.0   \n",
       " \n",
       "    Trip Purpose: Home-based school  Trip Purpose: Home-based social activity  \\\n",
       " 0                              8.0                                       4.0   \n",
       " 1                              9.0                                       7.0   \n",
       " 2                              8.0                                       9.0   \n",
       " 3                              9.0                                       2.0   \n",
       " 4                              7.0                                       1.0   \n",
       " \n",
       "    Trip Purpose: Home-based other  Trip Purpose: Non-home-based  \\\n",
       " 0                            12.0                           6.0   \n",
       " 1                             9.0                          10.0   \n",
       " 2                            13.0                           9.0   \n",
       " 3                            10.0                           4.0   \n",
       " 4                             7.0                           1.0   \n",
       " \n",
       "    Trip Frequency: 6-7 days a week  Trip Frequency: 5 days a week  \\\n",
       " 0                             13.0                           55.0   \n",
       " 1                             14.0                           46.0   \n",
       " 2                             19.0                           41.0   \n",
       " 3                              5.0                           66.0   \n",
       " 4                             21.0                           55.0   \n",
       " \n",
       "    Trip Frequency: 3-4 days a week  Trip Frequency: 1-2 days a week  ...  \\\n",
       " 0                             14.0                              8.0  ...   \n",
       " 1                             16.0                              8.0  ...   \n",
       " 2                             15.0                              7.0  ...   \n",
       " 3                             14.0                              4.0  ...   \n",
       " 4                             13.0                              5.0  ...   \n",
       " \n",
       "    Fare: Other  Monthly Pass Type: Reduced-fare pass  \\\n",
       " 0          NaN                                   NaN   \n",
       " 1          NaN                                   NaN   \n",
       " 2          NaN                                   NaN   \n",
       " 3          NaN                                   NaN   \n",
       " 4          NaN                                   NaN   \n",
       " \n",
       "    Monthly Pass Type: Local Bus  Monthly Pass Type: LinkPass or Express Bus  \\\n",
       " 0                           NaN                                         NaN   \n",
       " 1                           NaN                                         NaN   \n",
       " 2                           NaN                                         NaN   \n",
       " 3                           NaN                                         NaN   \n",
       " 4                           NaN                                         NaN   \n",
       " \n",
       "    Monthly Pass Type: Commuter rail or ferry  \\\n",
       " 0                                        NaN   \n",
       " 1                                        NaN   \n",
       " 2                                        NaN   \n",
       " 3                                        NaN   \n",
       " 4                                        NaN   \n",
       " \n",
       "    Pay-Per-Ride Type: Full cash fare on board  \\\n",
       " 0                                         NaN   \n",
       " 1                                         NaN   \n",
       " 2                                         NaN   \n",
       " 3                                         NaN   \n",
       " 4                                         NaN   \n",
       " \n",
       "    Pay-Per-Ride Type: Reduced fare  \\\n",
       " 0                              NaN   \n",
       " 1                              NaN   \n",
       " 2                              NaN   \n",
       " 3                              NaN   \n",
       " 4                              NaN   \n",
       " \n",
       "    Pay-Per-Ride Type: mTicket (single/multi-ride)  \\\n",
       " 0                                             NaN   \n",
       " 1                                             NaN   \n",
       " 2                                             NaN   \n",
       " 3                                             NaN   \n",
       " 4                                             NaN   \n",
       " \n",
       "    Pay-Per-Ride Type: Charlie Card (plastic)  \\\n",
       " 0                                        NaN   \n",
       " 1                                        NaN   \n",
       " 2                                        NaN   \n",
       " 3                                        NaN   \n",
       " 4                                        NaN   \n",
       " \n",
       "    Pay-Per-Ride Type: Charlie Ticket (paper)  \n",
       " 0                                        NaN  \n",
       " 1                                        NaN  \n",
       " 2                                        NaN  \n",
       " 3                                        NaN  \n",
       " 4                                        NaN  \n",
       " \n",
       " [5 rows x 93 columns],\n",
       "   aggregation_level service_mode reporting_group measure_group  \\\n",
       " 0   Reporting Group          Bus             104        Income   \n",
       " 1   Reporting Group          Bus             104        Income   \n",
       " 2   Reporting Group          Bus             104        Income   \n",
       " 3   Reporting Group          Bus             104        Income   \n",
       " 4   Reporting Group          Bus             104        Income   \n",
       " \n",
       "                measure                            category  weighted_percent  \\\n",
       " 0     Household Income    60% to 80% of Area Median Income          0.208875   \n",
       " 1     Household Income   80% to 100% of Area Median Income          0.083513   \n",
       " 2     Household Income  100% to 140% of Area Median Income          0.043782   \n",
       " 3     Household Income                   Prefer not to say          0.061199   \n",
       " 4  Title VI Low-Income                                 Yes          0.864406   \n",
       " \n",
       "    ObjectId  \n",
       " 0         1  \n",
       " 1         2  \n",
       " 2         3  \n",
       " 3         4  \n",
       " 4         5  )"
      ]
     },
     "execution_count": 3,
     "metadata": {},
     "output_type": "execute_result"
    }
   ],
   "source": [
    "df_pre.head(),df_post.head()"
   ]
  },
  {
   "cell_type": "code",
   "execution_count": 4,
   "metadata": {},
   "outputs": [
    {
     "data": {
      "text/plain": [
       "(Index(['Route', 'Trip Purpose: Home-based work',\n",
       "        'Trip Purpose: Home-based school',\n",
       "        'Trip Purpose: Home-based social activity',\n",
       "        'Trip Purpose: Home-based other', 'Trip Purpose: Non-home-based',\n",
       "        'Trip Frequency: 6-7 days a week', 'Trip Frequency: 5 days a week',\n",
       "        'Trip Frequency: 3-4 days a week', 'Trip Frequency: 1-2 days a week',\n",
       "        'Trip Frequency: 1-3 days a month',\n",
       "        'Trip Frequency: Less than once a month', 'Income: Less than $14,500',\n",
       "        'Income: $14,500 to $28,999', 'Income: $29,000 to $43,499',\n",
       "        'Income: $43,500 to $57,999', 'Income: $58,000 to $75,999',\n",
       "        'Income: $76,000 to $108,499', 'Income: $108,500 to $151,999',\n",
       "        'Income: $152,000 or more', 'Income: Prefer not to say',\n",
       "        'Low-income: Yes', 'Low-income: No', 'Age: Under 18', 'Age: 18 to 21',\n",
       "        'Age: 22 to 34', 'Age: 35 to 44', 'Age: 45 to 64', 'Age: 65 or over',\n",
       "        'Gender: Man', 'Gender: Woman', 'Gender: Other',\n",
       "        'Gender: Prefer not to say', 'English Ability: Always',\n",
       "        'English Ability: Often', 'English Ability: Sometimes',\n",
       "        'English Ability: Never', 'English Ability: Prefer not to say',\n",
       "        'Vehicles: 0', 'Vehicles: 1', 'Vehicles: 2', 'Vehicles: 3 or more',\n",
       "        'Vehicles/Capita: None', 'Vehicles/Capita: 0.01–0.49',\n",
       "        'Vehicles/Capita: 0.50–0.99', 'Vehicles/Capita: 1.00–1.49',\n",
       "        'Vehicles/Capita: 1.50–1.99', 'Vehicles/Capita: 2 or more',\n",
       "        'License: Yes', 'License: No', 'Access: Walked or bicycled',\n",
       "        'Access: Drove alone', 'Access: Carpooled',\n",
       "        'Access: Dropped off by personal vehicle',\n",
       "        'Access: Dropped off by other vehicle',\n",
       "        'Previous Mode: Bus or Silver Line',\n",
       "        'Previous Mode: Rail rapid transit',\n",
       "        'Previous Mode: Commuter rail or ferry', 'Use Alt Mode: Yes',\n",
       "        'Use Alt Mode: No', 'Alt Mode: Walk', 'Alt Mode: Bicycle',\n",
       "        'Alt Mode: Drive alone', 'Alt Mode: Drive or ride in a carpool',\n",
       "        'Alt Mode: Take a taxi or use a rideshare company',\n",
       "        'Alt Mode: Take a private shuttle or other transit',\n",
       "        'Alt Mode: Take a different MBTA service', 'Alt Mode: Other',\n",
       "        'Race: American Indian or Alaska Native', 'Race: Asian',\n",
       "        'Race: Black or African American',\n",
       "        'Race: Native Hawaiian or other Pacific Islander', 'Race: White',\n",
       "        'Race: Other', 'Race: Prefer not to say', 'Hispanic: Yes',\n",
       "        'Hispanic: No', 'Hispanic: Prefer not to say', 'Minority: Yes',\n",
       "        'Minority: No', 'Fare: Monthly pass', 'Fare: Pay-per-ride',\n",
       "        'Fare: 1-day or 7-day LinkPass', 'Fare: Other',\n",
       "        'Monthly Pass Type: Reduced-fare pass', 'Monthly Pass Type: Local Bus',\n",
       "        'Monthly Pass Type: LinkPass or Express Bus',\n",
       "        'Monthly Pass Type: Commuter rail or ferry',\n",
       "        'Pay-Per-Ride Type: Full cash fare on board',\n",
       "        'Pay-Per-Ride Type: Reduced fare',\n",
       "        'Pay-Per-Ride Type: mTicket (single/multi-ride)',\n",
       "        'Pay-Per-Ride Type: Charlie Card (plastic)',\n",
       "        'Pay-Per-Ride Type: Charlie Ticket (paper)'],\n",
       "       dtype='object'),\n",
       " Index(['aggregation_level', 'service_mode', 'reporting_group', 'measure_group',\n",
       "        'measure', 'category', 'percentage', 'objectid', 'full_category'],\n",
       "       dtype='object'))"
      ]
     },
     "execution_count": 4,
     "metadata": {},
     "output_type": "execute_result"
    }
   ],
   "source": [
    "df_pre_numeric = df_pre.drop(columns=[\"Mode\"], errors=\"ignore\").apply(pd.to_numeric, errors=\"coerce\")\n",
    "\n",
    "# mapping of categories from df_post\n",
    "df_post.columns = df_post.columns.str.strip().str.lower()\n",
    "df_post['full_category'] = df_post['measure_group'] + \": \" + df_post['category']\n",
    "\n",
    "category_mapping = df_post[['category', 'full_category']].drop_duplicates().set_index('category').to_dict()['full_category']\n",
    "\n",
    "# Rename df_pre columns using this mapping\n",
    "df_post.rename(columns=lambda x: x.strip(), inplace=True)\n",
    "df_post.rename(columns={\n",
    "    'weighted_percent': 'percentage'\n",
    "}, inplace=True)\n",
    "\n",
    "\n",
    "df_pre.columns, df_post.columns\n"
   ]
  },
  {
   "cell_type": "code",
   "execution_count": 5,
   "metadata": {},
   "outputs": [
    {
     "name": "stdout",
     "output_type": "stream",
     "text": [
      "['Route', 'Trip Purpose: Home-based work', 'Trip Purpose: Home-based school', 'Trip Purpose: Home-based social activity', 'Trip Purpose: Home-based other', 'Trip Purpose: Non-home-based', 'Trip Frequency: 6-7 days a week', 'Trip Frequency: 5 days a week', 'Trip Frequency: 3-4 days a week', 'Trip Frequency: 1-2 days a week', 'Trip Frequency: 1-3 days a month', 'Trip Frequency: Less than once a month', 'Income: Less than $14,500', 'Income: $14,500 to $28,999', 'Income: $29,000 to $43,499', 'Income: $43,500 to $57,999', 'Income: $58,000 to $75,999', 'Income: $76,000 to $108,499', 'Income: $108,500 to $151,999', 'Income: $152,000 or more', 'Income: Prefer not to say', 'Low-income: Yes', 'Low-income: No', 'Age: Under 18', 'Age: 18 to 21', 'Age: 22 to 34', 'Age: 35 to 44', 'Age: 45 to 64', 'Age: 65 or over', 'Gender: Man', 'Gender: Woman', 'Gender: Other', 'Gender: Prefer not to say', 'English Ability: Always', 'English Ability: Often', 'English Ability: Sometimes', 'English Ability: Never', 'English Ability: Prefer not to say', 'Vehicles: 0', 'Vehicles: 1', 'Vehicles: 2', 'Vehicles: 3 or more', 'Vehicles/Capita: None', 'Vehicles/Capita: 0.01–0.49', 'Vehicles/Capita: 0.50–0.99', 'Vehicles/Capita: 1.00–1.49', 'Vehicles/Capita: 1.50–1.99', 'Vehicles/Capita: 2 or more', 'License: Yes', 'License: No', 'Access: Walked or bicycled', 'Access: Drove alone', 'Access: Carpooled', 'Access: Dropped off by personal vehicle', 'Access: Dropped off by other vehicle', 'Previous Mode: Bus or Silver Line', 'Previous Mode: Rail rapid transit', 'Previous Mode: Commuter rail or ferry', 'Use Alt Mode: Yes', 'Use Alt Mode: No', 'Alt Mode: Walk', 'Alt Mode: Bicycle', 'Alt Mode: Drive alone', 'Alt Mode: Drive or ride in a carpool', 'Alt Mode: Take a taxi or use a rideshare company', 'Alt Mode: Take a private shuttle or other transit', 'Alt Mode: Take a different MBTA service', 'Alt Mode: Other', 'Race: American Indian or Alaska Native', 'Race: Asian', 'Race: Black or African American', 'Race: Native Hawaiian or other Pacific Islander', 'Race: White', 'Race: Other', 'Race: Prefer not to say', 'Hispanic: Yes', 'Hispanic: No', 'Hispanic: Prefer not to say', 'Minority: Yes', 'Minority: No', 'Fare: Monthly pass', 'Fare: Pay-per-ride', 'Fare: 1-day or 7-day LinkPass', 'Fare: Other', 'Monthly Pass Type: Reduced-fare pass', 'Monthly Pass Type: Local Bus', 'Monthly Pass Type: LinkPass or Express Bus', 'Monthly Pass Type: Commuter rail or ferry', 'Pay-Per-Ride Type: Full cash fare on board', 'Pay-Per-Ride Type: Reduced fare', 'Pay-Per-Ride Type: mTicket (single/multi-ride)', 'Pay-Per-Ride Type: Charlie Card (plastic)', 'Pay-Per-Ride Type: Charlie Ticket (paper)']\n"
     ]
    }
   ],
   "source": [
    "print(df_pre_numeric.columns.tolist())\n"
   ]
  },
  {
   "cell_type": "code",
   "execution_count": 6,
   "metadata": {},
   "outputs": [
    {
     "name": "stdout",
     "output_type": "stream",
     "text": [
      "aggregation_level    0\n",
      "service_mode         0\n",
      "reporting_group      0\n",
      "measure_group        0\n",
      "measure              0\n",
      "category             1\n",
      "percentage           0\n",
      "objectid             0\n",
      "full_category        1\n",
      "dtype: int64\n"
     ]
    }
   ],
   "source": [
    "print(df_post.isnull().sum())\n",
    "df_post = df_post.dropna()\n",
    "df_pre = df_pre.dropna()"
   ]
  },
  {
   "cell_type": "code",
   "execution_count": 7,
   "metadata": {},
   "outputs": [
    {
     "name": "stdout",
     "output_type": "stream",
     "text": [
      "Columns in df_post: Index(['aggregation_level', 'service_mode', 'reporting_group', 'measure_group',\n",
      "       'measure', 'category', 'percentage', 'objectid', 'full_category'],\n",
      "      dtype='object')\n"
     ]
    }
   ],
   "source": [
    "print(\"Columns in df_post:\", df_post.columns)\n"
   ]
  },
  {
   "cell_type": "code",
   "execution_count": 8,
   "metadata": {},
   "outputs": [
    {
     "name": "stderr",
     "output_type": "stream",
     "text": [
      "/var/folders/gh/8gsn76px7tn2s_cff89q_8ww0000gn/T/ipykernel_89930/3967445553.py:16: FutureWarning: DataFrame.groupby with axis=1 is deprecated. Do `frame.T.groupby(...)` without axis instead.\n",
      "  category_totals = df_pre_numeric.groupby(lambda x: x.split(\":\")[0], axis=1).sum()\n"
     ]
    }
   ],
   "source": [
    "#COMPARING PERCENTAGES in number of people from each category taking the bus pre covid and post covid\n",
    "# Ensure column names in df_post are standardized\n",
    "df_post.columns = df_post.columns.str.strip().str.lower()\n",
    "df_post.rename(columns={'weighted_percent': 'percentage'}, inplace=True)\n",
    "df_post[\"percentage\"] = df_post[\"percentage\"] * 100\n",
    "\n",
    "\n",
    "df_post['full_category'] = df_post['measure'] + \": \" + df_post['category']\n",
    "\n",
    "# Extract unique category names from df_post for renaming df_pre\n",
    "category_mapping = df_post[['category', 'full_category']].drop_duplicates().set_index('category').to_dict()['full_category']\n",
    "\n",
    "# Drop non-numeric columns from df_pre and convert all to numeric\n",
    "df_pre_numeric = df_pre.drop(columns=[\"Mode\"], errors=\"ignore\").apply(pd.to_numeric, errors=\"coerce\")\n",
    "\n",
    "category_totals = df_pre_numeric.groupby(lambda x: x.split(\":\")[0], axis=1).sum()\n",
    "pre_percentages = df_pre_numeric.apply(lambda x: (x / category_totals[x.name.split(\":\")[0]]) * 100 if x.name.split(\":\")[0] in category_totals else x, axis=0)\n",
    "pre_percentages = pre_percentages.rename(columns=category_mapping)\n",
    "\n",
    "# convert to DataFrame for merging\n",
    "pre_percentages = pre_percentages.T\n",
    "pre_percentages = pre_percentages.reset_index()\n",
    "pre_percentages = pre_percentages.rename(columns={pre_percentages.columns[0]: 'pre_covid_percent'})\n",
    "pre_percentages['full_category'] = pre_percentages.index\n",
    "pre_percentages = pre_percentages.reset_index(drop=True)\n",
    "\n",
    "\n",
    "# Ensure both merge columns are strings\n",
    "pre_percentages[\"full_category\"] = pre_percentages[\"full_category\"].astype(str)\n",
    "df_post[\"full_category\"] = df_post[\"full_category\"].astype(str)\n",
    "\n",
    "# Merge with df_post based on full_category\n",
    "df_comparison = pd.merge(\n",
    "    pre_percentages,\n",
    "    df_post[['measure_group', 'full_category', 'percentage']],\n",
    "    on=\"full_category\",\n",
    "    how=\"inner\"\n",
    ")\n",
    "\n",
    "# create Separate Tables for Each Measure**\n",
    "grouped_tables = {measure: data for measure, data in df_comparison.groupby(\"measure_group\")}\n",
    "\n",
    "# display\n",
    "for measure, table in grouped_tables.items():\n",
    "    print(f\"\\nComparison Table for {measure}:\")\n",
    "    display(table)"
   ]
  },
  {
   "cell_type": "code",
   "execution_count": 9,
   "metadata": {},
   "outputs": [
    {
     "name": "stderr",
     "output_type": "stream",
     "text": [
      "/var/folders/gh/8gsn76px7tn2s_cff89q_8ww0000gn/T/ipykernel_89930/3682109928.py:6: FutureWarning: DataFrame.groupby with axis=1 is deprecated. Do `frame.T.groupby(...)` without axis instead.\n",
      "  category_totals = df_pre_numeric.groupby(lambda x: x.split(\":\")[0], axis=1).sum()\n"
     ]
    }
   ],
   "source": [
    "# Apply category_mapping to rename pre-covid columns BEFORE calculating percentages\n",
    "df_pre_renamed = df_pre.rename(columns=category_mapping)\n",
    "\n",
    "# Drop non-numeric and compute percentages by category\n",
    "df_pre_numeric = df_pre_renamed.drop(columns=[\"Route\"], errors=\"ignore\").apply(pd.to_numeric, errors=\"coerce\")\n",
    "category_totals = df_pre_numeric.groupby(lambda x: x.split(\":\")[0], axis=1).sum()\n",
    "pre_percentages = df_pre_numeric.apply(lambda x: (x / category_totals[x.name.split(\":\")[0]]) * 100 if x.name.split(\":\")[0] in category_totals else x, axis=0)\n",
    "\n",
    "# Turn into long-form DataFrame\n",
    "pre_percentages[\"Route\"] = df_pre[\"Route\"]\n",
    "pre_melted = pre_percentages.melt(id_vars=\"Route\", var_name=\"full_category\", value_name=\"pre_covid_percent\")\n"
   ]
  },
  {
   "cell_type": "code",
   "execution_count": 10,
   "metadata": {},
   "outputs": [
    {
     "name": "stdout",
     "output_type": "stream",
     "text": [
      "Processing: /Users/sarahyuhan/BostonBusEquity/MBTA-Bus-Arrival-Departure-Times_2023-01.csv\n"
     ]
    },
    {
     "name": "stderr",
     "output_type": "stream",
     "text": [
      "Processing /Users/sarahyuhan/BostonBusEquity/MBTA-Bus-Arrival-Departure-Times_2023-01.csv: 5it [00:09,  1.85s/it]"
     ]
    },
    {
     "name": "stdout",
     "output_type": "stream",
     "text": [
      "Processing: /Users/sarahyuhan/BostonBusEquity/MBTA-Bus-Arrival-Departure-Times_2023-02.csv\n"
     ]
    },
    {
     "name": "stderr",
     "output_type": "stream",
     "text": [
      "\n",
      "Processing /Users/sarahyuhan/BostonBusEquity/MBTA-Bus-Arrival-Departure-Times_2023-02.csv: 5it [00:08,  1.75s/it]"
     ]
    },
    {
     "name": "stdout",
     "output_type": "stream",
     "text": [
      "Processing: /Users/sarahyuhan/BostonBusEquity/MBTA-Bus-Arrival-Departure-Times_2023-03.csv\n"
     ]
    },
    {
     "name": "stderr",
     "output_type": "stream",
     "text": [
      "\n",
      "Processing /Users/sarahyuhan/BostonBusEquity/MBTA-Bus-Arrival-Departure-Times_2023-03.csv: 5it [00:09,  1.89s/it]"
     ]
    },
    {
     "name": "stdout",
     "output_type": "stream",
     "text": [
      "Processing: /Users/sarahyuhan/BostonBusEquity/MBTA-Bus-Arrival-Departure-Times_2023-04.csv\n"
     ]
    },
    {
     "name": "stderr",
     "output_type": "stream",
     "text": [
      "\n",
      "Processing /Users/sarahyuhan/BostonBusEquity/MBTA-Bus-Arrival-Departure-Times_2023-04.csv: 5it [00:10,  2.17s/it]"
     ]
    },
    {
     "name": "stdout",
     "output_type": "stream",
     "text": [
      "Processing: /Users/sarahyuhan/BostonBusEquity/MBTA-Bus-Arrival-Departure-Times_2023-05.csv\n"
     ]
    },
    {
     "name": "stderr",
     "output_type": "stream",
     "text": [
      "\n",
      "Processing /Users/sarahyuhan/BostonBusEquity/MBTA-Bus-Arrival-Departure-Times_2023-05.csv: 5it [00:10,  2.08s/it]"
     ]
    },
    {
     "name": "stdout",
     "output_type": "stream",
     "text": [
      "Processing: /Users/sarahyuhan/BostonBusEquity/MBTA-Bus-Arrival-Departure-Times_2023-06.csv\n"
     ]
    },
    {
     "name": "stderr",
     "output_type": "stream",
     "text": [
      "\n",
      "Processing /Users/sarahyuhan/BostonBusEquity/MBTA-Bus-Arrival-Departure-Times_2023-06.csv: 5it [00:08,  1.80s/it]"
     ]
    },
    {
     "name": "stdout",
     "output_type": "stream",
     "text": [
      "Processing: /Users/sarahyuhan/BostonBusEquity/MBTA-Bus-Arrival-Departure-Times_2023-07.csv\n"
     ]
    },
    {
     "name": "stderr",
     "output_type": "stream",
     "text": [
      "\n",
      "Processing /Users/sarahyuhan/BostonBusEquity/MBTA-Bus-Arrival-Departure-Times_2023-07.csv: 5it [00:10,  2.03s/it]"
     ]
    },
    {
     "name": "stdout",
     "output_type": "stream",
     "text": [
      "Processing: /Users/sarahyuhan/BostonBusEquity/MBTA-Bus-Arrival-Departure-Times_2023-08.csv\n"
     ]
    },
    {
     "name": "stderr",
     "output_type": "stream",
     "text": [
      "\n",
      "Processing /Users/sarahyuhan/BostonBusEquity/MBTA-Bus-Arrival-Departure-Times_2023-08.csv: 5it [00:09,  1.99s/it]"
     ]
    },
    {
     "name": "stdout",
     "output_type": "stream",
     "text": [
      "Processing: /Users/sarahyuhan/BostonBusEquity/MBTA-Bus-Arrival-Departure-Times_2023-09.csv\n"
     ]
    },
    {
     "name": "stderr",
     "output_type": "stream",
     "text": [
      "\n",
      "Processing /Users/sarahyuhan/BostonBusEquity/MBTA-Bus-Arrival-Departure-Times_2023-09.csv: 5it [00:10,  2.00s/it]"
     ]
    },
    {
     "name": "stdout",
     "output_type": "stream",
     "text": [
      "Processing: /Users/sarahyuhan/BostonBusEquity/MBTA-Bus-Arrival-Departure-Times_2023-10.csv\n"
     ]
    },
    {
     "name": "stderr",
     "output_type": "stream",
     "text": [
      "\n",
      "Processing /Users/sarahyuhan/BostonBusEquity/MBTA-Bus-Arrival-Departure-Times_2023-10.csv: 5it [00:11,  2.24s/it]"
     ]
    },
    {
     "name": "stdout",
     "output_type": "stream",
     "text": [
      "Processing: /Users/sarahyuhan/BostonBusEquity/MBTA-Bus-Arrival-Departure-Times_2023-11.csv\n"
     ]
    },
    {
     "name": "stderr",
     "output_type": "stream",
     "text": [
      "\n",
      "Processing /Users/sarahyuhan/BostonBusEquity/MBTA-Bus-Arrival-Departure-Times_2023-11.csv: 5it [00:10,  2.07s/it]"
     ]
    },
    {
     "name": "stdout",
     "output_type": "stream",
     "text": [
      "Processing: /Users/sarahyuhan/BostonBusEquity/MBTA-Bus-Arrival-Departure-Times_2023-12.csv\n"
     ]
    },
    {
     "name": "stderr",
     "output_type": "stream",
     "text": [
      "\n",
      "Processing /Users/sarahyuhan/BostonBusEquity/MBTA-Bus-Arrival-Departure-Times_2023-12.csv: 5it [00:12,  2.51s/it]"
     ]
    },
    {
     "name": "stdout",
     "output_type": "stream",
     "text": [
      "Route lateness collected: 60\n",
      "Route counts collected: 60\n",
      "Route IDs collected: 60\n",
      "Citywide Average Lateness: 243.43 seconds\n",
      "\n",
      "Routes with above-average lateness:\n",
      "     route_id  total_lateness  trip_count  average_lateness\n",
      "4          09       1438019.0        5894        243.980149\n",
      "13         11       1284310.0        4230        303.619385\n",
      "21        120        663215.0        2411        275.078805\n",
      "22        121        105137.0         344        305.630814\n",
      "32         18         97609.0         376        259.598404\n",
      "...       ...             ...         ...               ...\n",
      "8969       29        170201.0         479        355.325678\n",
      "8970       30        189830.0         724        262.196133\n",
      "8975      34E        754550.0        2776        271.811960\n",
      "8994      435        141351.0         577        244.975737\n",
      "9052       97        155402.0         490        317.146939\n",
      "\n",
      "[3583 rows x 4 columns]\n"
     ]
    },
    {
     "name": "stderr",
     "output_type": "stream",
     "text": [
      "\n"
     ]
    }
   ],
   "source": [
    "#now for identifying characteristics associated with lateness\n",
    "# identify the routes that are later than usual and see which categories have higher percentages associated with those routes\n",
    "\n",
    "# using simon's code computing lateness\n",
    "\n",
    "# Step 1: Load CSV Files\n",
    "file_pattern = \"/Users/sarahyuhan/BostonBusEquity/MBTA-Bus-Arrival-Departure-Times_2023-*.csv\"\n",
    "file_paths = sorted(glob.glob(file_pattern))\n",
    "\n",
    "# Step 2: Define Variables\n",
    "chunksize = 500000\n",
    "route_lateness = []\n",
    "route_counts = []\n",
    "route_ids = []\n",
    "\n",
    "outlier_threshold = 3600  # Outlier threshold: 1 hour (3600 seconds)\n",
    "\n",
    "# Ensure we have files\n",
    "if not file_paths:\n",
    "    print(\"No CSV files found. Check the file path!\")\n",
    "\n",
    "# Step 3: Process Each File in Chunks\n",
    "for file_path in file_paths:\n",
    "    print(f\"Processing: {file_path}\", flush=True)\n",
    "    \n",
    "    for chunk in tqdm(pd.read_csv(file_path, chunksize=chunksize), desc=f\"Processing {file_path}\"):\n",
    "        # Convert time columns and remove invalid entries\n",
    "        chunk[\"service_date\"] = pd.to_datetime(chunk[\"service_date\"], errors=\"coerce\")\n",
    "        chunk[\"scheduled\"] = pd.to_datetime(chunk[\"scheduled\"], errors=\"coerce\")\n",
    "        chunk[\"actual\"] = pd.to_datetime(chunk[\"actual\"], errors=\"coerce\")\n",
    "        chunk.dropna(subset=[\"service_date\", \"scheduled\", \"actual\"], inplace=True)\n",
    "\n",
    "        # Ensure proper timezone handling (remove timezone info if necessary)\n",
    "        chunk[\"service_date\"] = chunk[\"service_date\"].dt.tz_localize(None)\n",
    "        chunk[\"scheduled\"] = chunk[\"scheduled\"].dt.tz_localize(None)\n",
    "        chunk[\"actual\"] = chunk[\"actual\"].dt.tz_localize(None)\n",
    "\n",
    "        # Use reference time for accurate lateness calculation\n",
    "        reference_time = pd.Timestamp(\"1900-01-01 00:00:00\").tz_localize(None)\n",
    "        chunk[\"scheduled_seconds\"] = (chunk[\"scheduled\"] - reference_time).dt.total_seconds()\n",
    "        chunk[\"actual_seconds\"] = (chunk[\"actual\"] - reference_time).dt.total_seconds()\n",
    "\n",
    "        # Adjust timestamps using service_date\n",
    "        chunk[\"scheduled\"] = chunk[\"service_date\"] + pd.to_timedelta(chunk[\"scheduled_seconds\"], unit=\"s\")\n",
    "        chunk[\"actual\"] = chunk[\"service_date\"] + pd.to_timedelta(chunk[\"actual_seconds\"], unit=\"s\")\n",
    "\n",
    "        # Compute lateness\n",
    "        chunk[\"lateness\"] = (chunk[\"actual\"] - chunk[\"scheduled\"]).dt.total_seconds()\n",
    "\n",
    "        # **Filter Outliers (Keep values within -1 hour to +1 hour)**\n",
    "        chunk = chunk[chunk[\"lateness\"].abs() <= outlier_threshold]\n",
    "\n",
    "        # Group by route_id (sum of lateness, count of trips)\n",
    "        grouped = chunk.groupby([\"route_id\"])[\"lateness\"].agg([\"sum\", \"count\"]).reset_index()\n",
    "\n",
    "        # Store results\n",
    "        if not grouped.empty:\n",
    "            route_lateness.append(grouped[\"sum\"].values)\n",
    "            route_counts.append(grouped[\"count\"].values)\n",
    "            route_ids.append(grouped[\"route_id\"].values)\n",
    "\n",
    "# Debugging print to check data collected\n",
    "print(f\"Route lateness collected: {len(route_lateness)}\")\n",
    "print(f\"Route counts collected: {len(route_counts)}\")\n",
    "print(f\"Route IDs collected: {len(route_ids)}\")\n",
    "\n",
    "# Step 4: Aggregate Total Lateness and Compute Average\n",
    "total_lateness = sum(map(sum, route_lateness)) if route_lateness else 0\n",
    "total_counts = sum(map(sum, route_counts)) if route_counts else 0\n",
    "average_lateness = total_lateness / total_counts if total_counts > 0 else 0  # Avoid division by zero\n",
    "\n",
    "# Step 5: Create DataFrame of Lateness per Route\n",
    "lateness_df = pd.DataFrame({\n",
    "    \"route_id\": np.concatenate(route_ids) if route_ids else [],\n",
    "    \"total_lateness\": np.concatenate(route_lateness) if route_lateness else [],\n",
    "    \"trip_count\": np.concatenate(route_counts) if route_counts else []\n",
    "})\n",
    "\n",
    "# Compute average lateness per route\n",
    "if not lateness_df.empty:\n",
    "    lateness_df[\"average_lateness\"] = lateness_df[\"total_lateness\"] / lateness_df[\"trip_count\"]\n",
    "\n",
    "# we want to use the routes with lateness that is above average in order answer the question of what demographic of people are affected most by lateness\n",
    "above_avg_routes = lateness_df[lateness_df[\"average_lateness\"] > average_lateness] if not lateness_df.empty else pd.DataFrame()\n",
    "\n",
    "# Display results\n",
    "print(f\"Citywide Average Lateness: {average_lateness:.2f} seconds\")\n",
    "print(\"\\nRoutes with above-average lateness:\")\n",
    "print(above_avg_routes)\n"
   ]
  },
  {
   "cell_type": "code",
   "execution_count": 11,
   "metadata": {},
   "outputs": [
    {
     "name": "stdout",
     "output_type": "stream",
     "text": [
      "Processing: /Users/sarahyuhan/BostonBusEquity/MBTA-Bus-Arrival-Departure-Aug-Sept-2018.csv\n"
     ]
    },
    {
     "name": "stderr",
     "output_type": "stream",
     "text": [
      "Processing /Users/sarahyuhan/BostonBusEquity/MBTA-Bus-Arrival-Departure-Aug-Sept-2018.csv: 11it [00:24,  2.27s/it]"
     ]
    },
    {
     "name": "stdout",
     "output_type": "stream",
     "text": [
      "Processing: /Users/sarahyuhan/BostonBusEquity/MBTA-Bus-Arrival-Departure-Oct-Dec-2018.csv\n"
     ]
    },
    {
     "name": "stderr",
     "output_type": "stream",
     "text": [
      "\n",
      "Processing /Users/sarahyuhan/BostonBusEquity/MBTA-Bus-Arrival-Departure-Oct-Dec-2018.csv: 16it [00:39,  2.50s/it]"
     ]
    },
    {
     "name": "stdout",
     "output_type": "stream",
     "text": [
      "Route lateness collected: 27\n",
      "Route counts collected: 27\n",
      "Route IDs collected: 27\n",
      "Citywide Average Lateness: 249.47 seconds\n",
      "\n",
      "Routes with above-average lateness:\n",
      "     route_id  total_lateness  trip_count  average_lateness\n",
      "0          01       5233144.0       11810        443.111262\n",
      "4          08       1137104.0        4410        257.846712\n",
      "8         101       1296259.0        4063        319.039872\n",
      "9         104        989244.0        2687        368.159285\n",
      "10        105        267470.0         834        320.707434\n",
      "...       ...             ...         ...               ...\n",
      "4523      114         38620.0         132        292.575758\n",
      "4527      120        433151.0        1290        335.775969\n",
      "4543      192         19402.0          48        404.208333\n",
      "4544      193         19791.0          46        430.239130\n",
      "4564      236        210803.0         759        277.737813\n",
      "\n",
      "[2425 rows x 4 columns]\n"
     ]
    },
    {
     "name": "stderr",
     "output_type": "stream",
     "text": [
      "\n"
     ]
    }
   ],
   "source": [
    "#pre covid\n",
    "#since there is no arrival-departure data for the years 2015-2017 we use 2018 data instead\n",
    "# using simon's code computing lateness now for 2018 arrivals and departures\n",
    "file_pattern2 = \"/Users/sarahyuhan/BostonBusEquity/MBTA-Bus-Arrival-Departure-*-2018.csv\"\n",
    "file_paths2 = sorted(glob.glob(file_pattern2))\n",
    "\n",
    "chunksize = 500000\n",
    "route_lateness2 = []\n",
    "route_counts2 = []\n",
    "route_ids2 = []\n",
    "\n",
    "outlier_threshold = 3600  # Outlier threshold: 1 hour (3600 seconds)\n",
    "\n",
    "# Ensure we have files\n",
    "if not file_paths2:\n",
    "    print(\"No CSV files found. Check the file path!\")\n",
    "\n",
    "for file_path in file_paths2:\n",
    "    print(f\"Processing: {file_path}\", flush=True)\n",
    "    \n",
    "    for chunk in tqdm(pd.read_csv(file_path, chunksize=chunksize), desc=f\"Processing {file_path}\"):\n",
    "        # Convert time columns and remove invalid entries\n",
    "        chunk[\"service_date\"] = pd.to_datetime(chunk[\"service_date\"], errors=\"coerce\")\n",
    "        chunk[\"scheduled\"] = pd.to_datetime(chunk[\"scheduled\"], errors=\"coerce\")\n",
    "        chunk[\"actual\"] = pd.to_datetime(chunk[\"actual\"], errors=\"coerce\")\n",
    "        chunk.dropna(subset=[\"service_date\", \"scheduled\", \"actual\"], inplace=True)\n",
    "\n",
    "        # Ensure proper timezone handling (remove timezone info if necessary)\n",
    "        chunk[\"service_date\"] = chunk[\"service_date\"].dt.tz_localize(None)\n",
    "        chunk[\"scheduled\"] = chunk[\"scheduled\"].dt.tz_localize(None)\n",
    "        chunk[\"actual\"] = chunk[\"actual\"].dt.tz_localize(None)\n",
    "\n",
    "        # Use reference time for accurate lateness calculation\n",
    "        reference_time = pd.Timestamp(\"1900-01-01 00:00:00\").tz_localize(None)\n",
    "        chunk[\"scheduled_seconds\"] = (chunk[\"scheduled\"] - reference_time).dt.total_seconds()\n",
    "        chunk[\"actual_seconds\"] = (chunk[\"actual\"] - reference_time).dt.total_seconds()\n",
    "\n",
    "        # Adjust timestamps using service_date\n",
    "        chunk[\"scheduled\"] = chunk[\"service_date\"] + pd.to_timedelta(chunk[\"scheduled_seconds\"], unit=\"s\")\n",
    "        chunk[\"actual\"] = chunk[\"service_date\"] + pd.to_timedelta(chunk[\"actual_seconds\"], unit=\"s\")\n",
    "\n",
    "        # Compute lateness\n",
    "        chunk[\"lateness\"] = (chunk[\"actual\"] - chunk[\"scheduled\"]).dt.total_seconds()\n",
    "\n",
    "        # **Filter Outliers (Keep values within -1 hour to +1 hour)**\n",
    "        chunk = chunk[chunk[\"lateness\"].abs() <= outlier_threshold]\n",
    "\n",
    "        # Group by route_id (sum of lateness, count of trips)\n",
    "        grouped = chunk.groupby([\"route_id\"])[\"lateness\"].agg([\"sum\", \"count\"]).reset_index()\n",
    "\n",
    "        # Store results\n",
    "        if not grouped.empty:\n",
    "            route_lateness2.append(grouped[\"sum\"].values)\n",
    "            route_counts2.append(grouped[\"count\"].values)\n",
    "            route_ids2.append(grouped[\"route_id\"].values)\n",
    "\n",
    "# Debugging print to check data collected\n",
    "print(f\"Route lateness collected: {len(route_lateness2)}\")\n",
    "print(f\"Route counts collected: {len(route_counts2)}\")\n",
    "print(f\"Route IDs collected: {len(route_ids2)}\")\n",
    "\n",
    "# Step 4: Aggregate Total Lateness and Compute Average\n",
    "total_lateness2 = sum(map(sum, route_lateness2)) if route_lateness2 else 0\n",
    "total_counts2 = sum(map(sum, route_counts2)) if route_counts2 else 0\n",
    "average_lateness2 = total_lateness2 / total_counts2 if total_counts2 > 0 else 0  # Avoid division by zero\n",
    "\n",
    "# Step 5: Create DataFrame of Lateness per Route\n",
    "lateness_df2 = pd.DataFrame({\n",
    "    \"route_id\": np.concatenate(route_ids2) if route_ids2 else [],\n",
    "    \"total_lateness\": np.concatenate(route_lateness2) if route_lateness2 else [],\n",
    "    \"trip_count\": np.concatenate(route_counts2) if route_counts2 else []\n",
    "})\n",
    "\n",
    "# Compute average lateness per route\n",
    "if not lateness_df2.empty:\n",
    "    lateness_df2[\"average_lateness\"] = lateness_df2[\"total_lateness\"] / lateness_df2[\"trip_count\"]\n",
    "\n",
    "# we want to use the routes with lateness that is above average in order answer the question of what demographic of people are affected most by lateness\n",
    "above_avg_routes_2018 = lateness_df2[lateness_df2[\"average_lateness\"] > average_lateness2] if not lateness_df2.empty else pd.DataFrame()\n",
    "\n",
    "# Display results\n",
    "print(f\"Citywide Average Lateness: {average_lateness2:.2f} seconds\")\n",
    "print(\"\\nRoutes with above-average lateness:\")\n",
    "print(above_avg_routes_2018)\n"
   ]
  },
  {
   "cell_type": "code",
   "execution_count": 12,
   "metadata": {},
   "outputs": [],
   "source": [
    "postcovid = \"/Users/sarahyuhan/BostonBusEquity/2023.csv\"\n",
    "df_post = pd.read_csv(postcovid)\n",
    "\n",
    "# Filter only bus routes\n",
    "df_post = df_post[df_post['service_mode'] == 'Bus']\n",
    "\n",
    "# Convert route_id to match post-COVID dataset format\n",
    "above_avg_routes = above_avg_routes.copy()  # Ensure it's a copy\n",
    "above_avg_routes[\"route_id\"] = above_avg_routes[\"route_id\"].astype(str)\n",
    "\n",
    "df_post[\"reporting_group\"] = df_post[\"reporting_group\"].astype(str)\n",
    "\n",
    "# Merge post-COVID data with routes that had above-average lateness\n",
    "df_analysis = df_post[df_post[\"reporting_group\"].isin(above_avg_routes[\"route_id\"])]"
   ]
  },
  {
   "cell_type": "code",
   "execution_count": 13,
   "metadata": {},
   "outputs": [
    {
     "name": "stdout",
     "output_type": "stream",
     "text": [
      "\n",
      "Routes with Higher Than Average Lateness:\n"
     ]
    },
    {
     "data": {
      "text/html": [
       "<div>\n",
       "<style scoped>\n",
       "    .dataframe tbody tr th:only-of-type {\n",
       "        vertical-align: middle;\n",
       "    }\n",
       "\n",
       "    .dataframe tbody tr th {\n",
       "        vertical-align: top;\n",
       "    }\n",
       "\n",
       "    .dataframe thead th {\n",
       "        text-align: right;\n",
       "    }\n",
       "</style>\n",
       "<table border=\"1\" class=\"dataframe\">\n",
       "  <thead>\n",
       "    <tr style=\"text-align: right;\">\n",
       "      <th></th>\n",
       "      <th>route_id</th>\n",
       "      <th>total_lateness</th>\n",
       "      <th>trip_count</th>\n",
       "      <th>average_lateness</th>\n",
       "    </tr>\n",
       "  </thead>\n",
       "  <tbody>\n",
       "    <tr>\n",
       "      <th>4</th>\n",
       "      <td>09</td>\n",
       "      <td>1438019.0</td>\n",
       "      <td>5894</td>\n",
       "      <td>243.980149</td>\n",
       "    </tr>\n",
       "    <tr>\n",
       "      <th>13</th>\n",
       "      <td>11</td>\n",
       "      <td>1284310.0</td>\n",
       "      <td>4230</td>\n",
       "      <td>303.619385</td>\n",
       "    </tr>\n",
       "    <tr>\n",
       "      <th>21</th>\n",
       "      <td>120</td>\n",
       "      <td>663215.0</td>\n",
       "      <td>2411</td>\n",
       "      <td>275.078805</td>\n",
       "    </tr>\n",
       "    <tr>\n",
       "      <th>22</th>\n",
       "      <td>121</td>\n",
       "      <td>105137.0</td>\n",
       "      <td>344</td>\n",
       "      <td>305.630814</td>\n",
       "    </tr>\n",
       "    <tr>\n",
       "      <th>32</th>\n",
       "      <td>18</td>\n",
       "      <td>97609.0</td>\n",
       "      <td>376</td>\n",
       "      <td>259.598404</td>\n",
       "    </tr>\n",
       "    <tr>\n",
       "      <th>...</th>\n",
       "      <td>...</td>\n",
       "      <td>...</td>\n",
       "      <td>...</td>\n",
       "      <td>...</td>\n",
       "    </tr>\n",
       "    <tr>\n",
       "      <th>8969</th>\n",
       "      <td>29</td>\n",
       "      <td>170201.0</td>\n",
       "      <td>479</td>\n",
       "      <td>355.325678</td>\n",
       "    </tr>\n",
       "    <tr>\n",
       "      <th>8970</th>\n",
       "      <td>30</td>\n",
       "      <td>189830.0</td>\n",
       "      <td>724</td>\n",
       "      <td>262.196133</td>\n",
       "    </tr>\n",
       "    <tr>\n",
       "      <th>8975</th>\n",
       "      <td>34E</td>\n",
       "      <td>754550.0</td>\n",
       "      <td>2776</td>\n",
       "      <td>271.811960</td>\n",
       "    </tr>\n",
       "    <tr>\n",
       "      <th>8994</th>\n",
       "      <td>435</td>\n",
       "      <td>141351.0</td>\n",
       "      <td>577</td>\n",
       "      <td>244.975737</td>\n",
       "    </tr>\n",
       "    <tr>\n",
       "      <th>9052</th>\n",
       "      <td>97</td>\n",
       "      <td>155402.0</td>\n",
       "      <td>490</td>\n",
       "      <td>317.146939</td>\n",
       "    </tr>\n",
       "  </tbody>\n",
       "</table>\n",
       "<p>3583 rows × 4 columns</p>\n",
       "</div>"
      ],
      "text/plain": [
       "     route_id  total_lateness  trip_count  average_lateness\n",
       "4          09       1438019.0        5894        243.980149\n",
       "13         11       1284310.0        4230        303.619385\n",
       "21        120        663215.0        2411        275.078805\n",
       "22        121        105137.0         344        305.630814\n",
       "32         18         97609.0         376        259.598404\n",
       "...       ...             ...         ...               ...\n",
       "8969       29        170201.0         479        355.325678\n",
       "8970       30        189830.0         724        262.196133\n",
       "8975      34E        754550.0        2776        271.811960\n",
       "8994      435        141351.0         577        244.975737\n",
       "9052       97        155402.0         490        317.146939\n",
       "\n",
       "[3583 rows x 4 columns]"
      ]
     },
     "metadata": {},
     "output_type": "display_data"
    }
   ],
   "source": [
    "print(\"\\nRoutes with Higher Than Average Lateness:\")\n",
    "display(above_avg_routes) "
   ]
  },
  {
   "cell_type": "code",
   "execution_count": 14,
   "metadata": {},
   "outputs": [],
   "source": [
    "# Aggregate percentage data for routes with high lateness\n",
    "#for post covid\n",
    "category_analysis = df_analysis.groupby([\"measure_group\", \"category\"])[\"weighted_percent\"].mean().reset_index()\n",
    "\n",
    "# sort\n",
    "#category_analysis = category_analysis.sort_values(by=\"weighted_percent\", ascending=False)\n",
    "top_categories = (\n",
    "    category_analysis\n",
    "    .sort_values(['measure_group', 'weighted_percent'], ascending=[True, False])\n",
    "    .groupby(\"measure_group\")\n",
    "    .head(3)\n",
    ")"
   ]
  },
  {
   "cell_type": "code",
   "execution_count": 15,
   "metadata": {},
   "outputs": [
    {
     "data": {
      "text/plain": [
       "'\\nplt.figure(figsize=(12, 6))\\nplt.barh(df_plot[\"category\"], df_plot[\"weighted_percent\"], color=\"blue\")\\n\\nplt.xlabel(\"Average Percentage in High-Lateness Routes\")\\nplt.ylabel(\"Category\")\\nplt.title(\"Top Characteristics in High-Lateness Routes (Post-COVID)\")\\nplt.gca().invert_yaxis()  # Highest values at the top\\nplt.grid(axis=\"x\", linestyle=\"--\", alpha=0.7)\\n\\n# Show plot\\nplt.show()\"\\n'"
      ]
     },
     "execution_count": 15,
     "metadata": {},
     "output_type": "execute_result"
    }
   ],
   "source": [
    "# top 10 characteristics\n",
    "#df_plot = category_analysis.head(10)\n",
    "\n",
    "# Plot the categories\n",
    "\"\"\"\n",
    "plt.figure(figsize=(12, 6))\n",
    "plt.barh(df_plot[\"category\"], df_plot[\"weighted_percent\"], color=\"blue\")\n",
    "\n",
    "plt.xlabel(\"Average Percentage in High-Lateness Routes\")\n",
    "plt.ylabel(\"Category\")\n",
    "plt.title(\"Top Characteristics in High-Lateness Routes (Post-COVID)\")\n",
    "plt.gca().invert_yaxis()  # Highest values at the top\n",
    "plt.grid(axis=\"x\", linestyle=\"--\", alpha=0.7)\n",
    "\n",
    "# Show plot\n",
    "plt.show()\"\n",
    "\"\"\"\"\""
   ]
  },
  {
   "cell_type": "code",
   "execution_count": 16,
   "metadata": {},
   "outputs": [
    {
     "data": {
      "image/png": "[encoded data removed]",
      "text/plain": [
       "<Figure size 1500x600 with 1 Axes>"
      ]
     },
     "metadata": {},
     "output_type": "display_data"
    }
   ],
   "source": [
    "palette = sns.color_palette(\"tab20\", n_colors=50)\n",
    "unique_categories = top_categories[\"category\"].unique()\n",
    "category_to_color = {cat: palette[i % len(palette)] for i, cat in enumerate(unique_categories)}\n",
    "\n",
    "# Add position within each measure_group to control bar placement\n",
    "top_categories[\"Position\"] = top_categories.groupby(\"measure_group\").cumcount()\n",
    "\n",
    "# Set plot\n",
    "fig, ax = plt.subplots(figsize=(15, 6))\n",
    "groups = top_categories[\"measure_group\"].unique()\n",
    "x = np.arange(len(groups))  # one x per group\n",
    "width = 0.25  # width of each bar\n",
    "\n",
    "# Plot bars manually\n",
    "for i in range(top_categories[\"Position\"].max() + 1):\n",
    "    subset = top_categories[top_categories[\"Position\"] == i]\n",
    "    bars = ax.bar(\n",
    "        x + (i - 0.5) * width,  # shift bar position within each group\n",
    "        subset[\"weighted_percent\"],\n",
    "        width=width,\n",
    "        color=[category_to_color[cat] for cat in subset[\"category\"]],\n",
    "        label=None\n",
    "    )\n",
    "\n",
    "# X-axis setup\n",
    "ax.set_xticks(x)\n",
    "ax.set_xticklabels(groups, rotation=45, ha=\"right\")\n",
    "ax.set_ylabel(\"Average Percentage in High-Lateness Routes\")\n",
    "ax.set_title(\"Top 3 Characteristics per Measure Group (Post-COVID High-Lateness Routes)\")\n",
    "\n",
    "# Custom legend\n",
    "handles = [plt.Line2D([0], [0], marker='o', color='w', label=cat,\n",
    "                      markerfacecolor=color, markersize=10)\n",
    "           for cat, color in category_to_color.items()]\n",
    "ax.legend(handles=handles, title=\"Category\", bbox_to_anchor=(1.05, 1), loc='upper left')\n",
    "\n",
    "ax.grid(axis='y', linestyle='--', alpha=0.7)\n",
    "plt.tight_layout()\n",
    "plt.show()"
   ]
  },
  {
   "cell_type": "code",
   "execution_count": 17,
   "metadata": {},
   "outputs": [
    {
     "name": "stdout",
     "output_type": "stream",
     "text": [
      "Top 10 Categories with Highest Average Percentages in High-Lateness Routes (Post-COVID):\n",
      "\n",
      "    measure_group                                     category  weighted_percent\n",
      "      Access Mode         Bike, Scooter or Other Micromobility          0.011170\n",
      "      Access Mode Carpooled or Dropped off by Personal Vehicle          0.018487\n",
      "      Access Mode                                  Drove Alone          0.004573\n",
      "      Access Mode             Private Shuttle or Other Transit          0.012638\n",
      "      Access Mode                    Taxi or Rideshare Company          0.011245\n",
      "      Access Mode                                     The RIDE          0.004762\n",
      "      Access Mode                                       Walked          0.941235\n",
      "Alternative Modes        Bike, Scooter, or Other Micromobility          0.075348\n",
      "Alternative Modes                       Different MBTA Service          0.402469\n",
      "Alternative Modes                                  Drive Alone          0.182419\n"
     ]
    }
   ],
   "source": [
    "# display the top categories\n",
    "top_10 = category_analysis.head(10)\n",
    "print(\"Top 10 Categories with Highest Average Percentages in High-Lateness Routes (Post-COVID):\\n\")\n",
    "print(top_10.to_string(index=False))"
   ]
  },
  {
   "cell_type": "code",
   "execution_count": 18,
   "metadata": {},
   "outputs": [
    {
     "name": "stdout",
     "output_type": "stream",
     "text": [
      "['aggregation_level', 'service_mode', 'reporting_group', 'measure_group', 'measure', 'category', 'weighted_percent', 'ObjectId']\n"
     ]
    }
   ],
   "source": [
    "print(df_post.columns.tolist())\n"
   ]
  },
  {
   "cell_type": "code",
   "execution_count": 19,
   "metadata": {},
   "outputs": [
    {
     "name": "stdout",
     "output_type": "stream",
     "text": [
      "['aggregation_level', 'service_mode', 'reporting_group', 'measure_group', 'measure', 'category', 'weighted_percent', 'ObjectId']\n"
     ]
    }
   ],
   "source": [
    "print(df_post.columns.tolist())\n"
   ]
  },
  {
   "cell_type": "code",
   "execution_count": 20,
   "metadata": {},
   "outputs": [],
   "source": [
    "df_post[\"full_category\"] = df_post[\"measure\"] + \": \" + df_post[\"category\"]\n",
    "df_post[\"weighted_percent\"] = df_post[\"weighted_percent\"] * 100\n",
    "\n",
    "# NOW filter using the updated df_post\n",
    "df_analysis = df_post[df_post[\"reporting_group\"].isin(above_avg_routes[\"route_id\"])]\n"
   ]
  },
  {
   "cell_type": "code",
   "execution_count": 21,
   "metadata": {},
   "outputs": [],
   "source": [
    "# Pivot to get categories as features\n",
    "pivot_df = df_analysis.pivot_table(index='reporting_group', \n",
    "                                    columns='full_category', \n",
    "                                    values='weighted_percent', \n",
    "                                    aggfunc='mean').fillna(0)\n",
    "\n",
    "# merge in lateness\n",
    "pivot_df = pivot_df.merge(lateness_df[[\"route_id\", \"average_lateness\"]], \n",
    "                          left_index=True, right_on=\"route_id\", how=\"left\")\n",
    "pivot_df = pivot_df.drop(columns=\"route_id\")"
   ]
  },
  {
   "cell_type": "code",
   "execution_count": 22,
   "metadata": {},
   "outputs": [],
   "source": [
    "from sklearn.preprocessing import StandardScaler\n",
    "scaler = StandardScaler()\n",
    "scaled_features = scaler.fit_transform(pivot_df)\n",
    "\n",
    "#normalizing the features\n",
    "from sklearn.cluster import KMeans\n",
    "\n",
    "#kmeans\n",
    "kmeans = KMeans(n_clusters=3, random_state=42)\n",
    "clusters = kmeans.fit_predict(scaled_features)\n",
    "\n",
    "pivot_df[\"cluster\"] = clusters"
   ]
  },
  {
   "cell_type": "code",
   "execution_count": 23,
   "metadata": {},
   "outputs": [
    {
     "data": {
      "text/html": [
       "<div>\n",
       "<style scoped>\n",
       "    .dataframe tbody tr th:only-of-type {\n",
       "        vertical-align: middle;\n",
       "    }\n",
       "\n",
       "    .dataframe tbody tr th {\n",
       "        vertical-align: top;\n",
       "    }\n",
       "\n",
       "    .dataframe thead th {\n",
       "        text-align: right;\n",
       "    }\n",
       "</style>\n",
       "<table border=\"1\" class=\"dataframe\">\n",
       "  <thead>\n",
       "    <tr style=\"text-align: right;\">\n",
       "      <th></th>\n",
       "      <th>Ability to Understand English: Always</th>\n",
       "      <th>Ability to Understand English: Never</th>\n",
       "      <th>Ability to Understand English: Often</th>\n",
       "      <th>Ability to Understand English: Prefer not to say</th>\n",
       "      <th>Ability to Understand English: Sometimes</th>\n",
       "      <th>Access to First MBTA Service: Bike, Scooter or Other Micromobility</th>\n",
       "      <th>Access to First MBTA Service: Carpooled or Dropped off by Personal Vehicle</th>\n",
       "      <th>Access to First MBTA Service: Drove Alone</th>\n",
       "      <th>Access to First MBTA Service: Private Shuttle or Other Transit</th>\n",
       "      <th>Access to First MBTA Service: Taxi or Rideshare Company</th>\n",
       "      <th>...</th>\n",
       "      <th>Trip Purpose: Home-based Social Activity</th>\n",
       "      <th>Trip Purpose: Home-based Work</th>\n",
       "      <th>Trip Purpose: Non-home Based</th>\n",
       "      <th>Usable Cars: 0</th>\n",
       "      <th>Usable Cars: 1</th>\n",
       "      <th>Usable Cars: 2</th>\n",
       "      <th>Usable Cars: 3 or more</th>\n",
       "      <th>Used Alternative Mode: No</th>\n",
       "      <th>Used Alternative Mode: Yes</th>\n",
       "      <th>average_lateness</th>\n",
       "    </tr>\n",
       "    <tr>\n",
       "      <th>cluster</th>\n",
       "      <th></th>\n",
       "      <th></th>\n",
       "      <th></th>\n",
       "      <th></th>\n",
       "      <th></th>\n",
       "      <th></th>\n",
       "      <th></th>\n",
       "      <th></th>\n",
       "      <th></th>\n",
       "      <th></th>\n",
       "      <th></th>\n",
       "      <th></th>\n",
       "      <th></th>\n",
       "      <th></th>\n",
       "      <th></th>\n",
       "      <th></th>\n",
       "      <th></th>\n",
       "      <th></th>\n",
       "      <th></th>\n",
       "      <th></th>\n",
       "      <th></th>\n",
       "    </tr>\n",
       "  </thead>\n",
       "  <tbody>\n",
       "    <tr>\n",
       "      <th>0</th>\n",
       "      <td>83.192635</td>\n",
       "      <td>1.594123</td>\n",
       "      <td>7.030627</td>\n",
       "      <td>0.321893</td>\n",
       "      <td>7.860722</td>\n",
       "      <td>1.226952</td>\n",
       "      <td>1.929973</td>\n",
       "      <td>0.281991</td>\n",
       "      <td>1.481808</td>\n",
       "      <td>1.283074</td>\n",
       "      <td>...</td>\n",
       "      <td>7.392326</td>\n",
       "      <td>51.730476</td>\n",
       "      <td>8.057827</td>\n",
       "      <td>43.867155</td>\n",
       "      <td>38.812721</td>\n",
       "      <td>14.475734</td>\n",
       "      <td>2.844390</td>\n",
       "      <td>86.958705</td>\n",
       "      <td>13.041295</td>\n",
       "      <td>241.591969</td>\n",
       "    </tr>\n",
       "    <tr>\n",
       "      <th>1</th>\n",
       "      <td>90.043881</td>\n",
       "      <td>0.860138</td>\n",
       "      <td>4.173280</td>\n",
       "      <td>0.266361</td>\n",
       "      <td>4.656340</td>\n",
       "      <td>0.983088</td>\n",
       "      <td>1.824122</td>\n",
       "      <td>0.511464</td>\n",
       "      <td>0.853083</td>\n",
       "      <td>0.869884</td>\n",
       "      <td>...</td>\n",
       "      <td>7.380593</td>\n",
       "      <td>61.148730</td>\n",
       "      <td>9.928206</td>\n",
       "      <td>46.229088</td>\n",
       "      <td>35.869431</td>\n",
       "      <td>15.284643</td>\n",
       "      <td>2.616838</td>\n",
       "      <td>86.066498</td>\n",
       "      <td>13.933502</td>\n",
       "      <td>284.763678</td>\n",
       "    </tr>\n",
       "    <tr>\n",
       "      <th>2</th>\n",
       "      <td>90.506809</td>\n",
       "      <td>0.667098</td>\n",
       "      <td>4.748715</td>\n",
       "      <td>0.000000</td>\n",
       "      <td>4.077378</td>\n",
       "      <td>0.326108</td>\n",
       "      <td>1.419365</td>\n",
       "      <td>0.000000</td>\n",
       "      <td>0.688776</td>\n",
       "      <td>2.147327</td>\n",
       "      <td>...</td>\n",
       "      <td>10.212118</td>\n",
       "      <td>42.240022</td>\n",
       "      <td>8.881943</td>\n",
       "      <td>37.206538</td>\n",
       "      <td>44.321029</td>\n",
       "      <td>16.239707</td>\n",
       "      <td>2.232727</td>\n",
       "      <td>88.021359</td>\n",
       "      <td>11.978641</td>\n",
       "      <td>350.756948</td>\n",
       "    </tr>\n",
       "  </tbody>\n",
       "</table>\n",
       "<p>3 rows × 91 columns</p>\n",
       "</div>"
      ],
      "text/plain": [
       "         Ability to Understand English: Always  \\\n",
       "cluster                                          \n",
       "0                                    83.192635   \n",
       "1                                    90.043881   \n",
       "2                                    90.506809   \n",
       "\n",
       "         Ability to Understand English: Never  \\\n",
       "cluster                                         \n",
       "0                                    1.594123   \n",
       "1                                    0.860138   \n",
       "2                                    0.667098   \n",
       "\n",
       "         Ability to Understand English: Often  \\\n",
       "cluster                                         \n",
       "0                                    7.030627   \n",
       "1                                    4.173280   \n",
       "2                                    4.748715   \n",
       "\n",
       "         Ability to Understand English: Prefer not to say  \\\n",
       "cluster                                                     \n",
       "0                                                0.321893   \n",
       "1                                                0.266361   \n",
       "2                                                0.000000   \n",
       "\n",
       "         Ability to Understand English: Sometimes  \\\n",
       "cluster                                             \n",
       "0                                        7.860722   \n",
       "1                                        4.656340   \n",
       "2                                        4.077378   \n",
       "\n",
       "         Access to First MBTA Service: Bike, Scooter or Other Micromobility  \\\n",
       "cluster                                                                       \n",
       "0                                                 1.226952                    \n",
       "1                                                 0.983088                    \n",
       "2                                                 0.326108                    \n",
       "\n",
       "         Access to First MBTA Service: Carpooled or Dropped off by Personal Vehicle  \\\n",
       "cluster                                                                               \n",
       "0                                                 1.929973                            \n",
       "1                                                 1.824122                            \n",
       "2                                                 1.419365                            \n",
       "\n",
       "         Access to First MBTA Service: Drove Alone  \\\n",
       "cluster                                              \n",
       "0                                         0.281991   \n",
       "1                                         0.511464   \n",
       "2                                         0.000000   \n",
       "\n",
       "         Access to First MBTA Service: Private Shuttle or Other Transit  \\\n",
       "cluster                                                                   \n",
       "0                                                 1.481808                \n",
       "1                                                 0.853083                \n",
       "2                                                 0.688776                \n",
       "\n",
       "         Access to First MBTA Service: Taxi or Rideshare Company  ...  \\\n",
       "cluster                                                           ...   \n",
       "0                                                 1.283074        ...   \n",
       "1                                                 0.869884        ...   \n",
       "2                                                 2.147327        ...   \n",
       "\n",
       "         Trip Purpose: Home-based Social Activity  \\\n",
       "cluster                                             \n",
       "0                                        7.392326   \n",
       "1                                        7.380593   \n",
       "2                                       10.212118   \n",
       "\n",
       "         Trip Purpose: Home-based Work  Trip Purpose: Non-home Based  \\\n",
       "cluster                                                                \n",
       "0                            51.730476                      8.057827   \n",
       "1                            61.148730                      9.928206   \n",
       "2                            42.240022                      8.881943   \n",
       "\n",
       "         Usable Cars: 0  Usable Cars: 1  Usable Cars: 2  \\\n",
       "cluster                                                   \n",
       "0             43.867155       38.812721       14.475734   \n",
       "1             46.229088       35.869431       15.284643   \n",
       "2             37.206538       44.321029       16.239707   \n",
       "\n",
       "         Usable Cars: 3 or more  Used Alternative Mode: No  \\\n",
       "cluster                                                      \n",
       "0                      2.844390                  86.958705   \n",
       "1                      2.616838                  86.066498   \n",
       "2                      2.232727                  88.021359   \n",
       "\n",
       "         Used Alternative Mode: Yes  average_lateness  \n",
       "cluster                                                \n",
       "0                         13.041295        241.591969  \n",
       "1                         13.933502        284.763678  \n",
       "2                         11.978641        350.756948  \n",
       "\n",
       "[3 rows x 91 columns]"
      ]
     },
     "metadata": {},
     "output_type": "display_data"
    },
    {
     "data": {
      "image/png": "[encoded data removed]",
      "text/plain": [
       "<Figure size 640x480 with 1 Axes>"
      ]
     },
     "metadata": {},
     "output_type": "display_data"
    }
   ],
   "source": [
    "# Show average feature values per cluster\n",
    "cluster_summary = pivot_df.groupby(\"cluster\").mean()\n",
    "display(cluster_summary)\n",
    "\n",
    "\n",
    "sns.boxplot(data=pivot_df, x=\"cluster\", y=\"average_lateness\")\n",
    "plt.title(\"Average Lateness by Cluster\")\n",
    "plt.show()"
   ]
  },
  {
   "cell_type": "code",
   "execution_count": 24,
   "metadata": {},
   "outputs": [
    {
     "data": {
      "image/png": "[encoded data removed]",
      "text/plain": [
       "<Figure size 1000x600 with 1 Axes>"
      ]
     },
     "metadata": {},
     "output_type": "display_data"
    }
   ],
   "source": [
    "from sklearn.decomposition import PCA\n",
    "import matplotlib.pyplot as plt\n",
    "import seaborn as sns\n",
    "\n",
    "# Reduce to 2D using PCA\n",
    "pca = PCA(n_components=2)\n",
    "reduced_features = pca.fit_transform(scaled_features)\n",
    "\n",
    "# Create a DataFrame with 2D coordinates and cluster labels\n",
    "visual_df = pd.DataFrame(reduced_features, columns=[\"PCA1\", \"PCA2\"])\n",
    "visual_df[\"Cluster\"] = clusters\n",
    "\n",
    "# Plot the clusters in 2D space\n",
    "plt.figure(figsize=(10, 6))\n",
    "sns.scatterplot(data=visual_df, x=\"PCA1\", y=\"PCA2\", hue=\"Cluster\", palette=\"Set2\", s=70)\n",
    "plt.title(\"K-Means Clustering of Bus Routes (Demographics) - PCA Projection\")\n",
    "plt.xlabel(\"Principal Component 1\")\n",
    "plt.ylabel(\"Principal Component 2\")\n",
    "plt.legend(title=\"Cluster\")\n",
    "plt.grid(True)\n",
    "plt.show()\n"
   ]
  },
  {
   "cell_type": "code",
   "execution_count": 25,
   "metadata": {},
   "outputs": [
    {
     "data": {
      "text/html": [
       "<div>\n",
       "<style scoped>\n",
       "    .dataframe tbody tr th:only-of-type {\n",
       "        vertical-align: middle;\n",
       "    }\n",
       "\n",
       "    .dataframe tbody tr th {\n",
       "        vertical-align: top;\n",
       "    }\n",
       "\n",
       "    .dataframe thead th {\n",
       "        text-align: right;\n",
       "    }\n",
       "</style>\n",
       "<table border=\"1\" class=\"dataframe\">\n",
       "  <thead>\n",
       "    <tr style=\"text-align: right;\">\n",
       "      <th></th>\n",
       "      <th>Ability to Understand English: Always</th>\n",
       "      <th>Ability to Understand English: Never</th>\n",
       "      <th>Ability to Understand English: Often</th>\n",
       "      <th>Ability to Understand English: Prefer not to say</th>\n",
       "      <th>Ability to Understand English: Sometimes</th>\n",
       "      <th>Access to First MBTA Service: Bike, Scooter or Other Micromobility</th>\n",
       "      <th>Access to First MBTA Service: Carpooled or Dropped off by Personal Vehicle</th>\n",
       "      <th>Access to First MBTA Service: Drove Alone</th>\n",
       "      <th>Access to First MBTA Service: Private Shuttle or Other Transit</th>\n",
       "      <th>Access to First MBTA Service: Taxi or Rideshare Company</th>\n",
       "      <th>...</th>\n",
       "      <th>Trip Purpose: Home-based Social Activity</th>\n",
       "      <th>Trip Purpose: Home-based Work</th>\n",
       "      <th>Trip Purpose: Non-home Based</th>\n",
       "      <th>Usable Cars: 0</th>\n",
       "      <th>Usable Cars: 1</th>\n",
       "      <th>Usable Cars: 2</th>\n",
       "      <th>Usable Cars: 3 or more</th>\n",
       "      <th>Used Alternative Mode: No</th>\n",
       "      <th>Used Alternative Mode: Yes</th>\n",
       "      <th>average_lateness</th>\n",
       "    </tr>\n",
       "    <tr>\n",
       "      <th>cluster</th>\n",
       "      <th></th>\n",
       "      <th></th>\n",
       "      <th></th>\n",
       "      <th></th>\n",
       "      <th></th>\n",
       "      <th></th>\n",
       "      <th></th>\n",
       "      <th></th>\n",
       "      <th></th>\n",
       "      <th></th>\n",
       "      <th></th>\n",
       "      <th></th>\n",
       "      <th></th>\n",
       "      <th></th>\n",
       "      <th></th>\n",
       "      <th></th>\n",
       "      <th></th>\n",
       "      <th></th>\n",
       "      <th></th>\n",
       "      <th></th>\n",
       "      <th></th>\n",
       "    </tr>\n",
       "  </thead>\n",
       "  <tbody>\n",
       "    <tr>\n",
       "      <th>0</th>\n",
       "      <td>83.192635</td>\n",
       "      <td>1.594123</td>\n",
       "      <td>7.030627</td>\n",
       "      <td>0.321893</td>\n",
       "      <td>7.860722</td>\n",
       "      <td>1.226952</td>\n",
       "      <td>1.929973</td>\n",
       "      <td>0.281991</td>\n",
       "      <td>1.481808</td>\n",
       "      <td>1.283074</td>\n",
       "      <td>...</td>\n",
       "      <td>7.392326</td>\n",
       "      <td>51.730476</td>\n",
       "      <td>8.057827</td>\n",
       "      <td>43.867155</td>\n",
       "      <td>38.812721</td>\n",
       "      <td>14.475734</td>\n",
       "      <td>2.844390</td>\n",
       "      <td>86.958705</td>\n",
       "      <td>13.041295</td>\n",
       "      <td>241.591969</td>\n",
       "    </tr>\n",
       "    <tr>\n",
       "      <th>1</th>\n",
       "      <td>90.043881</td>\n",
       "      <td>0.860138</td>\n",
       "      <td>4.173280</td>\n",
       "      <td>0.266361</td>\n",
       "      <td>4.656340</td>\n",
       "      <td>0.983088</td>\n",
       "      <td>1.824122</td>\n",
       "      <td>0.511464</td>\n",
       "      <td>0.853083</td>\n",
       "      <td>0.869884</td>\n",
       "      <td>...</td>\n",
       "      <td>7.380593</td>\n",
       "      <td>61.148730</td>\n",
       "      <td>9.928206</td>\n",
       "      <td>46.229088</td>\n",
       "      <td>35.869431</td>\n",
       "      <td>15.284643</td>\n",
       "      <td>2.616838</td>\n",
       "      <td>86.066498</td>\n",
       "      <td>13.933502</td>\n",
       "      <td>284.763678</td>\n",
       "    </tr>\n",
       "    <tr>\n",
       "      <th>2</th>\n",
       "      <td>90.506809</td>\n",
       "      <td>0.667098</td>\n",
       "      <td>4.748715</td>\n",
       "      <td>0.000000</td>\n",
       "      <td>4.077378</td>\n",
       "      <td>0.326108</td>\n",
       "      <td>1.419365</td>\n",
       "      <td>0.000000</td>\n",
       "      <td>0.688776</td>\n",
       "      <td>2.147327</td>\n",
       "      <td>...</td>\n",
       "      <td>10.212118</td>\n",
       "      <td>42.240022</td>\n",
       "      <td>8.881943</td>\n",
       "      <td>37.206538</td>\n",
       "      <td>44.321029</td>\n",
       "      <td>16.239707</td>\n",
       "      <td>2.232727</td>\n",
       "      <td>88.021359</td>\n",
       "      <td>11.978641</td>\n",
       "      <td>350.756948</td>\n",
       "    </tr>\n",
       "  </tbody>\n",
       "</table>\n",
       "<p>3 rows × 91 columns</p>\n",
       "</div>"
      ],
      "text/plain": [
       "         Ability to Understand English: Always  \\\n",
       "cluster                                          \n",
       "0                                    83.192635   \n",
       "1                                    90.043881   \n",
       "2                                    90.506809   \n",
       "\n",
       "         Ability to Understand English: Never  \\\n",
       "cluster                                         \n",
       "0                                    1.594123   \n",
       "1                                    0.860138   \n",
       "2                                    0.667098   \n",
       "\n",
       "         Ability to Understand English: Often  \\\n",
       "cluster                                         \n",
       "0                                    7.030627   \n",
       "1                                    4.173280   \n",
       "2                                    4.748715   \n",
       "\n",
       "         Ability to Understand English: Prefer not to say  \\\n",
       "cluster                                                     \n",
       "0                                                0.321893   \n",
       "1                                                0.266361   \n",
       "2                                                0.000000   \n",
       "\n",
       "         Ability to Understand English: Sometimes  \\\n",
       "cluster                                             \n",
       "0                                        7.860722   \n",
       "1                                        4.656340   \n",
       "2                                        4.077378   \n",
       "\n",
       "         Access to First MBTA Service: Bike, Scooter or Other Micromobility  \\\n",
       "cluster                                                                       \n",
       "0                                                 1.226952                    \n",
       "1                                                 0.983088                    \n",
       "2                                                 0.326108                    \n",
       "\n",
       "         Access to First MBTA Service: Carpooled or Dropped off by Personal Vehicle  \\\n",
       "cluster                                                                               \n",
       "0                                                 1.929973                            \n",
       "1                                                 1.824122                            \n",
       "2                                                 1.419365                            \n",
       "\n",
       "         Access to First MBTA Service: Drove Alone  \\\n",
       "cluster                                              \n",
       "0                                         0.281991   \n",
       "1                                         0.511464   \n",
       "2                                         0.000000   \n",
       "\n",
       "         Access to First MBTA Service: Private Shuttle or Other Transit  \\\n",
       "cluster                                                                   \n",
       "0                                                 1.481808                \n",
       "1                                                 0.853083                \n",
       "2                                                 0.688776                \n",
       "\n",
       "         Access to First MBTA Service: Taxi or Rideshare Company  ...  \\\n",
       "cluster                                                           ...   \n",
       "0                                                 1.283074        ...   \n",
       "1                                                 0.869884        ...   \n",
       "2                                                 2.147327        ...   \n",
       "\n",
       "         Trip Purpose: Home-based Social Activity  \\\n",
       "cluster                                             \n",
       "0                                        7.392326   \n",
       "1                                        7.380593   \n",
       "2                                       10.212118   \n",
       "\n",
       "         Trip Purpose: Home-based Work  Trip Purpose: Non-home Based  \\\n",
       "cluster                                                                \n",
       "0                            51.730476                      8.057827   \n",
       "1                            61.148730                      9.928206   \n",
       "2                            42.240022                      8.881943   \n",
       "\n",
       "         Usable Cars: 0  Usable Cars: 1  Usable Cars: 2  \\\n",
       "cluster                                                   \n",
       "0             43.867155       38.812721       14.475734   \n",
       "1             46.229088       35.869431       15.284643   \n",
       "2             37.206538       44.321029       16.239707   \n",
       "\n",
       "         Usable Cars: 3 or more  Used Alternative Mode: No  \\\n",
       "cluster                                                      \n",
       "0                      2.844390                  86.958705   \n",
       "1                      2.616838                  86.066498   \n",
       "2                      2.232727                  88.021359   \n",
       "\n",
       "         Used Alternative Mode: Yes  average_lateness  \n",
       "cluster                                                \n",
       "0                         13.041295        241.591969  \n",
       "1                         13.933502        284.763678  \n",
       "2                         11.978641        350.756948  \n",
       "\n",
       "[3 rows x 91 columns]"
      ]
     },
     "metadata": {},
     "output_type": "display_data"
    }
   ],
   "source": [
    "cluster_summary = pivot_df.groupby(\"cluster\").mean()\n",
    "display(cluster_summary)"
   ]
  },
  {
   "cell_type": "code",
   "execution_count": 26,
   "metadata": {},
   "outputs": [
    {
     "name": "stdout",
     "output_type": "stream",
     "text": [
      "\n",
      "Routes with Higher Than Average Lateness 2018:\n"
     ]
    },
    {
     "data": {
      "text/html": [
       "<div>\n",
       "<style scoped>\n",
       "    .dataframe tbody tr th:only-of-type {\n",
       "        vertical-align: middle;\n",
       "    }\n",
       "\n",
       "    .dataframe tbody tr th {\n",
       "        vertical-align: top;\n",
       "    }\n",
       "\n",
       "    .dataframe thead th {\n",
       "        text-align: right;\n",
       "    }\n",
       "</style>\n",
       "<table border=\"1\" class=\"dataframe\">\n",
       "  <thead>\n",
       "    <tr style=\"text-align: right;\">\n",
       "      <th></th>\n",
       "      <th>route_id</th>\n",
       "      <th>total_lateness</th>\n",
       "      <th>trip_count</th>\n",
       "      <th>average_lateness</th>\n",
       "    </tr>\n",
       "  </thead>\n",
       "  <tbody>\n",
       "    <tr>\n",
       "      <th>0</th>\n",
       "      <td>01</td>\n",
       "      <td>5233144.0</td>\n",
       "      <td>11810</td>\n",
       "      <td>443.111262</td>\n",
       "    </tr>\n",
       "    <tr>\n",
       "      <th>4</th>\n",
       "      <td>08</td>\n",
       "      <td>1137104.0</td>\n",
       "      <td>4410</td>\n",
       "      <td>257.846712</td>\n",
       "    </tr>\n",
       "    <tr>\n",
       "      <th>8</th>\n",
       "      <td>101</td>\n",
       "      <td>1296259.0</td>\n",
       "      <td>4063</td>\n",
       "      <td>319.039872</td>\n",
       "    </tr>\n",
       "    <tr>\n",
       "      <th>9</th>\n",
       "      <td>104</td>\n",
       "      <td>989244.0</td>\n",
       "      <td>2687</td>\n",
       "      <td>368.159285</td>\n",
       "    </tr>\n",
       "    <tr>\n",
       "      <th>10</th>\n",
       "      <td>105</td>\n",
       "      <td>267470.0</td>\n",
       "      <td>834</td>\n",
       "      <td>320.707434</td>\n",
       "    </tr>\n",
       "    <tr>\n",
       "      <th>...</th>\n",
       "      <td>...</td>\n",
       "      <td>...</td>\n",
       "      <td>...</td>\n",
       "      <td>...</td>\n",
       "    </tr>\n",
       "    <tr>\n",
       "      <th>4523</th>\n",
       "      <td>114</td>\n",
       "      <td>38620.0</td>\n",
       "      <td>132</td>\n",
       "      <td>292.575758</td>\n",
       "    </tr>\n",
       "    <tr>\n",
       "      <th>4527</th>\n",
       "      <td>120</td>\n",
       "      <td>433151.0</td>\n",
       "      <td>1290</td>\n",
       "      <td>335.775969</td>\n",
       "    </tr>\n",
       "    <tr>\n",
       "      <th>4543</th>\n",
       "      <td>192</td>\n",
       "      <td>19402.0</td>\n",
       "      <td>48</td>\n",
       "      <td>404.208333</td>\n",
       "    </tr>\n",
       "    <tr>\n",
       "      <th>4544</th>\n",
       "      <td>193</td>\n",
       "      <td>19791.0</td>\n",
       "      <td>46</td>\n",
       "      <td>430.239130</td>\n",
       "    </tr>\n",
       "    <tr>\n",
       "      <th>4564</th>\n",
       "      <td>236</td>\n",
       "      <td>210803.0</td>\n",
       "      <td>759</td>\n",
       "      <td>277.737813</td>\n",
       "    </tr>\n",
       "  </tbody>\n",
       "</table>\n",
       "<p>2425 rows × 4 columns</p>\n",
       "</div>"
      ],
      "text/plain": [
       "     route_id  total_lateness  trip_count  average_lateness\n",
       "0          01       5233144.0       11810        443.111262\n",
       "4          08       1137104.0        4410        257.846712\n",
       "8         101       1296259.0        4063        319.039872\n",
       "9         104        989244.0        2687        368.159285\n",
       "10        105        267470.0         834        320.707434\n",
       "...       ...             ...         ...               ...\n",
       "4523      114         38620.0         132        292.575758\n",
       "4527      120        433151.0        1290        335.775969\n",
       "4543      192         19402.0          48        404.208333\n",
       "4544      193         19791.0          46        430.239130\n",
       "4564      236        210803.0         759        277.737813\n",
       "\n",
       "[2425 rows x 4 columns]"
      ]
     },
     "metadata": {},
     "output_type": "display_data"
    }
   ],
   "source": [
    "#pre covid lateness using the survey dataset 2015-2017 and the departure arrivals from 2018 (closest dataset)\n",
    "precovid_folder = \"/Users/sarahyuhan/BostonBusEquity/2015-2017-tables\"\n",
    "file_paths = glob.glob(os.path.join(precovid_folder, '*export.xlsx'))\n",
    "\n",
    "df_list = [pd.read_excel(file) for file in file_paths]\n",
    "df_pre = pd.concat(df_list, ignore_index=True)\n",
    "\n",
    "# Convert route_id to match post-COVID dataset format\n",
    "above_avg_routes_2018 = above_avg_routes_2018.copy()\n",
    "above_avg_routes_2018[\"route_id\"] = above_avg_routes_2018[\"route_id\"].astype(str)\n",
    "\n",
    "df_pre[\"Route\"] = df_pre[\"Route\"].astype(str)\n",
    "\n",
    "# Merge post-COVID data with routes that had above-average lateness\n",
    "df_analysis2 = df_pre[df_pre[\"Route\"].isin(above_avg_routes_2018[\"route_id\"])]\n",
    "\n",
    "print(\"\\nRoutes with Higher Than Average Lateness 2018:\")\n",
    "display(above_avg_routes_2018) "
   ]
  },
  {
   "cell_type": "code",
   "execution_count": 27,
   "metadata": {},
   "outputs": [],
   "source": [
    "#heatmap"
   ]
  },
  {
   "cell_type": "code",
   "execution_count": 28,
   "metadata": {},
   "outputs": [
    {
     "name": "stdout",
     "output_type": "stream",
     "text": [
      "\n",
      "Top categories for route:\n"
     ]
    },
    {
     "data": {
      "text/plain": [
       "Trip Purpose: Home-based work    74.377778\n",
       "Trip Frequency: 5 days a week    57.311111\n",
       "dtype: float64"
      ]
     },
     "metadata": {},
     "output_type": "display_data"
    },
    {
     "name": "stdout",
     "output_type": "stream",
     "text": [
      "\n",
      "Top categories for income:\n"
     ]
    },
    {
     "data": {
      "text/plain": [
       "Low-income: No     65.600000\n",
       "Low-income: Yes    34.368421\n",
       "dtype: float64"
      ]
     },
     "metadata": {},
     "output_type": "display_data"
    },
    {
     "name": "stdout",
     "output_type": "stream",
     "text": [
      "\n",
      "Top categories for other_demographics:\n"
     ]
    },
    {
     "data": {
      "text/plain": [
       "English Ability: Always    95.107527\n",
       "Gender: Woman              59.537634\n",
       "dtype: float64"
      ]
     },
     "metadata": {},
     "output_type": "display_data"
    },
    {
     "name": "stdout",
     "output_type": "stream",
     "text": [
      "\n",
      "Top categories for auto_availability:\n"
     ]
    },
    {
     "data": {
      "text/plain": [
       "License: Yes    74.692308\n",
       "Vehicles: 1     41.835165\n",
       "dtype: float64"
      ]
     },
     "metadata": {},
     "output_type": "display_data"
    },
    {
     "name": "stdout",
     "output_type": "stream",
     "text": [
      "\n",
      "Top categories for access_mode:\n"
     ]
    },
    {
     "data": {
      "text/plain": [
       "Access: Walked or bicycled           94.656566\n",
       "Previous Mode: Rail rapid transit    68.343434\n",
       "dtype: float64"
      ]
     },
     "metadata": {},
     "output_type": "display_data"
    },
    {
     "name": "stdout",
     "output_type": "stream",
     "text": [
      "\n",
      "Top categories for alt_mode:\n"
     ]
    },
    {
     "data": {
      "text/plain": [
       "Use Alt Mode: Yes                          62.448276\n",
       "Alt Mode: Take a different MBTA service    49.988506\n",
       "dtype: float64"
      ]
     },
     "metadata": {},
     "output_type": "display_data"
    },
    {
     "name": "stdout",
     "output_type": "stream",
     "text": [
      "\n",
      "Top categories for race_and_ethnicity:\n"
     ]
    },
    {
     "data": {
      "text/plain": [
       "Hispanic: No    84.456522\n",
       "Race: White     61.739130\n",
       "dtype: float64"
      ]
     },
     "metadata": {},
     "output_type": "display_data"
    },
    {
     "name": "stdout",
     "output_type": "stream",
     "text": [
      "\n",
      "Top categories for fares:\n"
     ]
    },
    {
     "data": {
      "text/plain": [
       "Pay-Per-Ride Type: Charlie Card (plastic)     81.031579\n",
       "Monthly Pass Type: LinkPass or Express Bus    75.073684\n",
       "dtype: float64"
      ]
     },
     "metadata": {},
     "output_type": "display_data"
    }
   ],
   "source": [
    "precovid_folder = \"/Users/sarahyuhan/BostonBusEquity/2015-2017-tables\"\n",
    "file_paths = glob.glob(os.path.join(precovid_folder, \"*export.xlsx\"))\n",
    "\n",
    "top_categories_per_table = {}\n",
    "late_ids = above_avg_routes_2018[\"route_id\"].astype(str).unique()\n",
    "\n",
    "for file_path in file_paths:\n",
    "    df = pd.read_excel(file_path)\n",
    "\n",
    "    # clean headers & route col\n",
    "    df.columns = df.columns.str.strip()\n",
    "    if \"Route\" not in df.columns:\n",
    "        continue\n",
    "    df[\"Route\"] = df[\"Route\"].astype(str)\n",
    "\n",
    "    # keep only the late routes\n",
    "    df_filt = df[df[\"Route\"].isin(late_ids)].copy()\n",
    "\n",
    "    # numeric survey columns already contain % values\n",
    "    numeric_cols = (\n",
    "        df_filt\n",
    "        .select_dtypes(\"number\")\n",
    "        .columns\n",
    "        .difference([\"Route\"])\n",
    "    )\n",
    "    if numeric_cols.empty:\n",
    "        continue\n",
    "\n",
    "    category_avgs = (\n",
    "        df_filt[numeric_cols]\n",
    "        .mean()\n",
    "        .sort_values(ascending=False)\n",
    "    )\n",
    "\n",
    "    tbl_name = os.path.basename(file_path).replace(\"_data_export.xlsx\", \"\")\n",
    "    top_categories_per_table[tbl_name] = category_avgs\n",
    "\n",
    "# quick display\n",
    "for tbl, ser in top_categories_per_table.items():\n",
    "    print(f\"\\nTop categories for {tbl}:\")\n",
    "    display(ser.head(2))\n"
   ]
  },
  {
   "cell_type": "code",
   "execution_count": 29,
   "metadata": {},
   "outputs": [
    {
     "data": {
      "image/png": "[encoded data removed]",
      "text/plain": [
       "<Figure size 1500x600 with 1 Axes>"
      ]
     },
     "metadata": {},
     "output_type": "display_data"
    }
   ],
   "source": [
    "import matplotlib.pyplot as plt\n",
    "import numpy as np\n",
    "import pandas as pd\n",
    "import seaborn as sns\n",
    "\n",
    "# Use seaborn for better color palette\n",
    "palette = sns.color_palette(\"tab20\", n_colors=50)\n",
    "\n",
    "# Prepare flat data: one row per category per table\n",
    "data_for_plot = []\n",
    "\n",
    "for table, series in top_categories_per_table.items():\n",
    "    top3 = series.head(3)\n",
    "    for category, percent in top3.items():\n",
    "        data_for_plot.append({\n",
    "            \"Survey Table\": table,\n",
    "            \"Category\": category,\n",
    "            \"Percentage\": percent\n",
    "        })\n",
    "\n",
    "plot_df = pd.DataFrame(data_for_plot)\n",
    "\n",
    "# Assign unique colors per category\n",
    "unique_categories = plot_df[\"Category\"].unique()\n",
    "category_to_color = {cat: palette[i % len(palette)] for i, cat in enumerate(unique_categories)}\n",
    "\n",
    "# Pivot to control bar positions\n",
    "plot_df[\"Position\"] = plot_df.groupby(\"Survey Table\").cumcount()\n",
    "\n",
    "# Set plot\n",
    "fig, ax = plt.subplots(figsize=(15, 6))\n",
    "\n",
    "x = np.arange(plot_df[\"Survey Table\"].nunique())\n",
    "width = 0.25\n",
    "\n",
    "# Draw bars\n",
    "for i in range(3):\n",
    "    subset = plot_df[plot_df[\"Position\"] == i]\n",
    "    bars = ax.bar(\n",
    "        x + (i - 1) * width,\n",
    "        subset[\"Percentage\"],\n",
    "        width=width,\n",
    "        color=[category_to_color[cat] for cat in subset[\"Category\"]],\n",
    "        label=None  # skip label here, we'll build legend manually\n",
    "    )\n",
    "\n",
    "# X-axis setup\n",
    "ax.set_xticks(x)\n",
    "ax.set_xticklabels(plot_df[\"Survey Table\"].unique(), rotation=45, ha=\"right\")\n",
    "ax.set_ylabel(\"Average Percentage (%)\")\n",
    "ax.set_title(\"Top 3 Categories by Survey Table (Avg % of Riders)\")\n",
    "\n",
    "# Build custom legend\n",
    "handles = [plt.Line2D([0], [0], marker='o', color='w', label=cat,\n",
    "                      markerfacecolor=color, markersize=10)\n",
    "           for cat, color in category_to_color.items()]\n",
    "ax.legend(handles=handles, title=\"Category\", bbox_to_anchor=(1.05, 1), loc='upper left')\n",
    "\n",
    "plt.tight_layout()\n",
    "plt.show()\n"
   ]
  },
  {
   "cell_type": "code",
   "execution_count": 30,
   "metadata": {},
   "outputs": [
    {
     "name": "stdout",
     "output_type": "stream",
     "text": [
      "Index(['route_id', 'total_lateness', 'trip_count', 'average_lateness'], dtype='object')\n"
     ]
    }
   ],
   "source": [
    "print(above_avg_routes_2018.columns)\n"
   ]
  },
  {
   "cell_type": "code",
   "execution_count": 31,
   "metadata": {},
   "outputs": [
    {
     "name": "stdout",
     "output_type": "stream",
     "text": [
      "Index(['aggregation_level', 'service_mode', 'reporting_group', 'measure_group',\n",
      "       'measure', 'category', 'weighted_percent', 'ObjectId', 'full_category'],\n",
      "      dtype='object')\n"
     ]
    }
   ],
   "source": [
    "print(df_post.columns)"
   ]
  },
  {
   "cell_type": "code",
   "execution_count": 32,
   "metadata": {},
   "outputs": [],
   "source": [
    "# now taking the top 3 categories from pre covid, and looking at the same categories in post covid on the \n",
    "# same routes in order to calculate the percent change and directly compare\n",
    "# Step 1: Clean df_post\n",
    "df_post.columns = df_post.columns.str.strip().str.lower()\n",
    "df_post['full_category'] = df_post['measure_group'].str.strip() + \": \" + df_post['category'].str.strip()\n",
    "\n",
    "# Step 2: Filter to high-lateness routes\n",
    "above_avg_route_ids = above_avg_routes_2018[\"route_id\"].astype(str).unique()\n",
    "df_post_filtered = df_post[df_post[\"reporting_group\"].astype(str).isin(above_avg_route_ids)]\n",
    "\n",
    "# Step 3: Aggregate post-COVID percentages\n",
    "post_averages = (\n",
    "    df_post_filtered.groupby(\"full_category\")[\"weighted_percent\"]\n",
    "    .mean()\n",
    "    .reset_index()\n",
    "    .rename(columns={\"percentage\": \"post_covid_percent\"})\n",
    ")\n",
    "\n",
    "# Step 4: Clean and collect top pre-COVID categories\n",
    "records = []\n",
    "for table, series in top_categories_per_table.items():\n",
    "    for category, pre_pct in series.head(2).items():\n",
    "        records.append({\n",
    "            \"table\": table,\n",
    "            \"full_category\": category.strip(),  # clean here too\n",
    "            \"pre_covid_percent\": pre_pct\n",
    "        })\n",
    "\n",
    "df_top_categories = pd.DataFrame(records)"
   ]
  },
  {
   "cell_type": "code",
   "execution_count": 33,
   "metadata": {},
   "outputs": [],
   "source": [
    "def normalize(text):\n",
    "    return str(text).strip().lower().replace(\"–\", \"-\")\n"
   ]
  },
  {
   "cell_type": "code",
   "execution_count": 34,
   "metadata": {},
   "outputs": [],
   "source": [
    "postcovid = \"/Users/sarahyuhan/BostonBusEquity/2023.csv\"\n",
    "df_post = pd.read_csv(postcovid)\n",
    "\n",
    "# Standardize column names\n",
    "df_post.columns = df_post.columns.str.strip().str.lower()\n",
    "\n",
    "# Filter only bus routes\n",
    "df_post = df_post[df_post[\"service_mode\"] == \"Bus\"]\n",
    "\n",
    "# Rename and scale percentage\n",
    "df_post.rename(columns={\"weighted_percent\": \"percentage\"}, inplace=True)\n",
    "df_post[\"percentage\"] *= 100\n",
    "\n",
    "late_ids = above_avg_routes_2018[\"route_id\"].astype(str).unique()\n",
    "df_post = df_post[df_post[\"reporting_group\"].astype(str).isin(late_ids)]\n",
    "\n",
    "# Build combined category label using MEASURE instead of measure_group\n",
    "df_post[\"full_category\"] = df_post[\"measure\"] + \": \" + df_post[\"category\"]\n",
    "\n",
    "# Use entire dataset for analysis\n",
    "df_analysis = df_post.copy()\n",
    "\n",
    "# Group and compute averages by MEASURE and category\n",
    "category_analysis = (\n",
    "    df_analysis\n",
    "    .groupby([\"measure\", \"category\"])[\"percentage\"]\n",
    "    .mean()\n",
    "    .reset_index()\n",
    ")\n",
    "\n",
    "# Use MEASURE instead of measure_group to build full_category\n",
    "category_analysis[\"full_category\"] = category_analysis[\"measure\"].str.strip() + \": \" + category_analysis[\"category\"].str.strip()\n",
    "\n",
    "# Normalize\n",
    "import re\n",
    "def normalize(text):\n",
    "    if pd.isnull(text):\n",
    "        return \"\"\n",
    "    text = str(text).strip().lower()\n",
    "    text = re.sub(r\"[–—−]\", \"-\", text)\n",
    "    text = re.sub(r\"\\s+\", \" \", text)\n",
    "    text = text.replace(\":\", \": \")\n",
    "    return text.strip()\n",
    "\n",
    "category_analysis[\"full_category_clean\"] = category_analysis[\"full_category\"].apply(normalize)\n",
    "\n",
    "# --- Prepare pre-COVID top categories ---\n",
    "records = []\n",
    "for table, series in top_categories_per_table.items():\n",
    "    for category, pre_pct in series.head(2).items():\n",
    "        records.append({\n",
    "            \"table\": table,\n",
    "            \"full_category\": category.strip(),\n",
    "            \"pre_covid_percent\": pre_pct,\n",
    "            \"full_category_clean\": normalize(category)\n",
    "        })\n",
    "\n",
    "df_top_categories = pd.DataFrame(records)\n"
   ]
  },
  {
   "cell_type": "code",
   "execution_count": 35,
   "metadata": {},
   "outputs": [
    {
     "name": "stdout",
     "output_type": "stream",
     "text": [
      "Columns in category_analysis:\n",
      "['measure', 'category', 'percentage', 'full_category', 'full_category_clean']\n",
      "\n",
      "Sample of category_analysis before merge:\n",
      "                                       full_category  \\\n",
      "0              Ability to Understand English: Always   \n",
      "1               Ability to Understand English: Never   \n",
      "2               Ability to Understand English: Often   \n",
      "3   Ability to Understand English: Prefer not to say   \n",
      "4           Ability to Understand English: Sometimes   \n",
      "5  Access to First MBTA Service: Bike, Scooter or...   \n",
      "6  Access to First MBTA Service: Carpooled or Dro...   \n",
      "7          Access to First MBTA Service: Drove Alone   \n",
      "8  Access to First MBTA Service: Private Shuttle ...   \n",
      "9  Access to First MBTA Service: Taxi or Rideshar...   \n",
      "\n",
      "                                 full_category_clean  percentage  \n",
      "0             ability to understand english:  always   86.854728  \n",
      "1              ability to understand english:  never    1.372852  \n",
      "2              ability to understand english:  often    5.504352  \n",
      "3  ability to understand english:  prefer not to say    0.550482  \n",
      "4          ability to understand english:  sometimes    6.078630  \n",
      "5  access to first mbta service:  bike, scooter o...    1.154727  \n",
      "6  access to first mbta service:  carpooled or dr...    1.722312  \n",
      "7         access to first mbta service:  drove alone    0.427630  \n",
      "8  access to first mbta service:  private shuttle...    1.330139  \n",
      "9  access to first mbta service:  taxi or ridesha...    1.195485  \n"
     ]
    }
   ],
   "source": [
    "# Check columns\n",
    "print(\"Columns in category_analysis:\")\n",
    "print(category_analysis.columns.tolist())\n",
    "\n",
    "# Check cleaned categories and their percentages\n",
    "print(\"\\nSample of category_analysis before merge:\")\n",
    "print(category_analysis[[\"full_category\", \"full_category_clean\", \"percentage\"]].head(10))\n"
   ]
  },
  {
   "cell_type": "code",
   "execution_count": 36,
   "metadata": {},
   "outputs": [
    {
     "name": "stdout",
     "output_type": "stream",
     "text": [
      "Unmatched full_category_clean values:\n",
      "['trip frequency:  5 days a week', 'low-income:  no', 'low-income:  yes', 'english ability:  always', 'license:  yes', 'vehicles:  1', 'access:  walked or bicycled', 'previous mode:  rail rapid transit', 'use alt mode:  yes', 'alt mode:  take a different mbta service', 'hispanic:  no', 'pay-per-ride type:  charlie card (plastic)', 'monthly pass type:  linkpass or express bus']\n"
     ]
    }
   ],
   "source": [
    "# Check which keys are NOT matching\n",
    "unmatched = df_top_categories[\n",
    "    ~df_top_categories[\"full_category_clean\"].isin(category_analysis[\"full_category_clean\"])\n",
    "]\n",
    "\n",
    "print(\"Unmatched full_category_clean values:\")\n",
    "print(unmatched[\"full_category_clean\"].tolist())\n"
   ]
  },
  {
   "cell_type": "code",
   "execution_count": 37,
   "metadata": {},
   "outputs": [
    {
     "name": "stdout",
     "output_type": "stream",
     "text": [
      "\n",
      "Top pre-COVID categories:\n",
      "['access:  walked or bicycled' 'alt mode:  take a different mbta service'\n",
      " 'english ability:  always' 'gender:  woman' 'hispanic:  no'\n",
      " 'license:  yes' 'low-income:  no' 'low-income:  yes'\n",
      " 'monthly pass type:  linkpass or express bus'\n",
      " 'pay-per-ride type:  charlie card (plastic)'\n",
      " 'previous mode:  rail rapid transit' 'race:  white'\n",
      " 'trip frequency:  5 days a week' 'trip purpose:  home-based work'\n",
      " 'use alt mode:  yes' 'vehicles:  1']\n",
      "\n",
      "Post-COVID categories (from category_analysis):\n",
      "['ability to understand english:  always'\n",
      " 'ability to understand english:  never'\n",
      " 'ability to understand english:  often'\n",
      " 'ability to understand english:  prefer not to say'\n",
      " 'ability to understand english:  sometimes'\n",
      " 'access to first mbta service:  bike, scooter or other micromobility'\n",
      " 'access to first mbta service:  carpooled or dropped off by personal vehicle'\n",
      " 'access to first mbta service:  drove alone'\n",
      " 'access to first mbta service:  private shuttle or other transit'\n",
      " 'access to first mbta service:  taxi or rideshare company'\n",
      " 'access to first mbta service:  the ride'\n",
      " 'access to first mbta service:  walked' 'age:  18 to 25' 'age:  26 to 34'\n",
      " 'age:  35 to 44' 'age:  45 to 64' 'age:  65 or older' 'age:  under 18'\n",
      " 'alternative mode:  bike, scooter, or other micromobility'\n",
      " 'alternative mode:  different mbta service'\n",
      " 'alternative mode:  drive alone'\n",
      " 'alternative mode:  drive or ride in a carpool'\n",
      " 'alternative mode:  other'\n",
      " 'alternative mode:  private shuttle or other transit'\n",
      " 'alternative mode:  taxi or rideshare company' 'alternative mode:  walk'\n",
      " 'cars per capita:  0' 'cars per capita:  1 or more'\n",
      " 'cars per capita:  strictly between 0 and 0.5'\n",
      " 'cars per capita:  strictly between 0.5 and 1'\n",
      " 'fare product:  1-day pass' 'fare product:  7-day pass'\n",
      " 'fare product:  monthly pass' 'fare product:  other'\n",
      " 'fare product:  pay-as-you-go' 'fare product:  semester pass'\n",
      " 'fare product:  student pass (m7)' 'frequency:  1 to 2 days per week'\n",
      " 'frequency:  1 to 3 days per month' 'frequency:  3 to 4 days per week'\n",
      " 'frequency:  5 days per week' 'frequency:  6 to 7 days per week'\n",
      " 'frequency:  less than once per month' 'gender:  man'\n",
      " 'gender:  non-binary' 'gender:  other' 'gender:  prefer not to say'\n",
      " 'gender:  woman' 'hispanic or latino/latina:  no'\n",
      " 'hispanic or latino/latina:  prefer not to say'\n",
      " 'hispanic or latino/latina:  yes'\n",
      " 'household income:  100% to 140% of area median income'\n",
      " 'household income:  140% to 200% of area median income'\n",
      " 'household income:  200% or more of area median income'\n",
      " 'household income:  30% to 60% of area median income'\n",
      " 'household income:  60% to 80% of area median income'\n",
      " 'household income:  80% to 100% of area median income'\n",
      " 'household income:  less than 30% of area median income'\n",
      " 'household income:  prefer not to say'\n",
      " 'race:  american indian or alaska native' 'race:  asian'\n",
      " 'race:  black or african american'\n",
      " 'race:  middle eastern or north african'\n",
      " 'race:  native hawaiian or other pacific islander' 'race:  other'\n",
      " 'race:  prefer not to say' 'race:  white'\n",
      " 'reduced fares:  blind access charliecard' 'reduced fares:  full fare'\n",
      " 'reduced fares:  full fare - subsidized by employer'\n",
      " 'reduced fares:  other reduced or free fare'\n",
      " 'reduced fares:  senior charliecard'\n",
      " 'reduced fares:  student (s-card or m7)'\n",
      " 'reduced fares:  transportation access pass (tap)'\n",
      " 'reduced fares:  youth pass' 'title vi low-income:  no'\n",
      " 'title vi low-income:  yes' 'title vi minority:  no'\n",
      " 'title vi minority:  yes' 'trip purpose:  home-based other'\n",
      " 'trip purpose:  home-based school'\n",
      " 'trip purpose:  home-based social activity'\n",
      " 'trip purpose:  home-based work' 'trip purpose:  non-home based'\n",
      " 'usable cars:  0' 'usable cars:  1' 'usable cars:  2'\n",
      " 'usable cars:  3 or more' 'used alternative mode:  no'\n",
      " 'used alternative mode:  yes']\n"
     ]
    }
   ],
   "source": [
    "print(\"\\nTop pre-COVID categories:\")\n",
    "print(df_top_categories[\"full_category_clean\"].sort_values().unique())\n",
    "\n",
    "print(\"\\nPost-COVID categories (from category_analysis):\")\n",
    "print(category_analysis[\"full_category_clean\"].sort_values().unique())\n"
   ]
  },
  {
   "cell_type": "code",
   "execution_count": 38,
   "metadata": {},
   "outputs": [],
   "source": [
    "df_top_categories[\"full_category_clean\"] = df_top_categories[\"full_category\"].apply(normalize)\n",
    "category_analysis[\"full_category_clean\"] = category_analysis[\"full_category\"].apply(normalize)"
   ]
  },
  {
   "cell_type": "code",
   "execution_count": 39,
   "metadata": {},
   "outputs": [
    {
     "name": "stdout",
     "output_type": "stream",
     "text": [
      "\n",
      "Filtered pre-COVID categories:\n",
      "['access:  walked or bicycled' 'english ability:  always' 'gender:  woman'\n",
      " 'hispanic:  no' 'low-income:  no' 'low-income:  yes' 'race:  white'\n",
      " 'trip frequency:  5 days a week' 'trip purpose:  home-based work']\n"
     ]
    }
   ],
   "source": [
    "# filter the pre covid categories so only the relevant/important categories are kept\n",
    "keep_categories = ['access:  walked or bicycled', 'english ability:  always', 'gender:  woman', 'hispanic:  no', \n",
    "               'low-income:  no', 'low-income:  yes', 'race:  white', 'trip frequency:  5 days a week', \n",
    "               'trip purpose:  home-based work', ]\n",
    "df_top_categories = df_top_categories[df_top_categories[\"full_category_clean\"].isin(keep_categories)]\n",
    "\n",
    "# Sanity check\n",
    "print(\"\\nFiltered pre-COVID categories:\")\n",
    "print(df_top_categories[\"full_category_clean\"].sort_values().unique())\n"
   ]
  },
  {
   "cell_type": "code",
   "execution_count": 40,
   "metadata": {},
   "outputs": [],
   "source": [
    "# Mapping post-COVID full_category_clean to pre-COVID equivalent\n",
    "manual_map = {\n",
    "    \"access to first mbta service:  walked\": \"access: walked or bicycled\",\n",
    "    'gender:  woman': 'gender: woman',\n",
    "    'race:  white': 'race:  white',\n",
    "    \"access to first mbta service:  bike, scooter or other micromobility\": \"access: walked or bicycled\",\n",
    "    \"ability to understand english:  always\": 'english ability: always',\n",
    "    \"hispanic or latino/latina:  no\": \"hispanic: no\",\n",
    "    \"title vi low-income:  no\": 'low-income: no',\n",
    "    \"title vi low-income:  yes\": 'low-income: yes',\n",
    "    \"frequency:  5 days per week\": 'trip frequency: 5 days a week',\n",
    "    'trip purpose:  home-based work': 'trip purpose: home-based work'\n",
    "}\n",
    "category_analysis[\"full_category_clean_mapped\"] = category_analysis[\"full_category_clean\"].replace(manual_map)\n",
    "# Group by the new mapped category and average the percentage\n",
    "post_averages = (\n",
    "    category_analysis\n",
    "    .groupby(\"full_category_clean_mapped\")[\"percentage\"]\n",
    "    .mean()\n",
    "    .reset_index()\n",
    "    .rename(columns={\"full_category_clean_mapped\": \"full_category_clean\", \"percentage\": \"post_covid_percent\"})\n",
    ")\n",
    "keep_categories = [normalize(x) for x in keep_categories]\n",
    "df_top_categories[\"full_category_clean\"] = df_top_categories[\"full_category_clean\"].apply(normalize)\n",
    "category_analysis[\"full_category_clean\"] = category_analysis[\"full_category_clean\"].apply(normalize)\n"
   ]
  },
  {
   "cell_type": "code",
   "execution_count": 41,
   "metadata": {},
   "outputs": [
    {
     "name": "stdout",
     "output_type": "stream",
     "text": [
      "\n",
      "❌ These keep_categories do not match post-COVID data:\n",
      "['access:  walked or bicycled', 'english ability:  always', 'hispanic:  no', 'low-income:  no', 'low-income:  yes', 'trip frequency:  5 days a week']\n"
     ]
    }
   ],
   "source": [
    "missing_keeps = [k for k in keep_categories if k not in set(category_analysis[\"full_category_clean\"])]\n",
    "print(\"\\n❌ These keep_categories do not match post-COVID data:\")\n",
    "print(missing_keeps)\n"
   ]
  },
  {
   "cell_type": "code",
   "execution_count": 42,
   "metadata": {},
   "outputs": [
    {
     "name": "stdout",
     "output_type": "stream",
     "text": [
      "\n",
      "✅ Pre-COVID filtered categories:\n",
      "['access:  walked or bicycled', 'english ability:  always', 'gender:  woman', 'hispanic:  no', 'low-income:  no', 'low-income:  yes', 'race:  white', 'trip frequency:  5 days a week', 'trip purpose:  home-based work']\n"
     ]
    }
   ],
   "source": [
    "print(\"\\n✅ Pre-COVID filtered categories:\")\n",
    "print(sorted(df_top_categories[\"full_category_clean\"].unique()))\n"
   ]
  },
  {
   "cell_type": "code",
   "execution_count": 43,
   "metadata": {},
   "outputs": [
    {
     "ename": "NameError",
     "evalue": "name 'missing_keys' is not defined",
     "output_type": "error",
     "traceback": [
      "\u001b[0;31m---------------------------------------------------------------------------\u001b[0m",
      "\u001b[0;31mNameError\u001b[0m                                 Traceback (most recent call last)",
      "Cell \u001b[0;32mIn[43], line 3\u001b[0m\n\u001b[1;32m      1\u001b[0m \u001b[38;5;66;03m#debugging\u001b[39;00m\n\u001b[1;32m      2\u001b[0m \u001b[38;5;66;03m# Show likely near-matches for each missing key\u001b[39;00m\n\u001b[0;32m----> 3\u001b[0m \u001b[38;5;28;01mfor\u001b[39;00m missing_key \u001b[38;5;129;01min\u001b[39;00m \u001b[38;5;28msorted\u001b[39m(missing_keys):\n\u001b[1;32m      4\u001b[0m     \u001b[38;5;28mprint\u001b[39m(\u001b[38;5;124mf\u001b[39m\u001b[38;5;124m\"\u001b[39m\u001b[38;5;130;01m\\n\u001b[39;00m\u001b[38;5;124m🔍 Close matches for: \u001b[39m\u001b[38;5;132;01m{\u001b[39;00mmissing_key\u001b[38;5;132;01m}\u001b[39;00m\u001b[38;5;124m\"\u001b[39m)\n\u001b[1;32m      5\u001b[0m     candidates \u001b[38;5;241m=\u001b[39m [cat \u001b[38;5;28;01mfor\u001b[39;00m cat \u001b[38;5;129;01min\u001b[39;00m post_covid_categories \u001b[38;5;28;01mif\u001b[39;00m missing_key\u001b[38;5;241m.\u001b[39msplit(\u001b[38;5;124m\"\u001b[39m\u001b[38;5;124m:\u001b[39m\u001b[38;5;124m\"\u001b[39m)[\u001b[38;5;241m0\u001b[39m] \u001b[38;5;129;01min\u001b[39;00m cat]\n",
      "\u001b[0;31mNameError\u001b[0m: name 'missing_keys' is not defined"
     ]
    }
   ],
   "source": [
    "#debugging\n",
    "# Show likely near-matches for each missing key\n",
    "for missing_key in sorted(missing_keys):\n",
    "    print(f\"\\n🔍 Close matches for: {missing_key}\")\n",
    "    candidates = [cat for cat in post_covid_categories if missing_key.split(\":\")[0] in cat]\n",
    "    for cat in sorted(candidates):\n",
    "        print(f\"  → {cat}\")\n"
   ]
  },
  {
   "cell_type": "code",
   "execution_count": null,
   "metadata": {},
   "outputs": [],
   "source": [
    "common_keys = set(df_top_categories[\"full_category_clean\"]) & set(category_analysis[\"full_category_clean\"])\n",
    "print(f\"Matching normalized categories: {len(common_keys)} / {len(df_top_categories)}\")\n"
   ]
  },
  {
   "cell_type": "code",
   "execution_count": 44,
   "metadata": {},
   "outputs": [
    {
     "name": "stdout",
     "output_type": "stream",
     "text": [
      "Pre-COVID Percentages\n"
     ]
    },
    {
     "data": {
      "text/html": [
       "<div>\n",
       "<style scoped>\n",
       "    .dataframe tbody tr th:only-of-type {\n",
       "        vertical-align: middle;\n",
       "    }\n",
       "\n",
       "    .dataframe tbody tr th {\n",
       "        vertical-align: top;\n",
       "    }\n",
       "\n",
       "    .dataframe thead th {\n",
       "        text-align: right;\n",
       "    }\n",
       "</style>\n",
       "<table border=\"1\" class=\"dataframe\">\n",
       "  <thead>\n",
       "    <tr style=\"text-align: right;\">\n",
       "      <th></th>\n",
       "      <th>full_category_clean</th>\n",
       "      <th>pre_covid_percent</th>\n",
       "    </tr>\n",
       "  </thead>\n",
       "  <tbody>\n",
       "    <tr>\n",
       "      <th>0</th>\n",
       "      <td>access:  walked or bicycled</td>\n",
       "      <td>94.656566</td>\n",
       "    </tr>\n",
       "    <tr>\n",
       "      <th>1</th>\n",
       "      <td>english ability:  always</td>\n",
       "      <td>95.107527</td>\n",
       "    </tr>\n",
       "    <tr>\n",
       "      <th>2</th>\n",
       "      <td>gender:  woman</td>\n",
       "      <td>59.537634</td>\n",
       "    </tr>\n",
       "    <tr>\n",
       "      <th>3</th>\n",
       "      <td>hispanic:  no</td>\n",
       "      <td>84.456522</td>\n",
       "    </tr>\n",
       "    <tr>\n",
       "      <th>4</th>\n",
       "      <td>low-income:  no</td>\n",
       "      <td>65.600000</td>\n",
       "    </tr>\n",
       "    <tr>\n",
       "      <th>5</th>\n",
       "      <td>low-income:  yes</td>\n",
       "      <td>34.368421</td>\n",
       "    </tr>\n",
       "    <tr>\n",
       "      <th>6</th>\n",
       "      <td>race:  white</td>\n",
       "      <td>61.739130</td>\n",
       "    </tr>\n",
       "    <tr>\n",
       "      <th>7</th>\n",
       "      <td>trip frequency:  5 days a week</td>\n",
       "      <td>57.311111</td>\n",
       "    </tr>\n",
       "    <tr>\n",
       "      <th>8</th>\n",
       "      <td>trip purpose:  home-based work</td>\n",
       "      <td>74.377778</td>\n",
       "    </tr>\n",
       "  </tbody>\n",
       "</table>\n",
       "</div>"
      ],
      "text/plain": [
       "              full_category_clean  pre_covid_percent\n",
       "0     access:  walked or bicycled          94.656566\n",
       "1        english ability:  always          95.107527\n",
       "2                  gender:  woman          59.537634\n",
       "3                   hispanic:  no          84.456522\n",
       "4                 low-income:  no          65.600000\n",
       "5                low-income:  yes          34.368421\n",
       "6                    race:  white          61.739130\n",
       "7  trip frequency:  5 days a week          57.311111\n",
       "8  trip purpose:  home-based work          74.377778"
      ]
     },
     "metadata": {},
     "output_type": "display_data"
    },
    {
     "name": "stdout",
     "output_type": "stream",
     "text": [
      "Mapped Post-COVID Categories Only\n"
     ]
    },
    {
     "data": {
      "text/html": [
       "<div>\n",
       "<style scoped>\n",
       "    .dataframe tbody tr th:only-of-type {\n",
       "        vertical-align: middle;\n",
       "    }\n",
       "\n",
       "    .dataframe tbody tr th {\n",
       "        vertical-align: top;\n",
       "    }\n",
       "\n",
       "    .dataframe thead th {\n",
       "        text-align: right;\n",
       "    }\n",
       "</style>\n",
       "<table border=\"1\" class=\"dataframe\">\n",
       "  <thead>\n",
       "    <tr style=\"text-align: right;\">\n",
       "      <th></th>\n",
       "      <th>full_category_clean</th>\n",
       "      <th>post_covid_percent</th>\n",
       "    </tr>\n",
       "  </thead>\n",
       "  <tbody>\n",
       "    <tr>\n",
       "      <th>0</th>\n",
       "      <td>access:  walked or bicycled</td>\n",
       "      <td>47.586497</td>\n",
       "    </tr>\n",
       "    <tr>\n",
       "      <th>1</th>\n",
       "      <td>english ability:  always</td>\n",
       "      <td>86.854728</td>\n",
       "    </tr>\n",
       "    <tr>\n",
       "      <th>2</th>\n",
       "      <td>gender:  woman</td>\n",
       "      <td>58.057830</td>\n",
       "    </tr>\n",
       "    <tr>\n",
       "      <th>3</th>\n",
       "      <td>hispanic:  no</td>\n",
       "      <td>73.068487</td>\n",
       "    </tr>\n",
       "    <tr>\n",
       "      <th>4</th>\n",
       "      <td>low-income:  no</td>\n",
       "      <td>17.147486</td>\n",
       "    </tr>\n",
       "    <tr>\n",
       "      <th>5</th>\n",
       "      <td>low-income:  yes</td>\n",
       "      <td>82.852514</td>\n",
       "    </tr>\n",
       "    <tr>\n",
       "      <th>6</th>\n",
       "      <td>race:  white</td>\n",
       "      <td>40.825898</td>\n",
       "    </tr>\n",
       "    <tr>\n",
       "      <th>7</th>\n",
       "      <td>trip frequency:  5 days a week</td>\n",
       "      <td>45.535083</td>\n",
       "    </tr>\n",
       "    <tr>\n",
       "      <th>8</th>\n",
       "      <td>trip purpose:  home-based work</td>\n",
       "      <td>54.988806</td>\n",
       "    </tr>\n",
       "  </tbody>\n",
       "</table>\n",
       "</div>"
      ],
      "text/plain": [
       "              full_category_clean  post_covid_percent\n",
       "0     access:  walked or bicycled           47.586497\n",
       "1        english ability:  always           86.854728\n",
       "2                  gender:  woman           58.057830\n",
       "3                   hispanic:  no           73.068487\n",
       "4                 low-income:  no           17.147486\n",
       "5                low-income:  yes           82.852514\n",
       "6                    race:  white           40.825898\n",
       "7  trip frequency:  5 days a week           45.535083\n",
       "8  trip purpose:  home-based work           54.988806"
      ]
     },
     "metadata": {},
     "output_type": "display_data"
    }
   ],
   "source": [
    "print(\"Pre-COVID Percentages\")\n",
    "display(\n",
    "    df_top_categories[[\"full_category_clean\", \"pre_covid_percent\"]]\n",
    "    .sort_values(by=\"full_category_clean\")\n",
    "    .reset_index(drop=True)\n",
    ")\n",
    "\n",
    "manual_map_normalized = {\n",
    "    normalize(k): normalize(v) for k, v in manual_map.items()\n",
    "}\n",
    "\n",
    "# Step 2: Apply normalization and mapping to category_analysis\n",
    "category_analysis[\"full_category_clean\"] = category_analysis[\"full_category\"].apply(normalize)\n",
    "category_analysis[\"full_category_clean_mapped\"] = category_analysis[\"full_category_clean\"].replace(manual_map_normalized)\n",
    "\n",
    "# Step 3: Filter only rows that came from manual_map keys\n",
    "mapped_keys = list(manual_map_normalized.keys())\n",
    "post_filtered = category_analysis[\n",
    "    category_analysis[\"full_category_clean\"].isin(mapped_keys)\n",
    "]\n",
    "\n",
    "# Step 4: Group and average post-COVID percentages\n",
    "post_summary = (\n",
    "    post_filtered\n",
    "    .groupby(\"full_category_clean_mapped\")[\"percentage\"]\n",
    "    .mean()\n",
    "    .reset_index()\n",
    "    .rename(columns={\"full_category_clean_mapped\": \"full_category_clean\", \"percentage\": \"post_covid_percent\"})\n",
    ")\n",
    "\n",
    "# Step 5: Display the filtered post-COVID data\n",
    "print(\"Mapped Post-COVID Categories Only\")\n",
    "display(post_summary.sort_values(by=\"full_category_clean\").reset_index(drop=True))\n"
   ]
  },
  {
   "cell_type": "code",
   "execution_count": 45,
   "metadata": {},
   "outputs": [
    {
     "data": {
      "image/png": "[encoded data removed]",
      "text/plain": [
       "<Figure size 1400x600 with 1 Axes>"
      ]
     },
     "metadata": {},
     "output_type": "display_data"
    }
   ],
   "source": [
    "import matplotlib.pyplot as plt\n",
    "import seaborn as sns\n",
    "\n",
    "# Step 1: Prepare the data\n",
    "# Stack pre and post COVID percentages into a single dataframe\n",
    "pre_covid_plot = df_top_categories[[\"full_category_clean\", \"pre_covid_percent\"]].copy()\n",
    "pre_covid_plot[\"Period\"] = \"Pre-COVID\"\n",
    "pre_covid_plot = pre_covid_plot.rename(columns={\"pre_covid_percent\": \"Percentage\"})\n",
    "\n",
    "post_covid_plot = post_summary[[\"full_category_clean\", \"post_covid_percent\"]].copy()\n",
    "post_covid_plot[\"Period\"] = \"Post-COVID\"\n",
    "post_covid_plot = post_covid_plot.rename(columns={\"post_covid_percent\": \"Percentage\"})\n",
    "\n",
    "# Combine the two\n",
    "plot_df = pd.concat([pre_covid_plot, post_covid_plot], axis=0)\n",
    "\n",
    "# Step 2: Plot\n",
    "plt.figure(figsize=(14, 6))\n",
    "sns.barplot(\n",
    "    data=plot_df,\n",
    "    x=\"full_category_clean\",\n",
    "    y=\"Percentage\",\n",
    "    hue=\"Period\",       # Separate colors for Pre/Post COVID\n",
    "    palette=\"coolwarm\"\n",
    ")\n",
    "plt.xticks(rotation=90)\n",
    "plt.ylabel(\"Percentage (%)\")\n",
    "plt.title(\"Fixed-route rider profile: Pre-COVID vs Post-COVID on Late Routes\")\n",
    "plt.axhline(0, color=\"gray\", ls=\"--\")\n",
    "plt.legend(title=\"Survey Period\")\n",
    "plt.tight_layout()\n",
    "plt.show()\n"
   ]
  },
  {
   "cell_type": "code",
   "execution_count": null,
   "metadata": {},
   "outputs": [],
   "source": [
    "# merge\n",
    "# DOESNT WORK\n",
    "comparison_df = pd.merge(\n",
    "    df_top_categories,\n",
    "    category_analysis[[\"full_category_clean\", \"percentage\"]].rename(columns={\"percentage\": \"post_covid_percent\"}),\n",
    "    on=\"full_category_clean\",\n",
    "    how=\"left\"\n",
    ")\n",
    "\n",
    "comparison_df[\"percent_change\"] = (\n",
    "    (comparison_df[\"post_covid_percent\"] - comparison_df[\"pre_covid_percent\"]) /\n",
    "    comparison_df[\"pre_covid_percent\"]\n",
    ") * 100\n",
    "\n",
    "# --- Display final result ---\n",
    "display(comparison_df.sort_values(by=\"percent_change\", ascending=False))\n"
   ]
  },
  {
   "cell_type": "code",
   "execution_count": null,
   "metadata": {},
   "outputs": [],
   "source": [
    "df_top_categories = df_top_categories.merge(post_averages, on=\"full_category\", how=\"left\")\n",
    "df_top_categories[\"percent_change\"] = df_top_categories[\"post_covid_percent\"] - df_top_categories[\"pre_covid_percent\"]\n",
    "\n",
    "# Optional: Sort if needed\n",
    "df_top_categories = df_top_categories.sort_values(by=\"percent_change\", ascending=False)\n",
    "\n",
    "# Step 6: Plot\n",
    "plt.figure(figsize=(14, 6))\n",
    "sns.barplot(\n",
    "    data=df_top_categories,\n",
    "    x=\"table\",\n",
    "    y=\"percent_change\",\n",
    "    hue=\"full_category\"\n",
    ")\n",
    "\n",
    "# Formatting\n",
    "plt.title(\"Percent Change from Pre-COVID to Post-COVID (Top Categories by Table)\")\n",
    "plt.ylabel(\"Percentage Point Change\")\n",
    "plt.xlabel(\"Survey Table\")\n",
    "plt.axhline(0, color='gray', linestyle='--')\n",
    "plt.legend(title=\"Category\", bbox_to_anchor=(1.05, 1), loc=\"upper left\")\n",
    "plt.tight_layout()\n",
    "plt.grid(axis=\"y\", linestyle=\"--\", alpha=0.6)\n",
    "plt.show()"
   ]
  }
 ],
 "metadata": {
  "kernelspec": {
   "display_name": "base",
   "language": "python",
   "name": "python3"
  },
  "language_info": {
   "codemirror_mode": {
    "name": "ipython",
    "version": 3
   },
   "file_extension": ".py",
   "mimetype": "text/x-python",
   "name": "python",
   "nbconvert_exporter": "python",
   "pygments_lexer": "ipython3",
   "version": "3.11.5"
  }
 },
 "nbformat": 4,
 "nbformat_minor": 2
}
