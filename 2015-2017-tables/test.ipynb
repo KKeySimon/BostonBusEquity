{
 "cells": [
  {
   "cell_type": "code",
   "execution_count": 36,
   "metadata": {},
   "outputs": [],
   "source": [
    "import re\n",
    "import pandas as pd\n",
    "\n",
    "#file for making the tables for the 2015-2017 data"
   ]
  },
  {
   "cell_type": "code",
   "execution_count": 33,
   "metadata": {},
   "outputs": [],
   "source": [
    "#access modes\n",
    "COLUMNS = [\n",
    "    \"Access: Walked or bicycled\",\n",
    "    \"Access: Drove alone\",\n",
    "    \"Access: Carpooled\",\n",
    "    \"Access: Dropped off by personal vehicle\",\n",
    "    \"Access: Dropped off by other vehicle\",\n",
    "    \"Previous Mode: Bus or Silver Line\",\n",
    "    \"Previous Mode: Rail rapid transit\",\n",
    "    \"Previous Mode: Commuter rail or ferry\"\n",
    "]"
   ]
  },
  {
   "cell_type": "code",
   "execution_count": 2,
   "metadata": {},
   "outputs": [],
   "source": [
    "#alt modes\n",
    "COLUMNS = [\n",
    "    \"Use Alt Mode: Yes\",\n",
    "    \"Use Alt Mode: No\",\n",
    "    \"Alt Mode: Walk\",\n",
    "    \"Alt Mode: Bicycle\",\n",
    "    \"Alt Mode: Drive alone\",\n",
    "    \"Alt Mode: Drive or ride in a carpool\",\n",
    "    \"Alt Mode: Take a taxi or use a rideshare company\",\n",
    "    \"Alt Mode: Take a private shuttle or other transit\",\n",
    "    \"Alt Mode: Take a different MBTA service\",\n",
    "    \"Alt Mode: Other\"\n",
    "]"
   ]
  },
  {
   "cell_type": "code",
   "execution_count": 9,
   "metadata": {},
   "outputs": [],
   "source": [
    "#auto availability\n",
    "COLUMNS = [\n",
    "    \"Vehicles: 0\",\n",
    "    \"Vehicles: 1\",\n",
    "    \"Vehicles: 2\",\n",
    "    \"Vehicles: 3 or more\",\n",
    "    \n",
    "    \"Vehicles/Capita: None\",\n",
    "    \"Vehicles/Capita: 0.01–0.49\",\n",
    "    \"Vehicles/Capita: 0.50–0.99\",\n",
    "    \"Vehicles/Capita: 1.00–1.49\",\n",
    "    \"Vehicles/Capita: 1.50–1.99\",\n",
    "    \"Vehicles/Capita: 2 or more\",\n",
    "    \n",
    "    \"License: Yes\",\n",
    "    \"License: No\"\n",
    "]\n"
   ]
  },
  {
   "cell_type": "code",
   "execution_count": 21,
   "metadata": {},
   "outputs": [],
   "source": [
    "#income\n",
    "COLUMNS = [\n",
    "    \"Income: Less than $14,500\",\n",
    "    \"Income: $14,500 to $28,999\",\n",
    "    \"Income: $29,000 to $43,499\",\n",
    "    \"Income: $43,500 to $57,999\",\n",
    "    \"Income: $58,000 to $75,999\",\n",
    "    \"Income: $76,000 to $108,499\",\n",
    "    \"Income: $108,500 to $151,999\",\n",
    "    \"Income: $152,000 or more\",\n",
    "    \"Income: Prefer not to say\",\n",
    "    \"Low-income: Yes\",\n",
    "    \"Low-income: No\"\n",
    "]"
   ]
  },
  {
   "cell_type": "code",
   "execution_count": 26,
   "metadata": {},
   "outputs": [],
   "source": [
    "#race and ethnicity\n",
    "COLUMNS = [\n",
    "    \"Race: American Indian or Alaska Native\",\n",
    "    \"Race: Asian\",\n",
    "    \"Race: Black or African American\",\n",
    "    \"Race: Native Hawaiian or other Pacific Islander\",\n",
    "    \"Race: White\",\n",
    "    \"Race: Other\",\n",
    "    \"Race: Prefer not to say\",\n",
    "    \"Hispanic: Yes\",\n",
    "    \"Hispanic: No\",\n",
    "    \"Hispanic: Prefer not to say\",\n",
    "    \"Minority: Yes\",\n",
    "    \"Minority: No\"\n",
    "]"
   ]
  },
  {
   "cell_type": "code",
   "execution_count": 31,
   "metadata": {},
   "outputs": [],
   "source": [
    "#other demographics\n",
    "COLUMNS = [\n",
    "    \"Age: Under 18\",\n",
    "    \"Age: 18 to 21\",\n",
    "    \"Age: 22 to 34\",\n",
    "    \"Age: 35 to 44\",\n",
    "    \"Age: 45 to 64\",\n",
    "    \"Age: 65 or over\",\n",
    "    \n",
    "    \"Gender: Man\",\n",
    "    \"Gender: Woman\",\n",
    "    \"Gender: Other\",\n",
    "    \"Gender: Prefer not to say\",\n",
    "    \n",
    "    \"English Ability: Always\",\n",
    "    \"English Ability: Often\",\n",
    "    \"English Ability: Sometimes\",\n",
    "    \"English Ability: Never\",\n",
    "    \"English Ability: Prefer not to say\"\n",
    "]"
   ]
  },
  {
   "cell_type": "code",
   "execution_count": 32,
   "metadata": {},
   "outputs": [],
   "source": [
    "def parse_route_data(file_path):\n",
    "    with open(file_path, 'r') as f:\n",
    "        lines = f.readlines()\n",
    "\n",
    "    route_data = {}\n",
    "    pattern = re.compile(r\"Route\\s+([^\\:]+):\\s+(\\d+)\\s?%\")\n",
    "\n",
    "    for line in lines:\n",
    "        match = pattern.match(line.strip())\n",
    "        if match:\n",
    "            route, percent = match.groups()\n",
    "            percent = int(percent)\n",
    "            if route not in route_data:\n",
    "                route_data[route] = []\n",
    "            route_data[route].append(percent)\n",
    "\n",
    "    all_dataframes = {}\n",
    "    for route, percentages in route_data.items():\n",
    "\n",
    "        chunks = [percentages[i:i+15] for i in range(0, len(percentages), 15)]\n",
    "        complete_chunks = [chunk for chunk in chunks if len(chunk) == 15]\n",
    "\n",
    "\n",
    "        df = pd.DataFrame(complete_chunks, columns=COLUMNS)\n",
    "        all_dataframes[route] = df\n",
    "    \n",
    "    return all_dataframes"
   ]
  },
  {
   "cell_type": "code",
   "execution_count": 34,
   "metadata": {},
   "outputs": [
    {
     "name": "stdout",
     "output_type": "stream",
     "text": [
      "Route 1:\n",
      "   Access: Walked or bicycled  Access: Drove alone  Access: Carpooled  \\\n",
      "0                          65                    9                  7   \n",
      "\n",
      "   Access: Dropped off by personal vehicle  \\\n",
      "0                                        9   \n",
      "\n",
      "   Access: Dropped off by other vehicle  Previous Mode: Bus or Silver Line  \\\n",
      "0                                    10                                 14   \n",
      "\n",
      "   Previous Mode: Rail rapid transit  Previous Mode: Commuter rail or ferry  \n",
      "0                                 46                                     16  \n"
     ]
    }
   ],
   "source": [
    "route_dfs = parse_route_data(\"/Users/sarahyuhan/BostonBusEquity/trip_purpose_frequency.txt\")\n",
    "\n",
    "# Example: display Route 1 data\n",
    "print(\"Route 1:\")\n",
    "print(route_dfs['1'])"
   ]
  },
  {
   "cell_type": "code",
   "execution_count": 29,
   "metadata": {},
   "outputs": [],
   "source": [
    "route_dfs = parse_route_data(\"/Users/sarahyuhan/BostonBusEquity/fares_data.txt\")"
   ]
  },
  {
   "cell_type": "code",
   "execution_count": 35,
   "metadata": {},
   "outputs": [],
   "source": [
    "route_dfs = parse_route_data(\"/Users/sarahyuhan/BostonBusEquity/access_mode_data.txt\")"
   ]
  },
  {
   "cell_type": "code",
   "execution_count": 4,
   "metadata": {},
   "outputs": [],
   "source": [
    "route_dfs = parse_route_data(\"/Users/sarahyuhan/BostonBusEquity/2015-2017-tables/alt_mode_data.txt\")"
   ]
  },
  {
   "cell_type": "code",
   "execution_count": null,
   "metadata": {},
   "outputs": [],
   "source": [
    "route_dfs = parse_route_data(\"/Users/sarahyuhan/BostonBusEquity/2015-2017-tables/auto_availability_data.txt\")"
   ]
  },
  {
   "cell_type": "code",
   "execution_count": 23,
   "metadata": {},
   "outputs": [],
   "source": [
    "route_dfs = parse_route_data(\"/Users/sarahyuhan/BostonBusEquity/2015-2017-tables/income_data.txt\")"
   ]
  },
  {
   "cell_type": "code",
   "execution_count": 28,
   "metadata": {},
   "outputs": [],
   "source": [
    "route_dfs = parse_route_data(\"/Users/sarahyuhan/BostonBusEquity/2015-2017-tables/race_and_ethnicity_data.txt\")"
   ]
  },
  {
   "cell_type": "code",
   "execution_count": 33,
   "metadata": {},
   "outputs": [],
   "source": [
    "route_dfs = parse_route_data(\"/Users/sarahyuhan/BostonBusEquity/2015-2017-tables/other_demographics_data.txt\")"
   ]
  },
  {
   "cell_type": "code",
   "execution_count": 34,
   "metadata": {},
   "outputs": [],
   "source": [
    "def export_to_excel(route_dataframes, output_file):\n",
    "    # Combine all dataframes into one with route label\n",
    "    combined = []\n",
    "    for route, df in route_dataframes.items():\n",
    "        df_with_route = df.copy()\n",
    "        df_with_route.insert(0, \"Route\", route)  # Add route column\n",
    "        combined.append(df_with_route)\n",
    "    \n",
    "    final_df = pd.concat(combined, ignore_index=True)\n",
    "    final_df.to_excel(output_file, index=False)\n",
    "    print(f\"✅ Data exported to {output_file}\")\n"
   ]
  },
  {
   "cell_type": "code",
   "execution_count": 35,
   "metadata": {},
   "outputs": [
    {
     "name": "stdout",
     "output_type": "stream",
     "text": [
      "✅ Data exported to other_demographics_data_export.xlsx\n"
     ]
    }
   ],
   "source": [
    "route_dfs = parse_route_data(\"/Users/sarahyuhan/BostonBusEquity/2015-2017-tables/other_demographics_data.txt\")\n",
    "export_to_excel(route_dfs, \"other_demographics_data_export.xlsx\")"
   ]
  }
 ],
 "metadata": {
  "kernelspec": {
   "display_name": "base",
   "language": "python",
   "name": "python3"
  },
  "language_info": {
   "codemirror_mode": {
    "name": "ipython",
    "version": 3
   },
   "file_extension": ".py",
   "mimetype": "text/x-python",
   "name": "python",
   "nbconvert_exporter": "python",
   "pygments_lexer": "ipython3",
   "version": "3.11.5"
  }
 },
 "nbformat": 4,
 "nbformat_minor": 2
}
